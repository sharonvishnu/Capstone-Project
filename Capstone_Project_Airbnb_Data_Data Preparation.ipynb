{
 "cells": [
  {
   "cell_type": "code",
   "execution_count": 1,
   "id": "d414b039",
   "metadata": {},
   "outputs": [],
   "source": [
    "#Importing the necessary packages\n",
    "import pandas as pd\n",
    "import numpy as np\n",
    "import matplotlib.pyplot as plt\n",
    "import seaborn as sns\n",
    "import json\n",
    "from pandas.io.json import json_normalize\n",
    "import seaborn as sns\n",
    "#allow all columns to be viewed:\n",
    "pd.set_option('display.max_columns', None)\n",
    "#pd.set_option('display.max_rows', None)\n",
    "from scipy import stats\n",
    "from scipy.stats import pearsonr\n",
    "from scipy.stats import f_oneway"
   ]
  },
  {
   "cell_type": "markdown",
   "id": "db7abef8",
   "metadata": {},
   "source": [
    "## Calendar Table Analysis"
   ]
  },
  {
   "cell_type": "code",
   "execution_count": 2,
   "id": "60224564",
   "metadata": {},
   "outputs": [],
   "source": [
    "#Creating the dataframe\n",
    "calendar_df = pd.read_csv('calendar.csv')"
   ]
  },
  {
   "cell_type": "code",
   "execution_count": 3,
   "id": "5eeb634a",
   "metadata": {
    "scrolled": true
   },
   "outputs": [
    {
     "data": {
      "text/html": [
       "<div>\n",
       "<style scoped>\n",
       "    .dataframe tbody tr th:only-of-type {\n",
       "        vertical-align: middle;\n",
       "    }\n",
       "\n",
       "    .dataframe tbody tr th {\n",
       "        vertical-align: top;\n",
       "    }\n",
       "\n",
       "    .dataframe thead th {\n",
       "        text-align: right;\n",
       "    }\n",
       "</style>\n",
       "<table border=\"1\" class=\"dataframe\">\n",
       "  <thead>\n",
       "    <tr style=\"text-align: right;\">\n",
       "      <th></th>\n",
       "      <th>calender_id</th>\n",
       "      <th>listing_id</th>\n",
       "      <th>date</th>\n",
       "      <th>available</th>\n",
       "      <th>price</th>\n",
       "      <th>adjusted_price</th>\n",
       "      <th>minimum_nights</th>\n",
       "      <th>maximum_nights</th>\n",
       "    </tr>\n",
       "  </thead>\n",
       "  <tbody>\n",
       "    <tr>\n",
       "      <th>0</th>\n",
       "      <td>1</td>\n",
       "      <td>40334325</td>\n",
       "      <td>2022-08-03 00:00:00.000000</td>\n",
       "      <td>0</td>\n",
       "      <td>56.0</td>\n",
       "      <td>56.0</td>\n",
       "      <td>3</td>\n",
       "      <td>5</td>\n",
       "    </tr>\n",
       "    <tr>\n",
       "      <th>1</th>\n",
       "      <td>2</td>\n",
       "      <td>22742449</td>\n",
       "      <td>2022-11-13 00:00:00.000000</td>\n",
       "      <td>1</td>\n",
       "      <td>95.0</td>\n",
       "      <td>95.0</td>\n",
       "      <td>2</td>\n",
       "      <td>99</td>\n",
       "    </tr>\n",
       "    <tr>\n",
       "      <th>2</th>\n",
       "      <td>3</td>\n",
       "      <td>34621717</td>\n",
       "      <td>2022-04-17 00:00:00.000000</td>\n",
       "      <td>0</td>\n",
       "      <td>75.0</td>\n",
       "      <td>75.0</td>\n",
       "      <td>2</td>\n",
       "      <td>1125</td>\n",
       "    </tr>\n",
       "    <tr>\n",
       "      <th>3</th>\n",
       "      <td>4</td>\n",
       "      <td>38281744</td>\n",
       "      <td>2022-01-31 00:00:00.000000</td>\n",
       "      <td>1</td>\n",
       "      <td>150.0</td>\n",
       "      <td>150.0</td>\n",
       "      <td>1</td>\n",
       "      <td>1000</td>\n",
       "    </tr>\n",
       "    <tr>\n",
       "      <th>4</th>\n",
       "      <td>5</td>\n",
       "      <td>18835003</td>\n",
       "      <td>2022-05-21 00:00:00.000000</td>\n",
       "      <td>0</td>\n",
       "      <td>100.0</td>\n",
       "      <td>100.0</td>\n",
       "      <td>2</td>\n",
       "      <td>1125</td>\n",
       "    </tr>\n",
       "  </tbody>\n",
       "</table>\n",
       "</div>"
      ],
      "text/plain": [
       "   calender_id  listing_id                        date  available  price  \\\n",
       "0            1    40334325  2022-08-03 00:00:00.000000          0   56.0   \n",
       "1            2    22742449  2022-11-13 00:00:00.000000          1   95.0   \n",
       "2            3    34621717  2022-04-17 00:00:00.000000          0   75.0   \n",
       "3            4    38281744  2022-01-31 00:00:00.000000          1  150.0   \n",
       "4            5    18835003  2022-05-21 00:00:00.000000          0  100.0   \n",
       "\n",
       "   adjusted_price  minimum_nights  maximum_nights  \n",
       "0            56.0               3               5  \n",
       "1            95.0               2              99  \n",
       "2            75.0               2            1125  \n",
       "3           150.0               1            1000  \n",
       "4           100.0               2            1125  "
      ]
     },
     "execution_count": 3,
     "metadata": {},
     "output_type": "execute_result"
    }
   ],
   "source": [
    "#Analysing the first 5 rows\n",
    "calendar_df.head()"
   ]
  },
  {
   "cell_type": "code",
   "execution_count": 4,
   "id": "431e61be",
   "metadata": {},
   "outputs": [
    {
     "data": {
      "text/plain": [
       "(319192, 8)"
      ]
     },
     "execution_count": 4,
     "metadata": {},
     "output_type": "execute_result"
    }
   ],
   "source": [
    "#Finding number of rows and columns\n",
    "calendar_df.shape"
   ]
  },
  {
   "cell_type": "code",
   "execution_count": 5,
   "id": "85a63c1e",
   "metadata": {},
   "outputs": [
    {
     "data": {
      "text/plain": [
       "46810177    209\n",
       "42635704    208\n",
       "36963032    208\n",
       "2347414     208\n",
       "40129833    207\n",
       "           ... \n",
       "51134319    156\n",
       "50254843    155\n",
       "30414744    153\n",
       "52014982    151\n",
       "20781256    151\n",
       "Name: listing_id, Length: 1749, dtype: int64"
      ]
     },
     "execution_count": 5,
     "metadata": {},
     "output_type": "execute_result"
    }
   ],
   "source": [
    "#Calculating the frequency of each unique listing_id\n",
    "calendar_df['listing_id'].value_counts()"
   ]
  },
  {
   "cell_type": "code",
   "execution_count": 6,
   "id": "55643b02",
   "metadata": {},
   "outputs": [
    {
     "name": "stdout",
     "output_type": "stream",
     "text": [
      "<class 'pandas.core.frame.DataFrame'>\n",
      "RangeIndex: 319192 entries, 0 to 319191\n",
      "Data columns (total 8 columns):\n",
      " #   Column          Non-Null Count   Dtype  \n",
      "---  ------          --------------   -----  \n",
      " 0   calender_id     319192 non-null  int64  \n",
      " 1   listing_id      319192 non-null  int64  \n",
      " 2   date            319192 non-null  object \n",
      " 3   available       319192 non-null  int64  \n",
      " 4   price           319117 non-null  float64\n",
      " 5   adjusted_price  319117 non-null  float64\n",
      " 6   minimum_nights  319192 non-null  int64  \n",
      " 7   maximum_nights  319192 non-null  int64  \n",
      "dtypes: float64(2), int64(5), object(1)\n",
      "memory usage: 19.5+ MB\n"
     ]
    }
   ],
   "source": [
    "#Finding column names, data types and constraints\n",
    "calendar_df.info()"
   ]
  },
  {
   "cell_type": "code",
   "execution_count": 7,
   "id": "7204e5ae",
   "metadata": {},
   "outputs": [
    {
     "data": {
      "text/plain": [
       "calender_id        0\n",
       "listing_id         0\n",
       "date               0\n",
       "available          0\n",
       "price             75\n",
       "adjusted_price    75\n",
       "minimum_nights     0\n",
       "maximum_nights     0\n",
       "dtype: int64"
      ]
     },
     "execution_count": 7,
     "metadata": {},
     "output_type": "execute_result"
    }
   ],
   "source": [
    "#Analysing the null values\n",
    "calendar_df.isnull().sum()"
   ]
  },
  {
   "cell_type": "code",
   "execution_count": 8,
   "id": "bef67eeb",
   "metadata": {},
   "outputs": [
    {
     "data": {
      "text/html": [
       "<div>\n",
       "<style scoped>\n",
       "    .dataframe tbody tr th:only-of-type {\n",
       "        vertical-align: middle;\n",
       "    }\n",
       "\n",
       "    .dataframe tbody tr th {\n",
       "        vertical-align: top;\n",
       "    }\n",
       "\n",
       "    .dataframe thead th {\n",
       "        text-align: right;\n",
       "    }\n",
       "</style>\n",
       "<table border=\"1\" class=\"dataframe\">\n",
       "  <thead>\n",
       "    <tr style=\"text-align: right;\">\n",
       "      <th></th>\n",
       "      <th>calender_id</th>\n",
       "      <th>listing_id</th>\n",
       "      <th>available</th>\n",
       "      <th>price</th>\n",
       "      <th>adjusted_price</th>\n",
       "      <th>minimum_nights</th>\n",
       "      <th>maximum_nights</th>\n",
       "    </tr>\n",
       "  </thead>\n",
       "  <tbody>\n",
       "    <tr>\n",
       "      <th>count</th>\n",
       "      <td>319192.000000</td>\n",
       "      <td>3.191920e+05</td>\n",
       "      <td>319192.000000</td>\n",
       "      <td>319117.000000</td>\n",
       "      <td>319117.000000</td>\n",
       "      <td>319192.000000</td>\n",
       "      <td>319192.000000</td>\n",
       "    </tr>\n",
       "    <tr>\n",
       "      <th>mean</th>\n",
       "      <td>159596.500000</td>\n",
       "      <td>3.488528e+07</td>\n",
       "      <td>0.535192</td>\n",
       "      <td>109.917779</td>\n",
       "      <td>109.712131</td>\n",
       "      <td>5.379395</td>\n",
       "      <td>812.206102</td>\n",
       "    </tr>\n",
       "    <tr>\n",
       "      <th>std</th>\n",
       "      <td>92142.937899</td>\n",
       "      <td>1.523257e+07</td>\n",
       "      <td>0.498761</td>\n",
       "      <td>185.791168</td>\n",
       "      <td>185.551851</td>\n",
       "      <td>21.456127</td>\n",
       "      <td>511.622075</td>\n",
       "    </tr>\n",
       "    <tr>\n",
       "      <th>min</th>\n",
       "      <td>1.000000</td>\n",
       "      <td>5.090400e+04</td>\n",
       "      <td>0.000000</td>\n",
       "      <td>13.000000</td>\n",
       "      <td>13.000000</td>\n",
       "      <td>1.000000</td>\n",
       "      <td>1.000000</td>\n",
       "    </tr>\n",
       "    <tr>\n",
       "      <th>25%</th>\n",
       "      <td>79798.750000</td>\n",
       "      <td>2.338661e+07</td>\n",
       "      <td>0.000000</td>\n",
       "      <td>59.000000</td>\n",
       "      <td>58.000000</td>\n",
       "      <td>1.000000</td>\n",
       "      <td>365.000000</td>\n",
       "    </tr>\n",
       "    <tr>\n",
       "      <th>50%</th>\n",
       "      <td>159596.500000</td>\n",
       "      <td>3.891969e+07</td>\n",
       "      <td>1.000000</td>\n",
       "      <td>79.000000</td>\n",
       "      <td>79.000000</td>\n",
       "      <td>2.000000</td>\n",
       "      <td>1125.000000</td>\n",
       "    </tr>\n",
       "    <tr>\n",
       "      <th>75%</th>\n",
       "      <td>239394.250000</td>\n",
       "      <td>4.839174e+07</td>\n",
       "      <td>1.000000</td>\n",
       "      <td>115.000000</td>\n",
       "      <td>115.000000</td>\n",
       "      <td>3.000000</td>\n",
       "      <td>1125.000000</td>\n",
       "    </tr>\n",
       "    <tr>\n",
       "      <th>max</th>\n",
       "      <td>319192.000000</td>\n",
       "      <td>5.398332e+07</td>\n",
       "      <td>1.000000</td>\n",
       "      <td>5800.000000</td>\n",
       "      <td>5800.000000</td>\n",
       "      <td>500.000000</td>\n",
       "      <td>9999.000000</td>\n",
       "    </tr>\n",
       "  </tbody>\n",
       "</table>\n",
       "</div>"
      ],
      "text/plain": [
       "         calender_id    listing_id      available          price  \\\n",
       "count  319192.000000  3.191920e+05  319192.000000  319117.000000   \n",
       "mean   159596.500000  3.488528e+07       0.535192     109.917779   \n",
       "std     92142.937899  1.523257e+07       0.498761     185.791168   \n",
       "min         1.000000  5.090400e+04       0.000000      13.000000   \n",
       "25%     79798.750000  2.338661e+07       0.000000      59.000000   \n",
       "50%    159596.500000  3.891969e+07       1.000000      79.000000   \n",
       "75%    239394.250000  4.839174e+07       1.000000     115.000000   \n",
       "max    319192.000000  5.398332e+07       1.000000    5800.000000   \n",
       "\n",
       "       adjusted_price  minimum_nights  maximum_nights  \n",
       "count   319117.000000   319192.000000   319192.000000  \n",
       "mean       109.712131        5.379395      812.206102  \n",
       "std        185.551851       21.456127      511.622075  \n",
       "min         13.000000        1.000000        1.000000  \n",
       "25%         58.000000        1.000000      365.000000  \n",
       "50%         79.000000        2.000000     1125.000000  \n",
       "75%        115.000000        3.000000     1125.000000  \n",
       "max       5800.000000      500.000000     9999.000000  "
      ]
     },
     "execution_count": 8,
     "metadata": {},
     "output_type": "execute_result"
    }
   ],
   "source": [
    "#Summamry Stats for the numerical columns\n",
    "calendar_df.describe()"
   ]
  },
  {
   "cell_type": "code",
   "execution_count": 9,
   "id": "61e3309e",
   "metadata": {},
   "outputs": [],
   "source": [
    "#Changing datatype of date column\n",
    "calendar_df['date'] = pd.to_datetime(calendar_df['date'])"
   ]
  },
  {
   "cell_type": "code",
   "execution_count": 10,
   "id": "aa372c8f",
   "metadata": {},
   "outputs": [
    {
     "name": "stdout",
     "output_type": "stream",
     "text": [
      "<class 'pandas.core.frame.DataFrame'>\n",
      "RangeIndex: 319192 entries, 0 to 319191\n",
      "Data columns (total 8 columns):\n",
      " #   Column          Non-Null Count   Dtype         \n",
      "---  ------          --------------   -----         \n",
      " 0   calender_id     319192 non-null  int64         \n",
      " 1   listing_id      319192 non-null  int64         \n",
      " 2   date            319192 non-null  datetime64[ns]\n",
      " 3   available       319192 non-null  int64         \n",
      " 4   price           319117 non-null  float64       \n",
      " 5   adjusted_price  319117 non-null  float64       \n",
      " 6   minimum_nights  319192 non-null  int64         \n",
      " 7   maximum_nights  319192 non-null  int64         \n",
      "dtypes: datetime64[ns](1), float64(2), int64(5)\n",
      "memory usage: 19.5 MB\n"
     ]
    }
   ],
   "source": [
    "calendar_df.info()"
   ]
  },
  {
   "cell_type": "code",
   "execution_count": 11,
   "id": "4aec2d7e",
   "metadata": {},
   "outputs": [],
   "source": [
    "calendar_df['date'] = calendar_df['date'].dt.date"
   ]
  },
  {
   "cell_type": "markdown",
   "id": "aa06bed1",
   "metadata": {},
   "source": [
    "The datatype of the column is object and is displayed along with timestamp. "
   ]
  },
  {
   "cell_type": "code",
   "execution_count": 12,
   "id": "647a8ba1",
   "metadata": {},
   "outputs": [
    {
     "name": "stdout",
     "output_type": "stream",
     "text": [
      "<class 'pandas.core.frame.DataFrame'>\n",
      "RangeIndex: 319192 entries, 0 to 319191\n",
      "Data columns (total 8 columns):\n",
      " #   Column          Non-Null Count   Dtype  \n",
      "---  ------          --------------   -----  \n",
      " 0   calender_id     319192 non-null  int64  \n",
      " 1   listing_id      319192 non-null  int64  \n",
      " 2   date            319192 non-null  object \n",
      " 3   available       319192 non-null  int64  \n",
      " 4   price           319117 non-null  float64\n",
      " 5   adjusted_price  319117 non-null  float64\n",
      " 6   minimum_nights  319192 non-null  int64  \n",
      " 7   maximum_nights  319192 non-null  int64  \n",
      "dtypes: float64(2), int64(5), object(1)\n",
      "memory usage: 19.5+ MB\n"
     ]
    }
   ],
   "source": [
    "calendar_df.info()"
   ]
  },
  {
   "cell_type": "code",
   "execution_count": 13,
   "id": "e4498c58",
   "metadata": {},
   "outputs": [
    {
     "data": {
      "text/html": [
       "<div>\n",
       "<style scoped>\n",
       "    .dataframe tbody tr th:only-of-type {\n",
       "        vertical-align: middle;\n",
       "    }\n",
       "\n",
       "    .dataframe tbody tr th {\n",
       "        vertical-align: top;\n",
       "    }\n",
       "\n",
       "    .dataframe thead th {\n",
       "        text-align: right;\n",
       "    }\n",
       "</style>\n",
       "<table border=\"1\" class=\"dataframe\">\n",
       "  <thead>\n",
       "    <tr style=\"text-align: right;\">\n",
       "      <th></th>\n",
       "      <th>calender_id</th>\n",
       "      <th>listing_id</th>\n",
       "      <th>date</th>\n",
       "      <th>available</th>\n",
       "      <th>price</th>\n",
       "      <th>adjusted_price</th>\n",
       "      <th>minimum_nights</th>\n",
       "      <th>maximum_nights</th>\n",
       "    </tr>\n",
       "  </thead>\n",
       "  <tbody>\n",
       "    <tr>\n",
       "      <th>0</th>\n",
       "      <td>1</td>\n",
       "      <td>40334325</td>\n",
       "      <td>2022-08-03</td>\n",
       "      <td>0</td>\n",
       "      <td>56.0</td>\n",
       "      <td>56.0</td>\n",
       "      <td>3</td>\n",
       "      <td>5</td>\n",
       "    </tr>\n",
       "    <tr>\n",
       "      <th>1</th>\n",
       "      <td>2</td>\n",
       "      <td>22742449</td>\n",
       "      <td>2022-11-13</td>\n",
       "      <td>1</td>\n",
       "      <td>95.0</td>\n",
       "      <td>95.0</td>\n",
       "      <td>2</td>\n",
       "      <td>99</td>\n",
       "    </tr>\n",
       "    <tr>\n",
       "      <th>2</th>\n",
       "      <td>3</td>\n",
       "      <td>34621717</td>\n",
       "      <td>2022-04-17</td>\n",
       "      <td>0</td>\n",
       "      <td>75.0</td>\n",
       "      <td>75.0</td>\n",
       "      <td>2</td>\n",
       "      <td>1125</td>\n",
       "    </tr>\n",
       "    <tr>\n",
       "      <th>3</th>\n",
       "      <td>4</td>\n",
       "      <td>38281744</td>\n",
       "      <td>2022-01-31</td>\n",
       "      <td>1</td>\n",
       "      <td>150.0</td>\n",
       "      <td>150.0</td>\n",
       "      <td>1</td>\n",
       "      <td>1000</td>\n",
       "    </tr>\n",
       "    <tr>\n",
       "      <th>4</th>\n",
       "      <td>5</td>\n",
       "      <td>18835003</td>\n",
       "      <td>2022-05-21</td>\n",
       "      <td>0</td>\n",
       "      <td>100.0</td>\n",
       "      <td>100.0</td>\n",
       "      <td>2</td>\n",
       "      <td>1125</td>\n",
       "    </tr>\n",
       "  </tbody>\n",
       "</table>\n",
       "</div>"
      ],
      "text/plain": [
       "   calender_id  listing_id        date  available  price  adjusted_price  \\\n",
       "0            1    40334325  2022-08-03          0   56.0            56.0   \n",
       "1            2    22742449  2022-11-13          1   95.0            95.0   \n",
       "2            3    34621717  2022-04-17          0   75.0            75.0   \n",
       "3            4    38281744  2022-01-31          1  150.0           150.0   \n",
       "4            5    18835003  2022-05-21          0  100.0           100.0   \n",
       "\n",
       "   minimum_nights  maximum_nights  \n",
       "0               3               5  \n",
       "1               2              99  \n",
       "2               2            1125  \n",
       "3               1            1000  \n",
       "4               2            1125  "
      ]
     },
     "execution_count": 13,
     "metadata": {},
     "output_type": "execute_result"
    }
   ],
   "source": [
    "calendar_df.head()"
   ]
  },
  {
   "cell_type": "code",
   "execution_count": 14,
   "id": "f30e48e8",
   "metadata": {},
   "outputs": [
    {
     "data": {
      "text/plain": [
       "109.91777937245587"
      ]
     },
     "execution_count": 14,
     "metadata": {},
     "output_type": "execute_result"
    }
   ],
   "source": [
    "#Null value treatment, finding mean\n",
    "calendar_df['price'].mean()"
   ]
  },
  {
   "cell_type": "markdown",
   "id": "c99d0764",
   "metadata": {},
   "source": [
    "The price column is continuos and numerical. So imputing with mean is the appropriate option for Null value treatment"
   ]
  },
  {
   "cell_type": "code",
   "execution_count": 15,
   "id": "164f7b72",
   "metadata": {},
   "outputs": [],
   "source": [
    "#imputation of mean\n",
    "calendar_df['price'].fillna(calendar_df['price'].mean(),inplace =True)"
   ]
  },
  {
   "cell_type": "code",
   "execution_count": 16,
   "id": "fb44da39",
   "metadata": {},
   "outputs": [
    {
     "data": {
      "text/plain": [
       "0"
      ]
     },
     "execution_count": 16,
     "metadata": {},
     "output_type": "execute_result"
    }
   ],
   "source": [
    "calendar_df['price'].isnull().sum()"
   ]
  },
  {
   "cell_type": "markdown",
   "id": "9afbb19b",
   "metadata": {},
   "source": [
    "#### Task 1: Number of rows and unique listing ids"
   ]
  },
  {
   "cell_type": "code",
   "execution_count": 17,
   "id": "9c190550",
   "metadata": {},
   "outputs": [
    {
     "name": "stdout",
     "output_type": "stream",
     "text": [
      "Number of rows in calendar is 319192\n",
      "Number of unique listing_ids in calendar table is 1749\n"
     ]
    }
   ],
   "source": [
    "#Number of rows and unique listing_id(Task1)\n",
    "No_of_rows_in_calendar = calendar_df.shape[0]\n",
    "print(\"Number of rows in calendar is\",No_of_rows_in_calendar)\n",
    "Calendar_unique_listing_id = calendar_df['listing_id'].nunique()\n",
    "print(\"Number of unique listing_ids in calendar table is\",Calendar_unique_listing_id)"
   ]
  },
  {
   "cell_type": "markdown",
   "id": "d841aad7",
   "metadata": {},
   "source": [
    "From the above data we can interpret that the properties have been listed multiple times in AirBnb. "
   ]
  },
  {
   "cell_type": "code",
   "execution_count": 18,
   "id": "343a4e4f",
   "metadata": {},
   "outputs": [
    {
     "name": "stdout",
     "output_type": "stream",
     "text": [
      "0\n"
     ]
    }
   ],
   "source": [
    "#Finding the duplicate rows\n",
    "duplicate_rows = calendar_df.duplicated(subset = ['calender_id'])\n",
    "number_of_duplicate_rows = duplicate_rows.sum()\n",
    "print(number_of_duplicate_rows)"
   ]
  },
  {
   "cell_type": "markdown",
   "id": "c0780c8e",
   "metadata": {},
   "source": [
    "As there are no duplicate rows present we dont have to remove any duplicate data"
   ]
  },
  {
   "cell_type": "code",
   "execution_count": 19,
   "id": "cbd98ef7",
   "metadata": {},
   "outputs": [
    {
     "data": {
      "text/plain": [
       "75.0     12524\n",
       "65.0     11543\n",
       "80.0     11357\n",
       "60.0     10739\n",
       "49.0     10470\n",
       "         ...  \n",
       "347.0        1\n",
       "352.0        1\n",
       "682.0        1\n",
       "623.0        1\n",
       "404.0        1\n",
       "Name: price, Length: 599, dtype: int64"
      ]
     },
     "execution_count": 19,
     "metadata": {},
     "output_type": "execute_result"
    }
   ],
   "source": [
    "calendar_df['price'].value_counts()"
   ]
  },
  {
   "cell_type": "code",
   "execution_count": 20,
   "id": "af53023b",
   "metadata": {},
   "outputs": [
    {
     "name": "stdout",
     "output_type": "stream",
     "text": [
      "        calender_id  listing_id        date  available   price  \\\n",
      "7                 8    36963744  2022-11-30          0  1000.0   \n",
      "11               12    31130575  2022-09-04          1   240.0   \n",
      "16               17    41703665  2022-11-02          0   200.0   \n",
      "23               24    48193498  2022-04-28          0   300.0   \n",
      "25               26    27479453  2022-09-18          0   250.0   \n",
      "...             ...         ...         ...        ...     ...   \n",
      "319122       319123    53355067  2022-08-11          1   650.0   \n",
      "319150       319151    39482529  2022-12-10          0   520.0   \n",
      "319166       319167    23364073  2022-10-07          1   343.0   \n",
      "319174       319175    49046146  2022-02-13          1   280.0   \n",
      "319181       319182    35206126  2022-03-14          1   220.0   \n",
      "\n",
      "        adjusted_price  minimum_nights  maximum_nights  \n",
      "7               1000.0               1             999  \n",
      "11               240.0               2            1125  \n",
      "16               200.0               7            1125  \n",
      "23               300.0               4             365  \n",
      "25               250.0               2            1125  \n",
      "...                ...             ...             ...  \n",
      "319122           585.0               1            1125  \n",
      "319150           468.0               1              99  \n",
      "319166           343.0               2            1125  \n",
      "319174           280.0               2            1125  \n",
      "319181           220.0               4              21  \n",
      "\n",
      "[26920 rows x 8 columns]\n"
     ]
    }
   ],
   "source": [
    "price_higher = calendar_df[calendar_df['price']>199]\n",
    "print(price_higher)"
   ]
  },
  {
   "cell_type": "code",
   "execution_count": 21,
   "id": "036a0c52",
   "metadata": {},
   "outputs": [],
   "source": [
    "import seaborn as sns"
   ]
  },
  {
   "cell_type": "code",
   "execution_count": 22,
   "id": "17c34a12",
   "metadata": {},
   "outputs": [
    {
     "data": {
      "text/plain": [
       "<Axes: xlabel='price'>"
      ]
     },
     "execution_count": 22,
     "metadata": {},
     "output_type": "execute_result"
    },
    {
     "data": {
      "image/png": "[encoded data removed]",
      "text/plain": [
       "<Figure size 800x400 with 1 Axes>"
      ]
     },
     "metadata": {},
     "output_type": "display_data"
    }
   ],
   "source": [
    "plt.figure(figsize = (8,4))\n",
    "sns.boxplot(x='price', data = calendar_df)\n"
   ]
  },
  {
   "cell_type": "code",
   "execution_count": 23,
   "id": "60025a1a",
   "metadata": {},
   "outputs": [
    {
     "data": {
      "image/png": "[encoded data removed]",
      "text/plain": [
       "<Figure size 800x600 with 1 Axes>"
      ]
     },
     "metadata": {},
     "output_type": "display_data"
    }
   ],
   "source": [
    "plt.figure(figsize=(8, 6))\n",
    "plt.hist(calendar_df['price'], bins=30, color='skyblue', edgecolor='black')\n",
    "plt.xlabel('Price')\n",
    "plt.ylabel('Frequency')\n",
    "plt.title('Histogram of Price')\n",
    "plt.grid(True)\n",
    "plt.show()"
   ]
  },
  {
   "cell_type": "code",
   "execution_count": 24,
   "id": "0946999b",
   "metadata": {},
   "outputs": [],
   "source": [
    "#Outlier Treatment\n",
    "def outlier_treatment(column_name):\n",
    "    sorted(column_name)\n",
    "    Q1,Q3 =np.percentile(column_name,[25,75])\n",
    "    IQR = Q3-Q1\n",
    "    lower_range = Q1-(1.5*IQR)\n",
    "    upper_range = Q3+(1.5*IQR)\n",
    "    return lower_range,upper_range\n",
    "    "
   ]
  },
  {
   "cell_type": "code",
   "execution_count": 25,
   "id": "0c585c76",
   "metadata": {},
   "outputs": [
    {
     "name": "stdout",
     "output_type": "stream",
     "text": [
      "-25.0 199.0\n"
     ]
    }
   ],
   "source": [
    "lower,upper = outlier_treatment(calendar_df['price'])\n",
    "print(lower,upper)"
   ]
  },
  {
   "cell_type": "code",
   "execution_count": 26,
   "id": "307e045d",
   "metadata": {},
   "outputs": [],
   "source": [
    "\n",
    "    #Replacing outliers with lower or upper values\n",
    "    def treat_outliers(column_name):\n",
    "        \n",
    "        lower,upper = outlier_treatment(calendar_df['price'])\n",
    "    \n",
    "        calendar_df['price'] = np.where(calendar_df['price']<lower,lower, calendar_df['price'])\n",
    "        calendar_df['price'] = np.where(calendar_df['price']>upper,upper, calendar_df['price'])\n",
    "        \n",
    "        return column_name\n",
    "    \n",
    "    "
   ]
  },
  {
   "cell_type": "code",
   "execution_count": 27,
   "id": "bfdc2f85",
   "metadata": {},
   "outputs": [],
   "source": [
    "calendar_df['price_treated']= treat_outliers(calendar_df['price'])"
   ]
  },
  {
   "cell_type": "code",
   "execution_count": 28,
   "id": "1598e83f",
   "metadata": {},
   "outputs": [
    {
     "data": {
      "text/html": [
       "<div>\n",
       "<style scoped>\n",
       "    .dataframe tbody tr th:only-of-type {\n",
       "        vertical-align: middle;\n",
       "    }\n",
       "\n",
       "    .dataframe tbody tr th {\n",
       "        vertical-align: top;\n",
       "    }\n",
       "\n",
       "    .dataframe thead th {\n",
       "        text-align: right;\n",
       "    }\n",
       "</style>\n",
       "<table border=\"1\" class=\"dataframe\">\n",
       "  <thead>\n",
       "    <tr style=\"text-align: right;\">\n",
       "      <th></th>\n",
       "      <th>calender_id</th>\n",
       "      <th>listing_id</th>\n",
       "      <th>date</th>\n",
       "      <th>available</th>\n",
       "      <th>price</th>\n",
       "      <th>adjusted_price</th>\n",
       "      <th>minimum_nights</th>\n",
       "      <th>maximum_nights</th>\n",
       "      <th>price_treated</th>\n",
       "    </tr>\n",
       "  </thead>\n",
       "  <tbody>\n",
       "    <tr>\n",
       "      <th>0</th>\n",
       "      <td>1</td>\n",
       "      <td>40334325</td>\n",
       "      <td>2022-08-03</td>\n",
       "      <td>0</td>\n",
       "      <td>56.0</td>\n",
       "      <td>56.0</td>\n",
       "      <td>3</td>\n",
       "      <td>5</td>\n",
       "      <td>56.0</td>\n",
       "    </tr>\n",
       "    <tr>\n",
       "      <th>1</th>\n",
       "      <td>2</td>\n",
       "      <td>22742449</td>\n",
       "      <td>2022-11-13</td>\n",
       "      <td>1</td>\n",
       "      <td>95.0</td>\n",
       "      <td>95.0</td>\n",
       "      <td>2</td>\n",
       "      <td>99</td>\n",
       "      <td>95.0</td>\n",
       "    </tr>\n",
       "    <tr>\n",
       "      <th>2</th>\n",
       "      <td>3</td>\n",
       "      <td>34621717</td>\n",
       "      <td>2022-04-17</td>\n",
       "      <td>0</td>\n",
       "      <td>75.0</td>\n",
       "      <td>75.0</td>\n",
       "      <td>2</td>\n",
       "      <td>1125</td>\n",
       "      <td>75.0</td>\n",
       "    </tr>\n",
       "    <tr>\n",
       "      <th>3</th>\n",
       "      <td>4</td>\n",
       "      <td>38281744</td>\n",
       "      <td>2022-01-31</td>\n",
       "      <td>1</td>\n",
       "      <td>150.0</td>\n",
       "      <td>150.0</td>\n",
       "      <td>1</td>\n",
       "      <td>1000</td>\n",
       "      <td>150.0</td>\n",
       "    </tr>\n",
       "    <tr>\n",
       "      <th>4</th>\n",
       "      <td>5</td>\n",
       "      <td>18835003</td>\n",
       "      <td>2022-05-21</td>\n",
       "      <td>0</td>\n",
       "      <td>100.0</td>\n",
       "      <td>100.0</td>\n",
       "      <td>2</td>\n",
       "      <td>1125</td>\n",
       "      <td>100.0</td>\n",
       "    </tr>\n",
       "  </tbody>\n",
       "</table>\n",
       "</div>"
      ],
      "text/plain": [
       "   calender_id  listing_id        date  available  price  adjusted_price  \\\n",
       "0            1    40334325  2022-08-03          0   56.0            56.0   \n",
       "1            2    22742449  2022-11-13          1   95.0            95.0   \n",
       "2            3    34621717  2022-04-17          0   75.0            75.0   \n",
       "3            4    38281744  2022-01-31          1  150.0           150.0   \n",
       "4            5    18835003  2022-05-21          0  100.0           100.0   \n",
       "\n",
       "   minimum_nights  maximum_nights  price_treated  \n",
       "0               3               5           56.0  \n",
       "1               2              99           95.0  \n",
       "2               2            1125           75.0  \n",
       "3               1            1000          150.0  \n",
       "4               2            1125          100.0  "
      ]
     },
     "execution_count": 28,
     "metadata": {},
     "output_type": "execute_result"
    }
   ],
   "source": [
    "calendar_df.head()"
   ]
  },
  {
   "cell_type": "code",
   "execution_count": 29,
   "id": "fcfa52a6",
   "metadata": {},
   "outputs": [
    {
     "data": {
      "text/html": [
       "<div>\n",
       "<style scoped>\n",
       "    .dataframe tbody tr th:only-of-type {\n",
       "        vertical-align: middle;\n",
       "    }\n",
       "\n",
       "    .dataframe tbody tr th {\n",
       "        vertical-align: top;\n",
       "    }\n",
       "\n",
       "    .dataframe thead th {\n",
       "        text-align: right;\n",
       "    }\n",
       "</style>\n",
       "<table border=\"1\" class=\"dataframe\">\n",
       "  <thead>\n",
       "    <tr style=\"text-align: right;\">\n",
       "      <th></th>\n",
       "      <th>calender_id</th>\n",
       "      <th>listing_id</th>\n",
       "      <th>date</th>\n",
       "      <th>available</th>\n",
       "      <th>price</th>\n",
       "      <th>adjusted_price</th>\n",
       "      <th>minimum_nights</th>\n",
       "      <th>maximum_nights</th>\n",
       "      <th>price_treated</th>\n",
       "    </tr>\n",
       "  </thead>\n",
       "  <tbody>\n",
       "    <tr>\n",
       "      <th>319187</th>\n",
       "      <td>319188</td>\n",
       "      <td>52729945</td>\n",
       "      <td>2022-07-06</td>\n",
       "      <td>1</td>\n",
       "      <td>64.0</td>\n",
       "      <td>64.0</td>\n",
       "      <td>1</td>\n",
       "      <td>10</td>\n",
       "      <td>64.0</td>\n",
       "    </tr>\n",
       "    <tr>\n",
       "      <th>319188</th>\n",
       "      <td>319189</td>\n",
       "      <td>36953202</td>\n",
       "      <td>2022-07-08</td>\n",
       "      <td>0</td>\n",
       "      <td>140.0</td>\n",
       "      <td>140.0</td>\n",
       "      <td>3</td>\n",
       "      <td>1125</td>\n",
       "      <td>140.0</td>\n",
       "    </tr>\n",
       "    <tr>\n",
       "      <th>319189</th>\n",
       "      <td>319190</td>\n",
       "      <td>39580214</td>\n",
       "      <td>2022-06-13</td>\n",
       "      <td>1</td>\n",
       "      <td>49.0</td>\n",
       "      <td>49.0</td>\n",
       "      <td>1</td>\n",
       "      <td>13</td>\n",
       "      <td>49.0</td>\n",
       "    </tr>\n",
       "    <tr>\n",
       "      <th>319190</th>\n",
       "      <td>319191</td>\n",
       "      <td>49016014</td>\n",
       "      <td>2022-10-26</td>\n",
       "      <td>0</td>\n",
       "      <td>60.0</td>\n",
       "      <td>60.0</td>\n",
       "      <td>2</td>\n",
       "      <td>30</td>\n",
       "      <td>60.0</td>\n",
       "    </tr>\n",
       "    <tr>\n",
       "      <th>319191</th>\n",
       "      <td>319192</td>\n",
       "      <td>31438714</td>\n",
       "      <td>2022-06-12</td>\n",
       "      <td>0</td>\n",
       "      <td>104.0</td>\n",
       "      <td>104.0</td>\n",
       "      <td>2</td>\n",
       "      <td>1125</td>\n",
       "      <td>104.0</td>\n",
       "    </tr>\n",
       "  </tbody>\n",
       "</table>\n",
       "</div>"
      ],
      "text/plain": [
       "        calender_id  listing_id        date  available  price  adjusted_price  \\\n",
       "319187       319188    52729945  2022-07-06          1   64.0            64.0   \n",
       "319188       319189    36953202  2022-07-08          0  140.0           140.0   \n",
       "319189       319190    39580214  2022-06-13          1   49.0            49.0   \n",
       "319190       319191    49016014  2022-10-26          0   60.0            60.0   \n",
       "319191       319192    31438714  2022-06-12          0  104.0           104.0   \n",
       "\n",
       "        minimum_nights  maximum_nights  price_treated  \n",
       "319187               1              10           64.0  \n",
       "319188               3            1125          140.0  \n",
       "319189               1              13           49.0  \n",
       "319190               2              30           60.0  \n",
       "319191               2            1125          104.0  "
      ]
     },
     "execution_count": 29,
     "metadata": {},
     "output_type": "execute_result"
    }
   ],
   "source": [
    "calendar_df.tail()"
   ]
  },
  {
   "cell_type": "code",
   "execution_count": 30,
   "id": "59d30321",
   "metadata": {},
   "outputs": [
    {
     "name": "stdout",
     "output_type": "stream",
     "text": [
      "        calender_id  listing_id        date  available  price  adjusted_price  \\\n",
      "7                 8    36963744  2022-11-30          0  199.0          1000.0   \n",
      "11               12    31130575  2022-09-04          1  199.0           240.0   \n",
      "16               17    41703665  2022-11-02          0  199.0           200.0   \n",
      "23               24    48193498  2022-04-28          0  199.0           300.0   \n",
      "25               26    27479453  2022-09-18          0  199.0           250.0   \n",
      "...             ...         ...         ...        ...    ...             ...   \n",
      "319122       319123    53355067  2022-08-11          1  199.0           585.0   \n",
      "319150       319151    39482529  2022-12-10          0  199.0           468.0   \n",
      "319166       319167    23364073  2022-10-07          1  199.0           343.0   \n",
      "319174       319175    49046146  2022-02-13          1  199.0           280.0   \n",
      "319181       319182    35206126  2022-03-14          1  199.0           220.0   \n",
      "\n",
      "        minimum_nights  maximum_nights  price_treated  \n",
      "7                    1             999         1000.0  \n",
      "11                   2            1125          240.0  \n",
      "16                   7            1125          200.0  \n",
      "23                   4             365          300.0  \n",
      "25                   2            1125          250.0  \n",
      "...                ...             ...            ...  \n",
      "319122               1            1125          650.0  \n",
      "319150               1              99          520.0  \n",
      "319166               2            1125          343.0  \n",
      "319174               2            1125          280.0  \n",
      "319181               4              21          220.0  \n",
      "\n",
      "[26920 rows x 9 columns]\n"
     ]
    }
   ],
   "source": [
    "price_higher = calendar_df[calendar_df['price_treated']>199]\n",
    "print(price_higher)"
   ]
  },
  {
   "cell_type": "code",
   "execution_count": 31,
   "id": "ef294df3",
   "metadata": {},
   "outputs": [
    {
     "data": {
      "text/plain": [
       "<Axes: xlabel='price'>"
      ]
     },
     "execution_count": 31,
     "metadata": {},
     "output_type": "execute_result"
    },
    {
     "data": {
      "image/png": "[encoded data removed]",
      "text/plain": [
       "<Figure size 800x600 with 1 Axes>"
      ]
     },
     "metadata": {},
     "output_type": "display_data"
    }
   ],
   "source": [
    "plt.figure(figsize = (8,6))\n",
    "sns.boxplot(x='price', data = calendar_df)"
   ]
  },
  {
   "cell_type": "markdown",
   "id": "979c02e8",
   "metadata": {},
   "source": [
    "#### The columns needed for the modelling are  listing_id, date and price"
   ]
  },
  {
   "cell_type": "markdown",
   "id": "7b521338",
   "metadata": {},
   "source": [
    "## Listing Table Analysis"
   ]
  },
  {
   "cell_type": "code",
   "execution_count": 32,
   "id": "b0fef3c9",
   "metadata": {},
   "outputs": [],
   "source": [
    "listings_df = pd.read_csv('listings.csv')"
   ]
  },
  {
   "cell_type": "code",
   "execution_count": 33,
   "id": "e6b6d08e",
   "metadata": {},
   "outputs": [
    {
     "data": {
      "text/html": [
       "<div>\n",
       "<style scoped>\n",
       "    .dataframe tbody tr th:only-of-type {\n",
       "        vertical-align: middle;\n",
       "    }\n",
       "\n",
       "    .dataframe tbody tr th {\n",
       "        vertical-align: top;\n",
       "    }\n",
       "\n",
       "    .dataframe thead th {\n",
       "        text-align: right;\n",
       "    }\n",
       "</style>\n",
       "<table border=\"1\" class=\"dataframe\">\n",
       "  <thead>\n",
       "    <tr style=\"text-align: right;\">\n",
       "      <th></th>\n",
       "      <th>listing_id</th>\n",
       "      <th>listing_url</th>\n",
       "      <th>name</th>\n",
       "      <th>description</th>\n",
       "      <th>latitude</th>\n",
       "      <th>longitude</th>\n",
       "      <th>property_type</th>\n",
       "      <th>room_type</th>\n",
       "      <th>accomodates</th>\n",
       "      <th>bathrooms_text</th>\n",
       "      <th>bedrooms</th>\n",
       "      <th>beds</th>\n",
       "      <th>amenities</th>\n",
       "      <th>host_id</th>\n",
       "    </tr>\n",
       "  </thead>\n",
       "  <tbody>\n",
       "    <tr>\n",
       "      <th>0</th>\n",
       "      <td>50904</td>\n",
       "      <td>https://www.airbnb.com/rooms/50904</td>\n",
       "      <td>aplace/antwerp: cosy suite - fashion district</td>\n",
       "      <td>Decorated in a vintage style combined with a f...</td>\n",
       "      <td>51.218575</td>\n",
       "      <td>4.398631</td>\n",
       "      <td>Room in boutique hotel</td>\n",
       "      <td>Hotel room</td>\n",
       "      <td>2</td>\n",
       "      <td>1 private bath</td>\n",
       "      <td>1.0</td>\n",
       "      <td>1.0</td>\n",
       "      <td>[\"Kitchen\", \"Smoke alarm\", \"Hair dryer\", \"Keyp...</td>\n",
       "      <td>234077</td>\n",
       "    </tr>\n",
       "    <tr>\n",
       "      <th>1</th>\n",
       "      <td>116134</td>\n",
       "      <td>https://www.airbnb.com/rooms/116134</td>\n",
       "      <td>Spacious apartment nearby Mas</td>\n",
       "      <td>Enjoy your stay at our 4 person apartment in t...</td>\n",
       "      <td>51.230510</td>\n",
       "      <td>4.405930</td>\n",
       "      <td>Entire rental unit</td>\n",
       "      <td>Entire home/apt</td>\n",
       "      <td>4</td>\n",
       "      <td>2.5 baths</td>\n",
       "      <td>2.0</td>\n",
       "      <td>2.0</td>\n",
       "      <td>[\"Refrigerator\", \"Elevator\", \"Paid street park...</td>\n",
       "      <td>586942</td>\n",
       "    </tr>\n",
       "    <tr>\n",
       "      <th>2</th>\n",
       "      <td>218916</td>\n",
       "      <td>https://www.airbnb.com/rooms/218916</td>\n",
       "      <td>Apartment with terrace in trendy Zurenborg</td>\n",
       "      <td>Do you enjoy authentic places with a lot of ch...</td>\n",
       "      <td>51.206330</td>\n",
       "      <td>4.429420</td>\n",
       "      <td>Entire condominium (condo)</td>\n",
       "      <td>Entire home/apt</td>\n",
       "      <td>5</td>\n",
       "      <td>1 bath</td>\n",
       "      <td>1.0</td>\n",
       "      <td>3.0</td>\n",
       "      <td>[\"Paid street parking off premises\", \"Kitchen\"...</td>\n",
       "      <td>915664</td>\n",
       "    </tr>\n",
       "    <tr>\n",
       "      <th>3</th>\n",
       "      <td>224333</td>\n",
       "      <td>https://www.airbnb.com/rooms/224333</td>\n",
       "      <td>Large stylish room in 1930s house + garden</td>\n",
       "      <td>Large bedroom in classic 1930s house. Kitchen,...</td>\n",
       "      <td>51.197720</td>\n",
       "      <td>4.458530</td>\n",
       "      <td>Private room in residential home</td>\n",
       "      <td>Private room</td>\n",
       "      <td>2</td>\n",
       "      <td>2 shared baths</td>\n",
       "      <td>1.0</td>\n",
       "      <td>1.0</td>\n",
       "      <td>[\"Fire extinguisher\", \"Backyard\", \"Long term s...</td>\n",
       "      <td>1167377</td>\n",
       "    </tr>\n",
       "    <tr>\n",
       "      <th>4</th>\n",
       "      <td>224682</td>\n",
       "      <td>https://www.airbnb.com/rooms/224682</td>\n",
       "      <td>APARTMENT ROSCAM - OLD CENTRE ANTWERP</td>\n",
       "      <td>&lt;b&gt;The space&lt;/b&gt;&lt;br /&gt;Apartment \"Roscam\" is a ...</td>\n",
       "      <td>51.217220</td>\n",
       "      <td>4.397900</td>\n",
       "      <td>Entire rental unit</td>\n",
       "      <td>Entire home/apt</td>\n",
       "      <td>3</td>\n",
       "      <td>1 bath</td>\n",
       "      <td>1.0</td>\n",
       "      <td>2.0</td>\n",
       "      <td>[\"Refrigerator\", \"Kitchen\", \"Smoke alarm\", \"Sh...</td>\n",
       "      <td>1263933</td>\n",
       "    </tr>\n",
       "  </tbody>\n",
       "</table>\n",
       "</div>"
      ],
      "text/plain": [
       "   listing_id                          listing_url  \\\n",
       "0       50904   https://www.airbnb.com/rooms/50904   \n",
       "1      116134  https://www.airbnb.com/rooms/116134   \n",
       "2      218916  https://www.airbnb.com/rooms/218916   \n",
       "3      224333  https://www.airbnb.com/rooms/224333   \n",
       "4      224682  https://www.airbnb.com/rooms/224682   \n",
       "\n",
       "                                            name  \\\n",
       "0  aplace/antwerp: cosy suite - fashion district   \n",
       "1                  Spacious apartment nearby Mas   \n",
       "2     Apartment with terrace in trendy Zurenborg   \n",
       "3     Large stylish room in 1930s house + garden   \n",
       "4          APARTMENT ROSCAM - OLD CENTRE ANTWERP   \n",
       "\n",
       "                                         description   latitude  longitude  \\\n",
       "0  Decorated in a vintage style combined with a f...  51.218575   4.398631   \n",
       "1  Enjoy your stay at our 4 person apartment in t...  51.230510   4.405930   \n",
       "2  Do you enjoy authentic places with a lot of ch...  51.206330   4.429420   \n",
       "3  Large bedroom in classic 1930s house. Kitchen,...  51.197720   4.458530   \n",
       "4  <b>The space</b><br />Apartment \"Roscam\" is a ...  51.217220   4.397900   \n",
       "\n",
       "                      property_type        room_type  accomodates  \\\n",
       "0            Room in boutique hotel       Hotel room            2   \n",
       "1                Entire rental unit  Entire home/apt            4   \n",
       "2        Entire condominium (condo)  Entire home/apt            5   \n",
       "3  Private room in residential home     Private room            2   \n",
       "4                Entire rental unit  Entire home/apt            3   \n",
       "\n",
       "   bathrooms_text  bedrooms  beds  \\\n",
       "0  1 private bath       1.0   1.0   \n",
       "1       2.5 baths       2.0   2.0   \n",
       "2          1 bath       1.0   3.0   \n",
       "3  2 shared baths       1.0   1.0   \n",
       "4          1 bath       1.0   2.0   \n",
       "\n",
       "                                           amenities  host_id  \n",
       "0  [\"Kitchen\", \"Smoke alarm\", \"Hair dryer\", \"Keyp...   234077  \n",
       "1  [\"Refrigerator\", \"Elevator\", \"Paid street park...   586942  \n",
       "2  [\"Paid street parking off premises\", \"Kitchen\"...   915664  \n",
       "3  [\"Fire extinguisher\", \"Backyard\", \"Long term s...  1167377  \n",
       "4  [\"Refrigerator\", \"Kitchen\", \"Smoke alarm\", \"Sh...  1263933  "
      ]
     },
     "execution_count": 33,
     "metadata": {},
     "output_type": "execute_result"
    }
   ],
   "source": [
    "listings_df.head()"
   ]
  },
  {
   "cell_type": "code",
   "execution_count": 34,
   "id": "c1982fb4",
   "metadata": {},
   "outputs": [
    {
     "data": {
      "text/plain": [
       "0       [\"Kitchen\", \"Smoke alarm\", \"Hair dryer\", \"Keyp...\n",
       "1       [\"Refrigerator\", \"Elevator\", \"Paid street park...\n",
       "2       [\"Paid street parking off premises\", \"Kitchen\"...\n",
       "3       [\"Fire extinguisher\", \"Backyard\", \"Long term s...\n",
       "4       [\"Refrigerator\", \"Kitchen\", \"Smoke alarm\", \"Sh...\n",
       "                              ...                        \n",
       "1744    [\"Refrigerator\", \"Elevator\", \"Yamaha RX-A550 s...\n",
       "1745    [\"Hot water\", \"Long term stays allowed\", \"Kitc...\n",
       "1746    [\"Kitchen\", \"Smoke alarm\", \"Outdoor furniture\"...\n",
       "1747    [\"Refrigerator\", \"Private garden or backyard\",...\n",
       "1748    [\"Kitchen\", \"Voice command Google  Bluetooth s...\n",
       "Name: amenities, Length: 1749, dtype: object"
      ]
     },
     "execution_count": 34,
     "metadata": {},
     "output_type": "execute_result"
    }
   ],
   "source": [
    "listings_df['amenities']"
   ]
  },
  {
   "cell_type": "markdown",
   "id": "04e2f8a6",
   "metadata": {},
   "source": [
    "#### From listings df the predictor columns identified are property_type, room_type,accomodates,bedrooms, beds"
   ]
  },
  {
   "cell_type": "code",
   "execution_count": 35,
   "id": "af37c62b",
   "metadata": {},
   "outputs": [
    {
     "data": {
      "text/plain": [
       "(1749, 14)"
      ]
     },
     "execution_count": 35,
     "metadata": {},
     "output_type": "execute_result"
    }
   ],
   "source": [
    "#Finding number of rows and columns\n",
    "listings_df.shape"
   ]
  },
  {
   "cell_type": "code",
   "execution_count": 36,
   "id": "776a158a",
   "metadata": {},
   "outputs": [
    {
     "name": "stdout",
     "output_type": "stream",
     "text": [
      "<class 'pandas.core.frame.DataFrame'>\n",
      "RangeIndex: 1749 entries, 0 to 1748\n",
      "Data columns (total 14 columns):\n",
      " #   Column          Non-Null Count  Dtype  \n",
      "---  ------          --------------  -----  \n",
      " 0   listing_id      1749 non-null   int64  \n",
      " 1   listing_url     1749 non-null   object \n",
      " 2   name            1749 non-null   object \n",
      " 3   description     1679 non-null   object \n",
      " 4   latitude        1749 non-null   float64\n",
      " 5   longitude       1749 non-null   float64\n",
      " 6   property_type   1749 non-null   object \n",
      " 7   room_type       1749 non-null   object \n",
      " 8   accomodates     1749 non-null   int64  \n",
      " 9   bathrooms_text  1749 non-null   object \n",
      " 10  bedrooms        1621 non-null   float64\n",
      " 11  beds            1708 non-null   float64\n",
      " 12  amenities       1749 non-null   object \n",
      " 13  host_id         1749 non-null   int64  \n",
      "dtypes: float64(4), int64(3), object(7)\n",
      "memory usage: 191.4+ KB\n"
     ]
    }
   ],
   "source": [
    "listings_df.info()"
   ]
  },
  {
   "cell_type": "code",
   "execution_count": 37,
   "id": "66e86ef6",
   "metadata": {},
   "outputs": [
    {
     "data": {
      "text/html": [
       "<div>\n",
       "<style scoped>\n",
       "    .dataframe tbody tr th:only-of-type {\n",
       "        vertical-align: middle;\n",
       "    }\n",
       "\n",
       "    .dataframe tbody tr th {\n",
       "        vertical-align: top;\n",
       "    }\n",
       "\n",
       "    .dataframe thead th {\n",
       "        text-align: right;\n",
       "    }\n",
       "</style>\n",
       "<table border=\"1\" class=\"dataframe\">\n",
       "  <thead>\n",
       "    <tr style=\"text-align: right;\">\n",
       "      <th></th>\n",
       "      <th>listing_id</th>\n",
       "      <th>latitude</th>\n",
       "      <th>longitude</th>\n",
       "      <th>accomodates</th>\n",
       "      <th>bedrooms</th>\n",
       "      <th>beds</th>\n",
       "      <th>host_id</th>\n",
       "    </tr>\n",
       "  </thead>\n",
       "  <tbody>\n",
       "    <tr>\n",
       "      <th>count</th>\n",
       "      <td>1.749000e+03</td>\n",
       "      <td>1749.000000</td>\n",
       "      <td>1749.000000</td>\n",
       "      <td>1749.000000</td>\n",
       "      <td>1621.000000</td>\n",
       "      <td>1708.000000</td>\n",
       "      <td>1.749000e+03</td>\n",
       "    </tr>\n",
       "    <tr>\n",
       "      <th>mean</th>\n",
       "      <td>3.485506e+07</td>\n",
       "      <td>51.214069</td>\n",
       "      <td>4.413165</td>\n",
       "      <td>3.761578</td>\n",
       "      <td>1.529303</td>\n",
       "      <td>2.220726</td>\n",
       "      <td>1.417765e+08</td>\n",
       "    </tr>\n",
       "    <tr>\n",
       "      <th>std</th>\n",
       "      <td>1.523689e+07</td>\n",
       "      <td>0.013740</td>\n",
       "      <td>0.019373</td>\n",
       "      <td>2.771378</td>\n",
       "      <td>1.091453</td>\n",
       "      <td>2.227509</td>\n",
       "      <td>1.286506e+08</td>\n",
       "    </tr>\n",
       "    <tr>\n",
       "      <th>min</th>\n",
       "      <td>5.090400e+04</td>\n",
       "      <td>51.160084</td>\n",
       "      <td>4.290770</td>\n",
       "      <td>1.000000</td>\n",
       "      <td>1.000000</td>\n",
       "      <td>1.000000</td>\n",
       "      <td>2.340770e+05</td>\n",
       "    </tr>\n",
       "    <tr>\n",
       "      <th>25%</th>\n",
       "      <td>2.337286e+07</td>\n",
       "      <td>51.207870</td>\n",
       "      <td>4.400240</td>\n",
       "      <td>2.000000</td>\n",
       "      <td>1.000000</td>\n",
       "      <td>1.000000</td>\n",
       "      <td>2.875771e+07</td>\n",
       "    </tr>\n",
       "    <tr>\n",
       "      <th>50%</th>\n",
       "      <td>3.889829e+07</td>\n",
       "      <td>51.216540</td>\n",
       "      <td>4.409460</td>\n",
       "      <td>3.000000</td>\n",
       "      <td>1.000000</td>\n",
       "      <td>2.000000</td>\n",
       "      <td>1.033633e+08</td>\n",
       "    </tr>\n",
       "    <tr>\n",
       "      <th>75%</th>\n",
       "      <td>4.838954e+07</td>\n",
       "      <td>51.220880</td>\n",
       "      <td>4.424660</td>\n",
       "      <td>4.000000</td>\n",
       "      <td>2.000000</td>\n",
       "      <td>3.000000</td>\n",
       "      <td>2.344842e+08</td>\n",
       "    </tr>\n",
       "    <tr>\n",
       "      <th>max</th>\n",
       "      <td>5.398332e+07</td>\n",
       "      <td>51.349400</td>\n",
       "      <td>4.483470</td>\n",
       "      <td>16.000000</td>\n",
       "      <td>20.000000</td>\n",
       "      <td>44.000000</td>\n",
       "      <td>4.373093e+08</td>\n",
       "    </tr>\n",
       "  </tbody>\n",
       "</table>\n",
       "</div>"
      ],
      "text/plain": [
       "         listing_id     latitude    longitude  accomodates     bedrooms  \\\n",
       "count  1.749000e+03  1749.000000  1749.000000  1749.000000  1621.000000   \n",
       "mean   3.485506e+07    51.214069     4.413165     3.761578     1.529303   \n",
       "std    1.523689e+07     0.013740     0.019373     2.771378     1.091453   \n",
       "min    5.090400e+04    51.160084     4.290770     1.000000     1.000000   \n",
       "25%    2.337286e+07    51.207870     4.400240     2.000000     1.000000   \n",
       "50%    3.889829e+07    51.216540     4.409460     3.000000     1.000000   \n",
       "75%    4.838954e+07    51.220880     4.424660     4.000000     2.000000   \n",
       "max    5.398332e+07    51.349400     4.483470    16.000000    20.000000   \n",
       "\n",
       "              beds       host_id  \n",
       "count  1708.000000  1.749000e+03  \n",
       "mean      2.220726  1.417765e+08  \n",
       "std       2.227509  1.286506e+08  \n",
       "min       1.000000  2.340770e+05  \n",
       "25%       1.000000  2.875771e+07  \n",
       "50%       2.000000  1.033633e+08  \n",
       "75%       3.000000  2.344842e+08  \n",
       "max      44.000000  4.373093e+08  "
      ]
     },
     "execution_count": 37,
     "metadata": {},
     "output_type": "execute_result"
    }
   ],
   "source": [
    "listings_df.describe()"
   ]
  },
  {
   "cell_type": "code",
   "execution_count": 38,
   "id": "c86bba4e",
   "metadata": {},
   "outputs": [
    {
     "data": {
      "text/plain": [
       "listing_id          0\n",
       "listing_url         0\n",
       "name                0\n",
       "description        70\n",
       "latitude            0\n",
       "longitude           0\n",
       "property_type       0\n",
       "room_type           0\n",
       "accomodates         0\n",
       "bathrooms_text      0\n",
       "bedrooms          128\n",
       "beds               41\n",
       "amenities           0\n",
       "host_id             0\n",
       "dtype: int64"
      ]
     },
     "execution_count": 38,
     "metadata": {},
     "output_type": "execute_result"
    }
   ],
   "source": [
    "#Analysing the null values\n",
    "listings_df.isnull().sum()"
   ]
  },
  {
   "cell_type": "markdown",
   "id": "7cc97fea",
   "metadata": {},
   "source": [
    "#### From above information, we can see that among the selected predictor columns bedrooms and beds are only having missing values."
   ]
  },
  {
   "cell_type": "code",
   "execution_count": 39,
   "id": "d8f676be",
   "metadata": {},
   "outputs": [
    {
     "data": {
      "text/plain": [
       "1.0     1047\n",
       "2.0      428\n",
       "3.0       91\n",
       "4.0       31\n",
       "5.0       11\n",
       "7.0        5\n",
       "10.0       2\n",
       "11.0       1\n",
       "8.0        1\n",
       "6.0        1\n",
       "9.0        1\n",
       "15.0       1\n",
       "20.0       1\n",
       "Name: bedrooms, dtype: int64"
      ]
     },
     "execution_count": 39,
     "metadata": {},
     "output_type": "execute_result"
    }
   ],
   "source": [
    "listings_df['bedrooms'].value_counts()"
   ]
  },
  {
   "cell_type": "code",
   "execution_count": 40,
   "id": "ed38b404",
   "metadata": {},
   "outputs": [
    {
     "data": {
      "text/plain": [
       "1.0     796\n",
       "2.0     454\n",
       "3.0     185\n",
       "4.0     132\n",
       "5.0      60\n",
       "6.0      42\n",
       "7.0      13\n",
       "8.0       5\n",
       "10.0      5\n",
       "16.0      3\n",
       "9.0       3\n",
       "12.0      3\n",
       "11.0      1\n",
       "44.0      1\n",
       "15.0      1\n",
       "25.0      1\n",
       "14.0      1\n",
       "20.0      1\n",
       "33.0      1\n",
       "Name: beds, dtype: int64"
      ]
     },
     "execution_count": 40,
     "metadata": {},
     "output_type": "execute_result"
    }
   ],
   "source": [
    "listings_df['beds'].value_counts()"
   ]
  },
  {
   "cell_type": "code",
   "execution_count": 41,
   "id": "1612575c",
   "metadata": {},
   "outputs": [
    {
     "data": {
      "text/plain": [
       "0    1.0\n",
       "Name: bedrooms, dtype: float64"
      ]
     },
     "execution_count": 41,
     "metadata": {},
     "output_type": "execute_result"
    }
   ],
   "source": [
    "#Null Value Treatment,as the bedrooms & beds values are kind of discrete, imputing by mode seems ideal.\n",
    "listings_df['bedrooms'].mode()"
   ]
  },
  {
   "cell_type": "code",
   "execution_count": 42,
   "id": "8b66f7f4",
   "metadata": {},
   "outputs": [
    {
     "data": {
      "text/plain": [
       "0    1.0\n",
       "Name: beds, dtype: float64"
      ]
     },
     "execution_count": 42,
     "metadata": {},
     "output_type": "execute_result"
    }
   ],
   "source": [
    "listings_df['beds'].mode()"
   ]
  },
  {
   "cell_type": "code",
   "execution_count": 43,
   "id": "bd8ebc6e",
   "metadata": {},
   "outputs": [],
   "source": [
    "#imputation of mode to bedrooms column:\n",
    "listings_df['bedrooms'].fillna(listings_df['bedrooms'].mode()[0],inplace = True)"
   ]
  },
  {
   "cell_type": "code",
   "execution_count": 44,
   "id": "5da846cb",
   "metadata": {},
   "outputs": [
    {
     "data": {
      "text/plain": [
       "0"
      ]
     },
     "execution_count": 44,
     "metadata": {},
     "output_type": "execute_result"
    }
   ],
   "source": [
    "listings_df['bedrooms'].isnull().sum()"
   ]
  },
  {
   "cell_type": "code",
   "execution_count": 45,
   "id": "76adfabb",
   "metadata": {},
   "outputs": [],
   "source": [
    "#imputaion of mode to beds column:\n",
    "listings_df['beds'].fillna(listings_df['beds'].mode()[0],inplace = True)"
   ]
  },
  {
   "cell_type": "code",
   "execution_count": 46,
   "id": "6d81cfcf",
   "metadata": {},
   "outputs": [
    {
     "data": {
      "text/plain": [
       "0"
      ]
     },
     "execution_count": 46,
     "metadata": {},
     "output_type": "execute_result"
    }
   ],
   "source": [
    "listings_df['beds'].isnull().sum()"
   ]
  },
  {
   "cell_type": "code",
   "execution_count": 47,
   "id": "d3653933",
   "metadata": {},
   "outputs": [
    {
     "data": {
      "text/plain": [
       "listing_id         0\n",
       "listing_url        0\n",
       "name               0\n",
       "description       70\n",
       "latitude           0\n",
       "longitude          0\n",
       "property_type      0\n",
       "room_type          0\n",
       "accomodates        0\n",
       "bathrooms_text     0\n",
       "bedrooms           0\n",
       "beds               0\n",
       "amenities          0\n",
       "host_id            0\n",
       "dtype: int64"
      ]
     },
     "execution_count": 47,
     "metadata": {},
     "output_type": "execute_result"
    }
   ],
   "source": [
    "listings_df.isnull().sum()"
   ]
  },
  {
   "cell_type": "code",
   "execution_count": 48,
   "id": "744babef",
   "metadata": {},
   "outputs": [
    {
     "data": {
      "text/plain": [
       "Text(0, 0.5, 'Property Type')"
      ]
     },
     "execution_count": 48,
     "metadata": {},
     "output_type": "execute_result"
    },
    {
     "data": {
      "image/png": "[encoded data removed]",
      "text/plain": [
       "<Figure size 2000x1800 with 1 Axes>"
      ]
     },
     "metadata": {},
     "output_type": "display_data"
    }
   ],
   "source": [
    "#Analysing the property types and their counts\n",
    "fig=plt.figure(figsize=(20, 18), dpi=100)\n",
    "sns.countplot(y='property_type', data=listings_df, order=listings_df['property_type'].value_counts().index)\n",
    "plt.ylabel(\"Property Type\")"
   ]
  },
  {
   "cell_type": "markdown",
   "id": "0950bb4b",
   "metadata": {},
   "source": [
    "## Reviews Table Analysis"
   ]
  },
  {
   "cell_type": "code",
   "execution_count": 49,
   "id": "039ef166",
   "metadata": {},
   "outputs": [],
   "source": [
    "reviews_df = pd.read_csv('reviews.csv')"
   ]
  },
  {
   "cell_type": "code",
   "execution_count": 50,
   "id": "678f50fd",
   "metadata": {},
   "outputs": [
    {
     "data": {
      "text/html": [
       "<div>\n",
       "<style scoped>\n",
       "    .dataframe tbody tr th:only-of-type {\n",
       "        vertical-align: middle;\n",
       "    }\n",
       "\n",
       "    .dataframe tbody tr th {\n",
       "        vertical-align: top;\n",
       "    }\n",
       "\n",
       "    .dataframe thead th {\n",
       "        text-align: right;\n",
       "    }\n",
       "</style>\n",
       "<table border=\"1\" class=\"dataframe\">\n",
       "  <thead>\n",
       "    <tr style=\"text-align: right;\">\n",
       "      <th></th>\n",
       "      <th>review_id</th>\n",
       "      <th>listing_id</th>\n",
       "      <th>date</th>\n",
       "      <th>reviewer_id</th>\n",
       "      <th>reviewer_name</th>\n",
       "      <th>comments</th>\n",
       "    </tr>\n",
       "  </thead>\n",
       "  <tbody>\n",
       "    <tr>\n",
       "      <th>0</th>\n",
       "      <td>1</td>\n",
       "      <td>50904</td>\n",
       "      <td>2015-05-06 00:00:00.000000</td>\n",
       "      <td>19482395</td>\n",
       "      <td>Jihae</td>\n",
       "      <td>Karin’s “Aplace” is absolutely beautiful and c...</td>\n",
       "    </tr>\n",
       "    <tr>\n",
       "      <th>1</th>\n",
       "      <td>2</td>\n",
       "      <td>50904</td>\n",
       "      <td>2021-10-10 00:00:00.000000</td>\n",
       "      <td>333559</td>\n",
       "      <td>Emilie</td>\n",
       "      <td>Karin is a wonderful host, she was really help...</td>\n",
       "    </tr>\n",
       "    <tr>\n",
       "      <th>2</th>\n",
       "      <td>3</td>\n",
       "      <td>116134</td>\n",
       "      <td>2012-03-05 00:00:00.000000</td>\n",
       "      <td>928644</td>\n",
       "      <td>Aurélien</td>\n",
       "      <td>Amazing flat, really close from the MAS Musem,...</td>\n",
       "    </tr>\n",
       "    <tr>\n",
       "      <th>3</th>\n",
       "      <td>4</td>\n",
       "      <td>116134</td>\n",
       "      <td>2012-05-25 00:00:00.000000</td>\n",
       "      <td>231288</td>\n",
       "      <td>Gail</td>\n",
       "      <td>This is a well equipped, very comfortable apar...</td>\n",
       "    </tr>\n",
       "    <tr>\n",
       "      <th>4</th>\n",
       "      <td>5</td>\n",
       "      <td>116134</td>\n",
       "      <td>2013-09-03 00:00:00.000000</td>\n",
       "      <td>7984251</td>\n",
       "      <td>Marcel</td>\n",
       "      <td>This is a very nice appartement. We really lik...</td>\n",
       "    </tr>\n",
       "  </tbody>\n",
       "</table>\n",
       "</div>"
      ],
      "text/plain": [
       "   review_id  listing_id                        date  reviewer_id  \\\n",
       "0          1       50904  2015-05-06 00:00:00.000000     19482395   \n",
       "1          2       50904  2021-10-10 00:00:00.000000       333559   \n",
       "2          3      116134  2012-03-05 00:00:00.000000       928644   \n",
       "3          4      116134  2012-05-25 00:00:00.000000       231288   \n",
       "4          5      116134  2013-09-03 00:00:00.000000      7984251   \n",
       "\n",
       "  reviewer_name                                           comments  \n",
       "0         Jihae  Karin’s “Aplace” is absolutely beautiful and c...  \n",
       "1        Emilie  Karin is a wonderful host, she was really help...  \n",
       "2      Aurélien  Amazing flat, really close from the MAS Musem,...  \n",
       "3          Gail  This is a well equipped, very comfortable apar...  \n",
       "4        Marcel  This is a very nice appartement. We really lik...  "
      ]
     },
     "execution_count": 50,
     "metadata": {},
     "output_type": "execute_result"
    }
   ],
   "source": [
    "reviews_df.head()"
   ]
  },
  {
   "cell_type": "code",
   "execution_count": 51,
   "id": "9acbeb44",
   "metadata": {},
   "outputs": [
    {
     "name": "stdout",
     "output_type": "stream",
     "text": [
      "<class 'pandas.core.frame.DataFrame'>\n",
      "RangeIndex: 62987 entries, 0 to 62986\n",
      "Data columns (total 6 columns):\n",
      " #   Column         Non-Null Count  Dtype \n",
      "---  ------         --------------  ----- \n",
      " 0   review_id      62987 non-null  int64 \n",
      " 1   listing_id     62987 non-null  int64 \n",
      " 2   date           62987 non-null  object\n",
      " 3   reviewer_id    62987 non-null  int64 \n",
      " 4   reviewer_name  62987 non-null  object\n",
      " 5   comments       62923 non-null  object\n",
      "dtypes: int64(3), object(3)\n",
      "memory usage: 2.9+ MB\n"
     ]
    }
   ],
   "source": [
    "reviews_df.info()"
   ]
  },
  {
   "cell_type": "code",
   "execution_count": 52,
   "id": "83d1d12e",
   "metadata": {},
   "outputs": [],
   "source": [
    "comment_for_review_id_1 = reviews_df.loc[reviews_df['review_id'] == 1, 'comments'].values[0]"
   ]
  },
  {
   "cell_type": "code",
   "execution_count": 53,
   "id": "cc54308b",
   "metadata": {},
   "outputs": [
    {
     "name": "stdout",
     "output_type": "stream",
     "text": [
      "Karin’s “Aplace” is absolutely beautiful and cozy boutique hotel in the center of Antwerp. The Host, Karin is an amazing, warm and kind person who truly puts her hearts and soul into making her guests feel like at home. The apartment is beautifully furnished with mix of retro and modern style - I was so amazed about all of elegant details. The place is very close to almost everything in Antwerp. I highly recommend!\n"
     ]
    }
   ],
   "source": [
    "print(comment_for_review_id_1)"
   ]
  },
  {
   "cell_type": "code",
   "execution_count": 54,
   "id": "5c4a209b",
   "metadata": {},
   "outputs": [],
   "source": [
    "comment_for_review_id_2 = reviews_df.loc[reviews_df['review_id'] == 2, 'comments'].values[0]"
   ]
  },
  {
   "cell_type": "code",
   "execution_count": 55,
   "id": "e8227ee3",
   "metadata": {},
   "outputs": [
    {
     "name": "stdout",
     "output_type": "stream",
     "text": [
      "Karin is a wonderful host, she was really helpful ! Highly recommended for a stay in Antwerp.\n"
     ]
    }
   ],
   "source": [
    "print(comment_for_review_id_2)"
   ]
  },
  {
   "cell_type": "code",
   "execution_count": 56,
   "id": "77bbac1a",
   "metadata": {},
   "outputs": [
    {
     "name": "stdout",
     "output_type": "stream",
     "text": [
      "Amazing flat, really close from the MAS Musem, and 15 minutes walking from the Cathedral. \r",
      "<br/>Really calm, many space and light, perfect for 2 couples, perfect for a weekend.\r",
      "<br/>Antwerpen is a really nice city to walk around and chill in cosy cafés.\r",
      "<br/>Check out the coolest places here: (Website hidden by Airbnb) \r",
      "<br/>\n"
     ]
    }
   ],
   "source": [
    "comment_for_review_id_3 = reviews_df.loc[reviews_df['review_id'] == 3, 'comments'].values[0]\n",
    "print(comment_for_review_id_3)"
   ]
  },
  {
   "cell_type": "code",
   "execution_count": 57,
   "id": "abf2b196",
   "metadata": {},
   "outputs": [
    {
     "name": "stdout",
     "output_type": "stream",
     "text": [
      "Amazing flat, really close from the MAS Musem, and 15 minutes walking from the Cathedral. \r",
      "<br/>Really calm, many space and light, perfect for 2 couples, perfect for a weekend.\r",
      "<br/>Antwerpen is a really nice city to walk around and chill in cosy cafés.\r",
      "<br/>Check out the coolest places here: (Website hidden by Airbnb) \r",
      "<br/>\n"
     ]
    }
   ],
   "source": [
    "comment_for_review_id_4 = reviews_df.loc[reviews_df['review_id'] == 3, 'comments'].values[0]\n",
    "print(comment_for_review_id_4)"
   ]
  },
  {
   "cell_type": "code",
   "execution_count": 58,
   "id": "0014dde9",
   "metadata": {},
   "outputs": [
    {
     "data": {
      "text/html": [
       "<div>\n",
       "<style scoped>\n",
       "    .dataframe tbody tr th:only-of-type {\n",
       "        vertical-align: middle;\n",
       "    }\n",
       "\n",
       "    .dataframe tbody tr th {\n",
       "        vertical-align: top;\n",
       "    }\n",
       "\n",
       "    .dataframe thead th {\n",
       "        text-align: right;\n",
       "    }\n",
       "</style>\n",
       "<table border=\"1\" class=\"dataframe\">\n",
       "  <thead>\n",
       "    <tr style=\"text-align: right;\">\n",
       "      <th></th>\n",
       "      <th>review_id</th>\n",
       "      <th>listing_id</th>\n",
       "      <th>reviewer_id</th>\n",
       "    </tr>\n",
       "  </thead>\n",
       "  <tbody>\n",
       "    <tr>\n",
       "      <th>count</th>\n",
       "      <td>62987.00000</td>\n",
       "      <td>6.298700e+04</td>\n",
       "      <td>6.298700e+04</td>\n",
       "    </tr>\n",
       "    <tr>\n",
       "      <th>mean</th>\n",
       "      <td>31494.00000</td>\n",
       "      <td>2.277250e+07</td>\n",
       "      <td>1.148883e+08</td>\n",
       "    </tr>\n",
       "    <tr>\n",
       "      <th>std</th>\n",
       "      <td>18182.92504</td>\n",
       "      <td>1.417794e+07</td>\n",
       "      <td>1.132804e+08</td>\n",
       "    </tr>\n",
       "    <tr>\n",
       "      <th>min</th>\n",
       "      <td>1.00000</td>\n",
       "      <td>5.090400e+04</td>\n",
       "      <td>5.150000e+02</td>\n",
       "    </tr>\n",
       "    <tr>\n",
       "      <th>25%</th>\n",
       "      <td>15747.50000</td>\n",
       "      <td>9.913124e+06</td>\n",
       "      <td>2.433136e+07</td>\n",
       "    </tr>\n",
       "    <tr>\n",
       "      <th>50%</th>\n",
       "      <td>31494.00000</td>\n",
       "      <td>2.165832e+07</td>\n",
       "      <td>7.226982e+07</td>\n",
       "    </tr>\n",
       "    <tr>\n",
       "      <th>75%</th>\n",
       "      <td>47240.50000</td>\n",
       "      <td>3.405420e+07</td>\n",
       "      <td>1.782096e+08</td>\n",
       "    </tr>\n",
       "    <tr>\n",
       "      <th>max</th>\n",
       "      <td>62987.00000</td>\n",
       "      <td>5.382519e+07</td>\n",
       "      <td>4.367984e+08</td>\n",
       "    </tr>\n",
       "  </tbody>\n",
       "</table>\n",
       "</div>"
      ],
      "text/plain": [
       "         review_id    listing_id   reviewer_id\n",
       "count  62987.00000  6.298700e+04  6.298700e+04\n",
       "mean   31494.00000  2.277250e+07  1.148883e+08\n",
       "std    18182.92504  1.417794e+07  1.132804e+08\n",
       "min        1.00000  5.090400e+04  5.150000e+02\n",
       "25%    15747.50000  9.913124e+06  2.433136e+07\n",
       "50%    31494.00000  2.165832e+07  7.226982e+07\n",
       "75%    47240.50000  3.405420e+07  1.782096e+08\n",
       "max    62987.00000  5.382519e+07  4.367984e+08"
      ]
     },
     "execution_count": 58,
     "metadata": {},
     "output_type": "execute_result"
    }
   ],
   "source": [
    "reviews_df.describe()"
   ]
  },
  {
   "cell_type": "markdown",
   "id": "d7135085",
   "metadata": {},
   "source": [
    "#### No review columns are relevant for modelling"
   ]
  },
  {
   "cell_type": "markdown",
   "id": "500b7fd7",
   "metadata": {},
   "source": [
    "## Hosts Table Analysis"
   ]
  },
  {
   "cell_type": "code",
   "execution_count": 59,
   "id": "19e5fbb9",
   "metadata": {},
   "outputs": [],
   "source": [
    "hosts_df = pd.read_csv('hosts.csv')"
   ]
  },
  {
   "cell_type": "code",
   "execution_count": 60,
   "id": "e1a5c97f",
   "metadata": {},
   "outputs": [
    {
     "data": {
      "text/html": [
       "<div>\n",
       "<style scoped>\n",
       "    .dataframe tbody tr th:only-of-type {\n",
       "        vertical-align: middle;\n",
       "    }\n",
       "\n",
       "    .dataframe tbody tr th {\n",
       "        vertical-align: top;\n",
       "    }\n",
       "\n",
       "    .dataframe thead th {\n",
       "        text-align: right;\n",
       "    }\n",
       "</style>\n",
       "<table border=\"1\" class=\"dataframe\">\n",
       "  <thead>\n",
       "    <tr style=\"text-align: right;\">\n",
       "      <th></th>\n",
       "      <th>host_id</th>\n",
       "      <th>host_name</th>\n",
       "      <th>host_since</th>\n",
       "      <th>host_location</th>\n",
       "      <th>host_about</th>\n",
       "    </tr>\n",
       "  </thead>\n",
       "  <tbody>\n",
       "    <tr>\n",
       "      <th>0</th>\n",
       "      <td>234077</td>\n",
       "      <td>Karin</td>\n",
       "      <td>2010-09-14 00:00:00.000000</td>\n",
       "      <td>Antwerp, Flanders, Belgium</td>\n",
       "      <td>Ever since my childhood I dreamt of having my ...</td>\n",
       "    </tr>\n",
       "    <tr>\n",
       "      <th>1</th>\n",
       "      <td>334804</td>\n",
       "      <td>Ann</td>\n",
       "      <td>2011-01-04 00:00:00.000000</td>\n",
       "      <td>Antwerp, Flemish Region, Belgium</td>\n",
       "      <td>Ciao, \\r\\nlooking forward to meet you!\\r\\nI lo...</td>\n",
       "    </tr>\n",
       "    <tr>\n",
       "      <th>2</th>\n",
       "      <td>413052</td>\n",
       "      <td>Valérie</td>\n",
       "      <td>2011-02-27 00:00:00.000000</td>\n",
       "      <td>Antwerp, Flanders, Belgium</td>\n",
       "      <td>NaN</td>\n",
       "    </tr>\n",
       "    <tr>\n",
       "      <th>3</th>\n",
       "      <td>452791</td>\n",
       "      <td>Tatiana</td>\n",
       "      <td>2011-03-20 00:00:00.000000</td>\n",
       "      <td>Antwerp, Flanders, Belgium</td>\n",
       "      <td>World traveler with a penchant for adrenaline ...</td>\n",
       "    </tr>\n",
       "    <tr>\n",
       "      <th>4</th>\n",
       "      <td>462975</td>\n",
       "      <td>Els</td>\n",
       "      <td>2011-03-25 00:00:00.000000</td>\n",
       "      <td>Edegem, Flanders, Belgium</td>\n",
       "      <td>I studied languages and cultural anthropology ...</td>\n",
       "    </tr>\n",
       "  </tbody>\n",
       "</table>\n",
       "</div>"
      ],
      "text/plain": [
       "   host_id host_name                  host_since  \\\n",
       "0   234077     Karin  2010-09-14 00:00:00.000000   \n",
       "1   334804       Ann  2011-01-04 00:00:00.000000   \n",
       "2   413052   Valérie  2011-02-27 00:00:00.000000   \n",
       "3   452791   Tatiana  2011-03-20 00:00:00.000000   \n",
       "4   462975       Els  2011-03-25 00:00:00.000000   \n",
       "\n",
       "                      host_location  \\\n",
       "0        Antwerp, Flanders, Belgium   \n",
       "1  Antwerp, Flemish Region, Belgium   \n",
       "2        Antwerp, Flanders, Belgium   \n",
       "3        Antwerp, Flanders, Belgium   \n",
       "4         Edegem, Flanders, Belgium   \n",
       "\n",
       "                                          host_about  \n",
       "0  Ever since my childhood I dreamt of having my ...  \n",
       "1  Ciao, \\r\\nlooking forward to meet you!\\r\\nI lo...  \n",
       "2                                                NaN  \n",
       "3  World traveler with a penchant for adrenaline ...  \n",
       "4  I studied languages and cultural anthropology ...  "
      ]
     },
     "execution_count": 60,
     "metadata": {},
     "output_type": "execute_result"
    }
   ],
   "source": [
    "hosts_df.head()"
   ]
  },
  {
   "cell_type": "code",
   "execution_count": 61,
   "id": "53443d09",
   "metadata": {},
   "outputs": [
    {
     "name": "stdout",
     "output_type": "stream",
     "text": [
      "<class 'pandas.core.frame.DataFrame'>\n",
      "RangeIndex: 1111 entries, 0 to 1110\n",
      "Data columns (total 5 columns):\n",
      " #   Column         Non-Null Count  Dtype \n",
      "---  ------         --------------  ----- \n",
      " 0   host_id        1111 non-null   int64 \n",
      " 1   host_name      1111 non-null   object\n",
      " 2   host_since     1111 non-null   object\n",
      " 3   host_location  1108 non-null   object\n",
      " 4   host_about     490 non-null    object\n",
      "dtypes: int64(1), object(4)\n",
      "memory usage: 43.5+ KB\n"
     ]
    }
   ],
   "source": [
    "hosts_df.info()"
   ]
  },
  {
   "cell_type": "code",
   "execution_count": 62,
   "id": "8d089ee3",
   "metadata": {},
   "outputs": [
    {
     "data": {
      "text/plain": [
       "host_id            0\n",
       "host_name          0\n",
       "host_since         0\n",
       "host_location      3\n",
       "host_about       621\n",
       "dtype: int64"
      ]
     },
     "execution_count": 62,
     "metadata": {},
     "output_type": "execute_result"
    }
   ],
   "source": [
    "hosts_df.isnull().sum()"
   ]
  },
  {
   "cell_type": "code",
   "execution_count": 63,
   "id": "c52ee0da",
   "metadata": {},
   "outputs": [
    {
     "data": {
      "text/html": [
       "<div>\n",
       "<style scoped>\n",
       "    .dataframe tbody tr th:only-of-type {\n",
       "        vertical-align: middle;\n",
       "    }\n",
       "\n",
       "    .dataframe tbody tr th {\n",
       "        vertical-align: top;\n",
       "    }\n",
       "\n",
       "    .dataframe thead th {\n",
       "        text-align: right;\n",
       "    }\n",
       "</style>\n",
       "<table border=\"1\" class=\"dataframe\">\n",
       "  <thead>\n",
       "    <tr style=\"text-align: right;\">\n",
       "      <th></th>\n",
       "      <th>host_id</th>\n",
       "    </tr>\n",
       "  </thead>\n",
       "  <tbody>\n",
       "    <tr>\n",
       "      <th>count</th>\n",
       "      <td>1.111000e+03</td>\n",
       "    </tr>\n",
       "    <tr>\n",
       "      <th>mean</th>\n",
       "      <td>1.268568e+08</td>\n",
       "    </tr>\n",
       "    <tr>\n",
       "      <th>std</th>\n",
       "      <td>1.282286e+08</td>\n",
       "    </tr>\n",
       "    <tr>\n",
       "      <th>min</th>\n",
       "      <td>2.340770e+05</td>\n",
       "    </tr>\n",
       "    <tr>\n",
       "      <th>25%</th>\n",
       "      <td>2.361567e+07</td>\n",
       "    </tr>\n",
       "    <tr>\n",
       "      <th>50%</th>\n",
       "      <td>6.618861e+07</td>\n",
       "    </tr>\n",
       "    <tr>\n",
       "      <th>75%</th>\n",
       "      <td>2.143271e+08</td>\n",
       "    </tr>\n",
       "    <tr>\n",
       "      <th>max</th>\n",
       "      <td>4.373093e+08</td>\n",
       "    </tr>\n",
       "  </tbody>\n",
       "</table>\n",
       "</div>"
      ],
      "text/plain": [
       "            host_id\n",
       "count  1.111000e+03\n",
       "mean   1.268568e+08\n",
       "std    1.282286e+08\n",
       "min    2.340770e+05\n",
       "25%    2.361567e+07\n",
       "50%    6.618861e+07\n",
       "75%    2.143271e+08\n",
       "max    4.373093e+08"
      ]
     },
     "execution_count": 63,
     "metadata": {},
     "output_type": "execute_result"
    }
   ],
   "source": [
    "hosts_df.describe()"
   ]
  },
  {
   "cell_type": "markdown",
   "id": "446d7386",
   "metadata": {},
   "source": [
    "#### No host columns are relevant for modelling"
   ]
  },
  {
   "cell_type": "markdown",
   "id": "57595ef6",
   "metadata": {},
   "source": [
    "## Aggregated data view creation and analysis"
   ]
  },
  {
   "cell_type": "code",
   "execution_count": 64,
   "id": "27715c1e",
   "metadata": {},
   "outputs": [],
   "source": [
    "airbnb_df = pd.merge(calendar_df[['listing_id','date', 'price']], \n",
    "listings_df[['listing_id', 'property_type', 'room_type', 'accomodates', 'bedrooms', 'beds',]], on='listing_id', how='inner')\n"
   ]
  },
  {
   "cell_type": "code",
   "execution_count": 65,
   "id": "702c24e5",
   "metadata": {},
   "outputs": [
    {
     "data": {
      "text/html": [
       "<div>\n",
       "<style scoped>\n",
       "    .dataframe tbody tr th:only-of-type {\n",
       "        vertical-align: middle;\n",
       "    }\n",
       "\n",
       "    .dataframe tbody tr th {\n",
       "        vertical-align: top;\n",
       "    }\n",
       "\n",
       "    .dataframe thead th {\n",
       "        text-align: right;\n",
       "    }\n",
       "</style>\n",
       "<table border=\"1\" class=\"dataframe\">\n",
       "  <thead>\n",
       "    <tr style=\"text-align: right;\">\n",
       "      <th></th>\n",
       "      <th>listing_id</th>\n",
       "      <th>date</th>\n",
       "      <th>price</th>\n",
       "      <th>property_type</th>\n",
       "      <th>room_type</th>\n",
       "      <th>accomodates</th>\n",
       "      <th>bedrooms</th>\n",
       "      <th>beds</th>\n",
       "    </tr>\n",
       "  </thead>\n",
       "  <tbody>\n",
       "    <tr>\n",
       "      <th>0</th>\n",
       "      <td>40334325</td>\n",
       "      <td>2022-08-03</td>\n",
       "      <td>56.0</td>\n",
       "      <td>Entire rental unit</td>\n",
       "      <td>Entire home/apt</td>\n",
       "      <td>2</td>\n",
       "      <td>1.0</td>\n",
       "      <td>2.0</td>\n",
       "    </tr>\n",
       "    <tr>\n",
       "      <th>1</th>\n",
       "      <td>40334325</td>\n",
       "      <td>2022-02-14</td>\n",
       "      <td>56.0</td>\n",
       "      <td>Entire rental unit</td>\n",
       "      <td>Entire home/apt</td>\n",
       "      <td>2</td>\n",
       "      <td>1.0</td>\n",
       "      <td>2.0</td>\n",
       "    </tr>\n",
       "    <tr>\n",
       "      <th>2</th>\n",
       "      <td>40334325</td>\n",
       "      <td>2022-04-26</td>\n",
       "      <td>56.0</td>\n",
       "      <td>Entire rental unit</td>\n",
       "      <td>Entire home/apt</td>\n",
       "      <td>2</td>\n",
       "      <td>1.0</td>\n",
       "      <td>2.0</td>\n",
       "    </tr>\n",
       "    <tr>\n",
       "      <th>3</th>\n",
       "      <td>40334325</td>\n",
       "      <td>2022-04-08</td>\n",
       "      <td>56.0</td>\n",
       "      <td>Entire rental unit</td>\n",
       "      <td>Entire home/apt</td>\n",
       "      <td>2</td>\n",
       "      <td>1.0</td>\n",
       "      <td>2.0</td>\n",
       "    </tr>\n",
       "    <tr>\n",
       "      <th>4</th>\n",
       "      <td>40334325</td>\n",
       "      <td>2022-04-11</td>\n",
       "      <td>56.0</td>\n",
       "      <td>Entire rental unit</td>\n",
       "      <td>Entire home/apt</td>\n",
       "      <td>2</td>\n",
       "      <td>1.0</td>\n",
       "      <td>2.0</td>\n",
       "    </tr>\n",
       "  </tbody>\n",
       "</table>\n",
       "</div>"
      ],
      "text/plain": [
       "   listing_id        date  price       property_type        room_type  \\\n",
       "0    40334325  2022-08-03   56.0  Entire rental unit  Entire home/apt   \n",
       "1    40334325  2022-02-14   56.0  Entire rental unit  Entire home/apt   \n",
       "2    40334325  2022-04-26   56.0  Entire rental unit  Entire home/apt   \n",
       "3    40334325  2022-04-08   56.0  Entire rental unit  Entire home/apt   \n",
       "4    40334325  2022-04-11   56.0  Entire rental unit  Entire home/apt   \n",
       "\n",
       "   accomodates  bedrooms  beds  \n",
       "0            2       1.0   2.0  \n",
       "1            2       1.0   2.0  \n",
       "2            2       1.0   2.0  \n",
       "3            2       1.0   2.0  \n",
       "4            2       1.0   2.0  "
      ]
     },
     "execution_count": 65,
     "metadata": {},
     "output_type": "execute_result"
    }
   ],
   "source": [
    "airbnb_df.head()"
   ]
  },
  {
   "cell_type": "code",
   "execution_count": 66,
   "id": "f77d9bdd",
   "metadata": {},
   "outputs": [
    {
     "name": "stdout",
     "output_type": "stream",
     "text": [
      "<class 'pandas.core.frame.DataFrame'>\n",
      "Int64Index: 319192 entries, 0 to 319191\n",
      "Data columns (total 8 columns):\n",
      " #   Column         Non-Null Count   Dtype  \n",
      "---  ------         --------------   -----  \n",
      " 0   listing_id     319192 non-null  int64  \n",
      " 1   date           319192 non-null  object \n",
      " 2   price          319192 non-null  float64\n",
      " 3   property_type  319192 non-null  object \n",
      " 4   room_type      319192 non-null  object \n",
      " 5   accomodates    319192 non-null  int64  \n",
      " 6   bedrooms       319192 non-null  float64\n",
      " 7   beds           319192 non-null  float64\n",
      "dtypes: float64(3), int64(2), object(3)\n",
      "memory usage: 21.9+ MB\n"
     ]
    }
   ],
   "source": [
    "airbnb_df.info()"
   ]
  },
  {
   "cell_type": "code",
   "execution_count": 67,
   "id": "716e3292",
   "metadata": {},
   "outputs": [
    {
     "name": "stdout",
     "output_type": "stream",
     "text": [
      "        listing_id        date  price               property_type  \\\n",
      "0         40334325  2022-08-03   56.0          Entire rental unit   \n",
      "1         40334325  2022-02-14   56.0          Entire rental unit   \n",
      "2         40334325  2022-04-26   56.0          Entire rental unit   \n",
      "3         40334325  2022-04-08   56.0          Entire rental unit   \n",
      "4         40334325  2022-04-11   56.0          Entire rental unit   \n",
      "...            ...         ...    ...                         ...   \n",
      "319187    52592822  2022-04-10   30.0  Entire condominium (condo)   \n",
      "319188    52592822  2022-08-01   30.0  Entire condominium (condo)   \n",
      "319189    52592822  2022-12-20   30.0  Entire condominium (condo)   \n",
      "319190    52592822  2022-07-17   30.0  Entire condominium (condo)   \n",
      "319191    52592822  2022-07-09   30.0  Entire condominium (condo)   \n",
      "\n",
      "              room_type  accomodates  bedrooms  beds  \n",
      "0       Entire home/apt            2       1.0   2.0  \n",
      "1       Entire home/apt            2       1.0   2.0  \n",
      "2       Entire home/apt            2       1.0   2.0  \n",
      "3       Entire home/apt            2       1.0   2.0  \n",
      "4       Entire home/apt            2       1.0   2.0  \n",
      "...                 ...          ...       ...   ...  \n",
      "319187  Entire home/apt            4       2.0   1.0  \n",
      "319188  Entire home/apt            4       2.0   1.0  \n",
      "319189  Entire home/apt            4       2.0   1.0  \n",
      "319190  Entire home/apt            4       2.0   1.0  \n",
      "319191  Entire home/apt            4       2.0   1.0  \n",
      "\n",
      "[317410 rows x 8 columns]\n"
     ]
    }
   ],
   "source": [
    "duplicates = airbnb_df[airbnb_df.duplicated(subset=['listing_id', 'price'], keep=False)]\n",
    "print(duplicates)"
   ]
  },
  {
   "cell_type": "code",
   "execution_count": 68,
   "id": "b21da56c",
   "metadata": {},
   "outputs": [
    {
     "data": {
      "text/plain": [
       "listing_id       317410\n",
       "date             317410\n",
       "price            317410\n",
       "property_type    317410\n",
       "room_type        317410\n",
       "accomodates      317410\n",
       "bedrooms         317410\n",
       "beds             317410\n",
       "dtype: int64"
      ]
     },
     "execution_count": 68,
     "metadata": {},
     "output_type": "execute_result"
    }
   ],
   "source": [
    "duplicates.count()"
   ]
  },
  {
   "cell_type": "code",
   "execution_count": 69,
   "id": "6307e01d",
   "metadata": {},
   "outputs": [
    {
     "name": "stdout",
     "output_type": "stream",
     "text": [
      "   listing_id        date  price       property_type        room_type  \\\n",
      "0    40334325  2022-08-03   56.0  Entire rental unit  Entire home/apt   \n",
      "1    22742449  2022-11-13   95.0  Entire rental unit  Entire home/apt   \n",
      "2    22742449  2022-06-28  112.0  Entire rental unit  Entire home/apt   \n",
      "3    22742449  2022-01-02  155.0  Entire rental unit  Entire home/apt   \n",
      "4    22742449  2022-09-05  125.0  Entire rental unit  Entire home/apt   \n",
      "\n",
      "   accomodates  bedrooms  beds  \n",
      "0            2       1.0   2.0  \n",
      "1            4       2.0   2.0  \n",
      "2            4       2.0   2.0  \n",
      "3            4       2.0   2.0  \n",
      "4            4       2.0   2.0  \n"
     ]
    }
   ],
   "source": [
    "# Checking for duplicate listing ids with same price after merging \n",
    "airbnb_df.drop_duplicates(subset=['listing_id', 'price'], inplace=True)\n",
    "airbnb_df.reset_index(drop=True, inplace=True)\n",
    "\n",
    "print(airbnb_df.head())"
   ]
  },
  {
   "cell_type": "code",
   "execution_count": 70,
   "id": "a8c58513",
   "metadata": {},
   "outputs": [
    {
     "data": {
      "text/plain": [
       "(8931, 8)"
      ]
     },
     "execution_count": 70,
     "metadata": {},
     "output_type": "execute_result"
    }
   ],
   "source": [
    "airbnb_df.shape"
   ]
  },
  {
   "cell_type": "markdown",
   "id": "2c1af451",
   "metadata": {},
   "source": [
    "### Data Quality Report: Continuous Variables"
   ]
  },
  {
   "cell_type": "code",
   "execution_count": 71,
   "id": "e0670b5b",
   "metadata": {},
   "outputs": [
    {
     "name": "stdout",
     "output_type": "stream",
     "text": [
      "             Unique#      Min         Max       Average  25th_percentile  \\\n",
      "listing_id    1749.0  50904.0  53983318.0  3.753055e+07       30274763.5   \n",
      "price          188.0     13.0       199.0  9.694680e+01             64.0   \n",
      "accomodates     15.0      1.0        16.0  4.322920e+00              2.0   \n",
      "bedrooms        13.0      1.0        20.0  1.423357e+00              1.0   \n",
      "beds            19.0      1.0        44.0  2.289777e+00              1.0   \n",
      "\n",
      "             75th_percentile  90th_percentile  95th_percentile  \\\n",
      "listing_id        48817644.0       52314612.0       53013864.5   \n",
      "price                  129.0            160.0            185.0   \n",
      "accomodates              5.0              9.0             12.0   \n",
      "bedrooms                 2.0              2.0              3.0   \n",
      "beds                     3.0              4.0              6.0   \n",
      "\n",
      "             Missing_value_percentage  \n",
      "listing_id                        0.0  \n",
      "price                             0.0  \n",
      "accomodates                       0.0  \n",
      "bedrooms                          0.0  \n",
      "beds                              0.0  \n"
     ]
    }
   ],
   "source": [
    "continuous_variable_columns = ['listing_id','price','accomodates','bedrooms','beds']\n",
    "continuous_statistics = airbnb_df[continuous_variable_columns].agg([lambda x: x.nunique(), 'min', 'max', 'mean', lambda x: x.quantile(0.25), lambda x: x.quantile(0.75), lambda x: x.quantile(0.9), lambda x: x.quantile(0.95), lambda x: x.isnull().mean() * 100])\n",
    "\n",
    "# Renaming the rows\n",
    "continuous_statistics.index = ['Unique#','Min', 'Max', 'Average', '25th_percentile', '75th_percentile', '90th_percentile', '95th_percentile', 'Missing_value_percentage']\n",
    "\n",
    "# Transposing the table for improving the view\n",
    "continuous_statistics = continuous_statistics.transpose()\n",
    "\n",
    "print(continuous_statistics)"
   ]
  },
  {
   "cell_type": "markdown",
   "id": "4d7c58d5",
   "metadata": {},
   "source": [
    "### Data Quality Report: Categorical Variables"
   ]
  },
  {
   "cell_type": "code",
   "execution_count": 72,
   "id": "81c9a304",
   "metadata": {},
   "outputs": [
    {
     "name": "stdout",
     "output_type": "stream",
     "text": [
      "               Unique#  Missing_Value_Percentage\n",
      "date             365.0                       0.0\n",
      "property_type     39.0                       0.0\n",
      "room_type          4.0                       0.0\n"
     ]
    }
   ],
   "source": [
    "categorical_variable_columns = ['date','property_type','room_type']\n",
    "\n",
    "categorical_statistics = airbnb_df[categorical_variable_columns].agg([lambda x: x.nunique(), lambda x: x.isnull().mean() * 100])\n",
    "\n",
    "# Renaming the rows\n",
    "categorical_statistics.index = ['Unique#','Missing_Value_Percentage']\n",
    "\n",
    "# Transposind the table for improving the view\n",
    "categorical_statistics = categorical_statistics.transpose()\n",
    "\n",
    "print(categorical_statistics)\n"
   ]
  },
  {
   "cell_type": "markdown",
   "id": "db06ab08",
   "metadata": {},
   "source": [
    "### Data Anomaly Found:"
   ]
  },
  {
   "cell_type": "markdown",
   "id": "f4ed987b",
   "metadata": {},
   "source": [
    "1. During earlier analysis, it was noticed that after merging, the data is having duplicate values (same listing_ids with same price on different dates). it is removed"
   ]
  },
  {
   "cell_type": "markdown",
   "id": "25981074",
   "metadata": {},
   "source": [
    "2. Bedrooms column is having an average ~ 1.5 and 95th percentile value of 3. But the Max value is 20. "
   ]
  },
  {
   "cell_type": "markdown",
   "id": "2dc656e7",
   "metadata": {},
   "source": [
    "3. Beds column having an average ~2 and the 95th percentile value of 6. But the Max value is 44. "
   ]
  },
  {
   "cell_type": "markdown",
   "id": "f044f965",
   "metadata": {},
   "source": [
    "#### Using Winsorization method of outlier treatment on beds and bedrooms"
   ]
  },
  {
   "cell_type": "code",
   "execution_count": 73,
   "id": "6929d292",
   "metadata": {
    "scrolled": true
   },
   "outputs": [
    {
     "name": "stdout",
     "output_type": "stream",
     "text": [
      "1.0 3.0\n"
     ]
    }
   ],
   "source": [
    "#Defining percentiles\n",
    "lower_percentile = 0.05\n",
    "upper_percentile = 0.95\n",
    "\n",
    "lower_threshold = airbnb_df['bedrooms'].quantile(lower_percentile)\n",
    "upper_threshold = airbnb_df['bedrooms'].quantile(upper_percentile)\n",
    "print(lower_threshold, upper_threshold)\n"
   ]
  },
  {
   "cell_type": "code",
   "execution_count": 74,
   "id": "5d087fbe",
   "metadata": {},
   "outputs": [],
   "source": [
    "# Apply Winsorization\n",
    "winsorized_bedrooms = airbnb_df['bedrooms'].clip(lower=lower_threshold, upper=upper_threshold)\n",
    "\n",
    "# Update the 'bedrooms' column with winsorized values\n",
    "airbnb_df['bedrooms'] = winsorized_bedrooms"
   ]
  },
  {
   "cell_type": "code",
   "execution_count": 75,
   "id": "a7b0c937",
   "metadata": {},
   "outputs": [
    {
     "data": {
      "text/plain": [
       "8931"
      ]
     },
     "execution_count": 75,
     "metadata": {},
     "output_type": "execute_result"
    }
   ],
   "source": [
    "airbnb_df['bedrooms'].count()"
   ]
  },
  {
   "cell_type": "code",
   "execution_count": 76,
   "id": "cf813023",
   "metadata": {},
   "outputs": [
    {
     "data": {
      "text/plain": [
       "1.0    5948\n",
       "2.0    2452\n",
       "3.0     531\n",
       "Name: bedrooms, dtype: int64"
      ]
     },
     "execution_count": 76,
     "metadata": {},
     "output_type": "execute_result"
    }
   ],
   "source": [
    "airbnb_df['bedrooms'].value_counts()"
   ]
  },
  {
   "cell_type": "markdown",
   "id": "ec71854c",
   "metadata": {},
   "source": [
    "lower_percentile = 0.05\n",
    "upper_percentile = 0.95\n",
    "\n",
    "lower_threshold = airbnb_df['beds'].quantile(lower_percentile)\n",
    "upper_threshold = airbnb_df['beds'].quantile(upper_percentile)\n",
    "\n",
    "print(lower_threshold, upper_threshold)"
   ]
  },
  {
   "cell_type": "code",
   "execution_count": 77,
   "id": "da0c9451",
   "metadata": {},
   "outputs": [],
   "source": [
    "# Apply Winsorization\n",
    "winsorized_beds = airbnb_df['beds'].clip(lower=lower_threshold, upper=upper_threshold)\n",
    "\n",
    "# Update the 'bedrooms' column with winsorized values\n",
    "airbnb_df['beds'] = winsorized_beds\n"
   ]
  },
  {
   "cell_type": "code",
   "execution_count": 78,
   "id": "a9b5a6ec",
   "metadata": {},
   "outputs": [
    {
     "data": {
      "text/plain": [
       "8931"
      ]
     },
     "execution_count": 78,
     "metadata": {},
     "output_type": "execute_result"
    }
   ],
   "source": [
    "airbnb_df['beds'].count()"
   ]
  },
  {
   "cell_type": "code",
   "execution_count": 79,
   "id": "147a8566",
   "metadata": {},
   "outputs": [
    {
     "data": {
      "text/plain": [
       "1.0    3783\n",
       "3.0    2825\n",
       "2.0    2323\n",
       "Name: beds, dtype: int64"
      ]
     },
     "execution_count": 79,
     "metadata": {},
     "output_type": "execute_result"
    }
   ],
   "source": [
    "airbnb_df['beds'].value_counts()"
   ]
  },
  {
   "cell_type": "code",
   "execution_count": 80,
   "id": "14c91505",
   "metadata": {},
   "outputs": [],
   "source": [
    "# exporting the dataframe to a csv\n",
    "airbnb_df.to_csv('airbnb_data_13-03-2024.csv',index = False)"
   ]
  },
  {
   "cell_type": "markdown",
   "id": "4cfac571",
   "metadata": {},
   "source": [
    "### Task 2"
   ]
  },
  {
   "cell_type": "code",
   "execution_count": 81,
   "id": "233eb08f",
   "metadata": {},
   "outputs": [
    {
     "data": {
      "image/png": "[encoded data removed]",
      "text/plain": [
       "<Figure size 1000x500 with 1 Axes>"
      ]
     },
     "metadata": {},
     "output_type": "display_data"
    }
   ],
   "source": [
    "fig=plt.figure(figsize=(10, 5), dpi=100)\n",
    "\n",
    "sns.boxplot(x='bedrooms', y='price', data=airbnb_df, palette='Set1')\n",
    "plt.show()"
   ]
  },
  {
   "cell_type": "code",
   "execution_count": 82,
   "id": "076300ce",
   "metadata": {},
   "outputs": [
    {
     "data": {
      "image/png": "[encoded data removed]",
      "text/plain": [
       "<Figure size 1000x500 with 1 Axes>"
      ]
     },
     "metadata": {},
     "output_type": "display_data"
    }
   ],
   "source": [
    "fig=plt.figure(figsize=(10, 5), dpi=100)\n",
    "\n",
    "sns.boxplot(x='beds', y='price', data=airbnb_df, palette='Set1')\n",
    "plt.show()"
   ]
  },
  {
   "cell_type": "code",
   "execution_count": 83,
   "id": "bd11f606",
   "metadata": {},
   "outputs": [
    {
     "data": {
      "image/png": "[encoded data removed]",
      "text/plain": [
       "<Figure size 1000x500 with 1 Axes>"
      ]
     },
     "metadata": {},
     "output_type": "display_data"
    }
   ],
   "source": [
    "fig=plt.figure(figsize=(10, 5), dpi=100)\n",
    "\n",
    "sns.boxplot(x='accomodates', y='price', data=airbnb_df, palette='Set1')\n",
    "plt.show()"
   ]
  },
  {
   "cell_type": "code",
   "execution_count": 84,
   "id": "d398788e",
   "metadata": {},
   "outputs": [
    {
     "name": "stdout",
     "output_type": "stream",
     "text": [
      "Beds Pearson Correlation Coefficient with price is  0.17774021609424775 and a P-value of: 2.7144439754725076e-64\n",
      "Bedrooms Pearson Correlation Coefficient with price is  0.30184347550625806 and a P-value of: 1.6640772691628812e-187\n",
      "Accommodates Pearson Correlation Coefficient with price is  0.15773582374687234 and a P-value of: 7.503508302739632e-51\n"
     ]
    }
   ],
   "source": [
    "#Calculating correlation for beds and price\n",
    "beds_coefficient, beds_p_value = stats.pearsonr(airbnb_df.price, airbnb_df.beds)\n",
    "print(\"Beds Pearson Correlation Coefficient with price is \", beds_coefficient, \"and a P-value of:\", beds_p_value)\n",
    "\n",
    "#Calculating correlation for bedrooms and price\n",
    "bedrooms_coefficient, bedrooms_p_value = stats.pearsonr(airbnb_df.price, airbnb_df.bedrooms)\n",
    "print(\"Bedrooms Pearson Correlation Coefficient with price is \", bedrooms_coefficient, \"and a P-value of:\", bedrooms_p_value)\n",
    "\n",
    "\n",
    "#Calculating correlation for accomodates and price\n",
    "accomodates_coefficient, accomodates_p_value = stats.pearsonr(airbnb_df.price, airbnb_df.accomodates)\n",
    "print(\"Accommodates Pearson Correlation Coefficient with price is \", accomodates_coefficient, \"and a P-value of:\", accomodates_p_value)"
   ]
  },
  {
   "cell_type": "markdown",
   "id": "9358bd48",
   "metadata": {},
   "source": [
    "Null Hypothesis: There is no correlation between these variables and price.\n",
    "As we can see the p values for beds, bedrooms and accomodates are very small closer to zero, the null hypothesis is wrong. There is correlation between these variables and price.\n",
    "\n",
    "Beds Pearson Correlation Coefficient with price is  0.17774021609424775, which is positive implies that with increase in beds, there might be an increase of price as well. But the correlation is a weak one.\n",
    "\n",
    "Bedrooms Pearson Correlation Coefficient with price is  0.30184347550625806 is also positive and stronger than the beds - price one. This suggests that price tends to increase with increase with the increase in bedrooms\n",
    "\n",
    "Accommodates Pearson Correlation Coefficient with price is  0.15773582374687234, which is positive. So with increase with accomodates, there are chances that the price should increase. But this has the weakest correlation amongst the three variables."
   ]
  },
  {
   "cell_type": "code",
   "execution_count": 99,
   "id": "fffd44ae",
   "metadata": {},
   "outputs": [
    {
     "name": "stdout",
     "output_type": "stream",
     "text": [
      "Listing ID Pearson Correlation Coefficient with price is  0.00852546721086537 and a P-value of: 0.42047793949203877\n"
     ]
    }
   ],
   "source": [
    "#Calculating correlation for listing_id and price\n",
    "listing_id_coefficient, listing_id_p_value = stats.pearsonr(airbnb_df.price, airbnb_df.listing_id)\n",
    "print(\"Listing ID Pearson Correlation Coefficient with price is \",listing_id_coefficient , \"and a P-value of:\", listing_id_p_value)"
   ]
  },
  {
   "cell_type": "code",
   "execution_count": 85,
   "id": "ada860f1",
   "metadata": {},
   "outputs": [
    {
     "data": {
      "text/plain": [
       "Entire rental unit                     5691\n",
       "Entire condominium (condo)              529\n",
       "Entire serviced apartment               522\n",
       "Entire loft                             450\n",
       "Entire townhouse                        261\n",
       "Private room in rental unit             253\n",
       "Private room in townhouse               218\n",
       "Room in boutique hotel                  218\n",
       "Private room in residential home        189\n",
       "Entire residential home                 185\n",
       "Room in aparthotel                      121\n",
       "Private room in bed and breakfast        75\n",
       "Room in hotel                            39\n",
       "Private room in condominium (condo)      35\n",
       "Private room                             30\n",
       "Entire guest suite                       30\n",
       "Private room in loft                     13\n",
       "Entire vacation home                     12\n",
       "Entire guesthouse                         7\n",
       "Private room in guest suite               7\n",
       "Private room in boat                      5\n",
       "Private room in guesthouse                5\n",
       "Private room in casa particular           4\n",
       "Shared room in residential home           4\n",
       "Shared room in casa particular            4\n",
       "Entire villa                              3\n",
       "Entire cottage                            3\n",
       "Private room in religious building        3\n",
       "Private room in serviced apartment        3\n",
       "Shared room in bed and breakfast          2\n",
       "Houseboat                                 2\n",
       "Casa particular                           1\n",
       "Boat                                      1\n",
       "Castle                                    1\n",
       "Shared room in loft                       1\n",
       "Tent                                      1\n",
       "Tiny house                                1\n",
       "Yurt                                      1\n",
       "Private room in villa                     1\n",
       "Name: property_type, dtype: int64"
      ]
     },
     "execution_count": 85,
     "metadata": {},
     "output_type": "execute_result"
    }
   ],
   "source": [
    "airbnb_df.property_type.value_counts()"
   ]
  },
  {
   "cell_type": "code",
   "execution_count": 94,
   "id": "697597c0",
   "metadata": {},
   "outputs": [
    {
     "data": {
      "image/png": "[encoded data removed]",
      "text/plain": [
       "<Figure size 2500x1000 with 1 Axes>"
      ]
     },
     "metadata": {},
     "output_type": "display_data"
    }
   ],
   "source": [
    "# Calculate the mean price for each property type\n",
    "mean_prices = airbnb_df.groupby('property_type')['price'].mean().sort_values()\n",
    "\n",
    "# Create a line plot\n",
    "plt.figure(figsize=(25,10))\n",
    "sns.lineplot(x=mean_prices.index, y=mean_prices.values)\n",
    "plt.title('Bivariate Relationship between Property Type and Mean Price')\n",
    "plt.xlabel('Property Type')\n",
    "plt.ylabel('Mean Price')\n",
    "plt.xticks(rotation=45)  # Rotate x-axis labels for better readability\n",
    "plt.show()\n"
   ]
  },
  {
   "cell_type": "markdown",
   "id": "3ac2c742",
   "metadata": {},
   "source": [
    "It can be observed that different property types are having different prices. So their is a correlation between the variables."
   ]
  },
  {
   "cell_type": "code",
   "execution_count": 97,
   "id": "e0608b38",
   "metadata": {},
   "outputs": [
    {
     "data": {
      "image/png": "[encoded data removed]",
      "text/plain": [
       "<Figure size 1200x600 with 1 Axes>"
      ]
     },
     "metadata": {},
     "output_type": "display_data"
    }
   ],
   "source": [
    "# Calculate the mean price for each property type\n",
    "mean_prices = airbnb_df.groupby('room_type')['price'].mean().sort_values()\n",
    "\n",
    "# Create a line plot\n",
    "plt.figure(figsize=(12,6))\n",
    "sns.lineplot(x=mean_prices.index, y=mean_prices.values)\n",
    "plt.title('Bivariate Relationship between Property Type and Mean Price')\n",
    "plt.xlabel('Room Type')\n",
    "plt.ylabel('Mean Price')\n",
    "plt.xticks(rotation=45)  # Rotate x-axis labels for better readability\n",
    "plt.show()"
   ]
  },
  {
   "cell_type": "markdown",
   "id": "ff2cc19c",
   "metadata": {},
   "source": [
    "We can observe that change in room type is having and impact on the price. So there is correlation between the two variables"
   ]
  }
 ],
 "metadata": {
  "kernelspec": {
   "display_name": "Python 3 (ipykernel)",
   "language": "python",
   "name": "python3"
  },
  "language_info": {
   "codemirror_mode": {
    "name": "ipython",
    "version": 3
   },
   "file_extension": ".py",
   "mimetype": "text/x-python",
   "name": "python",
   "nbconvert_exporter": "python",
   "pygments_lexer": "ipython3",
   "version": "3.10.9"
  }
 },
 "nbformat": 4,
 "nbformat_minor": 5
}
