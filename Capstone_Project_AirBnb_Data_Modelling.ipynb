{
 "cells": [
  {
   "cell_type": "code",
   "execution_count": 59,
   "id": "2998a057",
   "metadata": {},
   "outputs": [],
   "source": [
    "import pandas as pd\n",
    "import numpy as np\n",
    "\n",
    "#Import data preprocessing packages\n",
    "from sklearn.preprocessing import MinMaxScaler\n",
    "from sklearn.pipeline import Pipeline\n",
    "from sklearn.preprocessing import MaxAbsScaler\n",
    "\n",
    "from statsmodels import regression\n",
    "from sklearn.linear_model import LinearRegression\n",
    "from sklearn.ensemble import RandomForestRegressor\n",
    "from sklearn.tree import DecisionTreeRegressor\n",
    "import xgboost as xgb\n",
    "\n",
    "\n",
    "#Import random forest package\n",
    "from sklearn.ensemble import RandomForestRegressor\n",
    "\n",
    "#Import scoring metrics\n",
    "from sklearn.metrics import mean_squared_error\n",
    "\n",
    "from sklearn.model_selection import train_test_split"
   ]
  },
  {
   "cell_type": "code",
   "execution_count": 60,
   "id": "3ab3ee08",
   "metadata": {},
   "outputs": [],
   "source": [
    "airbnb_df = pd.read_csv(\"airbnb_data_13-03-2024.csv\")"
   ]
  },
  {
   "cell_type": "code",
   "execution_count": 61,
   "id": "44a8e4df",
   "metadata": {},
   "outputs": [
    {
     "data": {
      "text/html": [
       "<div>\n",
       "<style scoped>\n",
       "    .dataframe tbody tr th:only-of-type {\n",
       "        vertical-align: middle;\n",
       "    }\n",
       "\n",
       "    .dataframe tbody tr th {\n",
       "        vertical-align: top;\n",
       "    }\n",
       "\n",
       "    .dataframe thead th {\n",
       "        text-align: right;\n",
       "    }\n",
       "</style>\n",
       "<table border=\"1\" class=\"dataframe\">\n",
       "  <thead>\n",
       "    <tr style=\"text-align: right;\">\n",
       "      <th></th>\n",
       "      <th>listing_id</th>\n",
       "      <th>date</th>\n",
       "      <th>price</th>\n",
       "      <th>property_type</th>\n",
       "      <th>room_type</th>\n",
       "      <th>accomodates</th>\n",
       "      <th>bedrooms</th>\n",
       "      <th>beds</th>\n",
       "    </tr>\n",
       "  </thead>\n",
       "  <tbody>\n",
       "    <tr>\n",
       "      <th>0</th>\n",
       "      <td>40334325</td>\n",
       "      <td>2022-08-03</td>\n",
       "      <td>56.0</td>\n",
       "      <td>Entire rental unit</td>\n",
       "      <td>Entire home/apt</td>\n",
       "      <td>2</td>\n",
       "      <td>1.0</td>\n",
       "      <td>2.0</td>\n",
       "    </tr>\n",
       "    <tr>\n",
       "      <th>1</th>\n",
       "      <td>22742449</td>\n",
       "      <td>2022-11-13</td>\n",
       "      <td>95.0</td>\n",
       "      <td>Entire rental unit</td>\n",
       "      <td>Entire home/apt</td>\n",
       "      <td>4</td>\n",
       "      <td>2.0</td>\n",
       "      <td>2.0</td>\n",
       "    </tr>\n",
       "    <tr>\n",
       "      <th>2</th>\n",
       "      <td>22742449</td>\n",
       "      <td>2022-06-28</td>\n",
       "      <td>112.0</td>\n",
       "      <td>Entire rental unit</td>\n",
       "      <td>Entire home/apt</td>\n",
       "      <td>4</td>\n",
       "      <td>2.0</td>\n",
       "      <td>2.0</td>\n",
       "    </tr>\n",
       "    <tr>\n",
       "      <th>3</th>\n",
       "      <td>22742449</td>\n",
       "      <td>2022-01-02</td>\n",
       "      <td>155.0</td>\n",
       "      <td>Entire rental unit</td>\n",
       "      <td>Entire home/apt</td>\n",
       "      <td>4</td>\n",
       "      <td>2.0</td>\n",
       "      <td>2.0</td>\n",
       "    </tr>\n",
       "    <tr>\n",
       "      <th>4</th>\n",
       "      <td>22742449</td>\n",
       "      <td>2022-09-05</td>\n",
       "      <td>125.0</td>\n",
       "      <td>Entire rental unit</td>\n",
       "      <td>Entire home/apt</td>\n",
       "      <td>4</td>\n",
       "      <td>2.0</td>\n",
       "      <td>2.0</td>\n",
       "    </tr>\n",
       "  </tbody>\n",
       "</table>\n",
       "</div>"
      ],
      "text/plain": [
       "   listing_id        date  price       property_type        room_type  \\\n",
       "0    40334325  2022-08-03   56.0  Entire rental unit  Entire home/apt   \n",
       "1    22742449  2022-11-13   95.0  Entire rental unit  Entire home/apt   \n",
       "2    22742449  2022-06-28  112.0  Entire rental unit  Entire home/apt   \n",
       "3    22742449  2022-01-02  155.0  Entire rental unit  Entire home/apt   \n",
       "4    22742449  2022-09-05  125.0  Entire rental unit  Entire home/apt   \n",
       "\n",
       "   accomodates  bedrooms  beds  \n",
       "0            2       1.0   2.0  \n",
       "1            4       2.0   2.0  \n",
       "2            4       2.0   2.0  \n",
       "3            4       2.0   2.0  \n",
       "4            4       2.0   2.0  "
      ]
     },
     "execution_count": 61,
     "metadata": {},
     "output_type": "execute_result"
    }
   ],
   "source": [
    "airbnb_df.head()"
   ]
  },
  {
   "cell_type": "markdown",
   "id": "6830e3cd",
   "metadata": {},
   "source": [
    "### Prediction using Linear Regression Model"
   ]
  },
  {
   "cell_type": "code",
   "execution_count": 62,
   "id": "25f91885",
   "metadata": {},
   "outputs": [],
   "source": [
    "categorical_variables = airbnb_df[['property_type','room_type','accomodates','bedrooms','beds']].columns"
   ]
  },
  {
   "cell_type": "code",
   "execution_count": 63,
   "id": "782d711e",
   "metadata": {},
   "outputs": [],
   "source": [
    "#Performing get_dummies to  categorical variables\n",
    "airbnb_df_expanded = airbnb_df.copy()\n",
    "airbnb_df_expanded = pd.get_dummies(airbnb_df, sparse=True, columns=categorical_variables, drop_first=True)"
   ]
  },
  {
   "cell_type": "markdown",
   "id": "010a1a88",
   "metadata": {},
   "source": [
    "pd.get_dummies(): The categorical variables in the DataFrame are converted into a set of binary variables, where each category of the original variable becomes a new binary variable (dummy variable)"
   ]
  },
  {
   "cell_type": "code",
   "execution_count": 64,
   "id": "b99dbc5f",
   "metadata": {},
   "outputs": [],
   "source": [
    "#Creating X and y\n",
    "X_vars = airbnb_df_expanded.columns.difference(['listing_id', 'price', 'date'])\n",
    "X = airbnb_df_expanded[X_vars]\n",
    "y = airbnb_df_expanded[['price']]"
   ]
  },
  {
   "cell_type": "code",
   "execution_count": 65,
   "id": "9530ebbf",
   "metadata": {},
   "outputs": [],
   "source": [
    "# Creating train and test splits\n",
    "X_train, X_test, y_train, y_test = train_test_split(X, y, test_size=0.2, random_state=31)"
   ]
  },
  {
   "cell_type": "code",
   "execution_count": 66,
   "id": "8025303d",
   "metadata": {},
   "outputs": [],
   "source": [
    "#Initialize MaxAbsScaler\n",
    "scaler = MaxAbsScaler()\n",
    "#Initialize Linear Regression\n",
    "regression = LinearRegression()\n",
    "#Create pipeline\n",
    "pipeline_ols = Pipeline([(\"Scaler\", scaler), (\"Regression\", regression)])"
   ]
  },
  {
   "cell_type": "markdown",
   "id": "3be6035a",
   "metadata": {},
   "source": [
    "Tried using MinMax Scalar:it was giving convert to dense numpy array error.\n",
    "OLS(Ordinary Least Squares) is used as multiple predictor variables are involved. OLS can handle more complex relationships between the predictors."
   ]
  },
  {
   "cell_type": "code",
   "execution_count": 67,
   "id": "d2ee9a4b",
   "metadata": {},
   "outputs": [
    {
     "data": {
      "text/html": [
       "<style>#sk-container-id-6 {color: black;background-color: white;}#sk-container-id-6 pre{padding: 0;}#sk-container-id-6 div.sk-toggleable {background-color: white;}#sk-container-id-6 label.sk-toggleable__label {cursor: pointer;display: block;width: 100%;margin-bottom: 0;padding: 0.3em;box-sizing: border-box;text-align: center;}#sk-container-id-6 label.sk-toggleable__label-arrow:before {content: \"▸\";float: left;margin-right: 0.25em;color: #696969;}#sk-container-id-6 label.sk-toggleable__label-arrow:hover:before {color: black;}#sk-container-id-6 div.sk-estimator:hover label.sk-toggleable__label-arrow:before {color: black;}#sk-container-id-6 div.sk-toggleable__content {max-height: 0;max-width: 0;overflow: hidden;text-align: left;background-color: #f0f8ff;}#sk-container-id-6 div.sk-toggleable__content pre {margin: 0.2em;color: black;border-radius: 0.25em;background-color: #f0f8ff;}#sk-container-id-6 input.sk-toggleable__control:checked~div.sk-toggleable__content {max-height: 200px;max-width: 100%;overflow: auto;}#sk-container-id-6 input.sk-toggleable__control:checked~label.sk-toggleable__label-arrow:before {content: \"▾\";}#sk-container-id-6 div.sk-estimator input.sk-toggleable__control:checked~label.sk-toggleable__label {background-color: #d4ebff;}#sk-container-id-6 div.sk-label input.sk-toggleable__control:checked~label.sk-toggleable__label {background-color: #d4ebff;}#sk-container-id-6 input.sk-hidden--visually {border: 0;clip: rect(1px 1px 1px 1px);clip: rect(1px, 1px, 1px, 1px);height: 1px;margin: -1px;overflow: hidden;padding: 0;position: absolute;width: 1px;}#sk-container-id-6 div.sk-estimator {font-family: monospace;background-color: #f0f8ff;border: 1px dotted black;border-radius: 0.25em;box-sizing: border-box;margin-bottom: 0.5em;}#sk-container-id-6 div.sk-estimator:hover {background-color: #d4ebff;}#sk-container-id-6 div.sk-parallel-item::after {content: \"\";width: 100%;border-bottom: 1px solid gray;flex-grow: 1;}#sk-container-id-6 div.sk-label:hover label.sk-toggleable__label {background-color: #d4ebff;}#sk-container-id-6 div.sk-serial::before {content: \"\";position: absolute;border-left: 1px solid gray;box-sizing: border-box;top: 0;bottom: 0;left: 50%;z-index: 0;}#sk-container-id-6 div.sk-serial {display: flex;flex-direction: column;align-items: center;background-color: white;padding-right: 0.2em;padding-left: 0.2em;position: relative;}#sk-container-id-6 div.sk-item {position: relative;z-index: 1;}#sk-container-id-6 div.sk-parallel {display: flex;align-items: stretch;justify-content: center;background-color: white;position: relative;}#sk-container-id-6 div.sk-item::before, #sk-container-id-6 div.sk-parallel-item::before {content: \"\";position: absolute;border-left: 1px solid gray;box-sizing: border-box;top: 0;bottom: 0;left: 50%;z-index: -1;}#sk-container-id-6 div.sk-parallel-item {display: flex;flex-direction: column;z-index: 1;position: relative;background-color: white;}#sk-container-id-6 div.sk-parallel-item:first-child::after {align-self: flex-end;width: 50%;}#sk-container-id-6 div.sk-parallel-item:last-child::after {align-self: flex-start;width: 50%;}#sk-container-id-6 div.sk-parallel-item:only-child::after {width: 0;}#sk-container-id-6 div.sk-dashed-wrapped {border: 1px dashed gray;margin: 0 0.4em 0.5em 0.4em;box-sizing: border-box;padding-bottom: 0.4em;background-color: white;}#sk-container-id-6 div.sk-label label {font-family: monospace;font-weight: bold;display: inline-block;line-height: 1.2em;}#sk-container-id-6 div.sk-label-container {text-align: center;}#sk-container-id-6 div.sk-container {/* jupyter's `normalize.less` sets `[hidden] { display: none; }` but bootstrap.min.css set `[hidden] { display: none !important; }` so we also need the `!important` here to be able to override the default hidden behavior on the sphinx rendered scikit-learn.org. See: https://github.com/scikit-learn/scikit-learn/issues/21755 */display: inline-block !important;position: relative;}#sk-container-id-6 div.sk-text-repr-fallback {display: none;}</style><div id=\"sk-container-id-6\" class=\"sk-top-container\"><div class=\"sk-text-repr-fallback\"><pre>Pipeline(steps=[(&#x27;Scaler&#x27;, MaxAbsScaler()), (&#x27;Regression&#x27;, LinearRegression())])</pre><b>In a Jupyter environment, please rerun this cell to show the HTML representation or trust the notebook. <br />On GitHub, the HTML representation is unable to render, please try loading this page with nbviewer.org.</b></div><div class=\"sk-container\" hidden><div class=\"sk-item sk-dashed-wrapped\"><div class=\"sk-label-container\"><div class=\"sk-label sk-toggleable\"><input class=\"sk-toggleable__control sk-hidden--visually\" id=\"sk-estimator-id-16\" type=\"checkbox\" ><label for=\"sk-estimator-id-16\" class=\"sk-toggleable__label sk-toggleable__label-arrow\">Pipeline</label><div class=\"sk-toggleable__content\"><pre>Pipeline(steps=[(&#x27;Scaler&#x27;, MaxAbsScaler()), (&#x27;Regression&#x27;, LinearRegression())])</pre></div></div></div><div class=\"sk-serial\"><div class=\"sk-item\"><div class=\"sk-estimator sk-toggleable\"><input class=\"sk-toggleable__control sk-hidden--visually\" id=\"sk-estimator-id-17\" type=\"checkbox\" ><label for=\"sk-estimator-id-17\" class=\"sk-toggleable__label sk-toggleable__label-arrow\">MaxAbsScaler</label><div class=\"sk-toggleable__content\"><pre>MaxAbsScaler()</pre></div></div></div><div class=\"sk-item\"><div class=\"sk-estimator sk-toggleable\"><input class=\"sk-toggleable__control sk-hidden--visually\" id=\"sk-estimator-id-18\" type=\"checkbox\" ><label for=\"sk-estimator-id-18\" class=\"sk-toggleable__label sk-toggleable__label-arrow\">LinearRegression</label><div class=\"sk-toggleable__content\"><pre>LinearRegression()</pre></div></div></div></div></div></div></div>"
      ],
      "text/plain": [
       "Pipeline(steps=[('Scaler', MaxAbsScaler()), ('Regression', LinearRegression())])"
      ]
     },
     "execution_count": 67,
     "metadata": {},
     "output_type": "execute_result"
    }
   ],
   "source": [
    "pipeline_ols.fit(X_train, y_train['price'])"
   ]
  },
  {
   "cell_type": "code",
   "execution_count": 68,
   "id": "e13794fd",
   "metadata": {},
   "outputs": [],
   "source": [
    "#Calculating R- squared on train and test data\n",
    "ols_train_r2 = pipeline_ols.score(X_train, y_train['price'])\n",
    "ols_test_r2 = pipeline_ols.score(X_test, y_test['price'])"
   ]
  },
  {
   "cell_type": "code",
   "execution_count": 69,
   "id": "34dfc789",
   "metadata": {},
   "outputs": [
    {
     "name": "stdout",
     "output_type": "stream",
     "text": [
      "train r-squared is  0.3304400536152847  and test r-squared is  0.36966449299508464\n"
     ]
    }
   ],
   "source": [
    "print(\"train r-squared is \",ols_train_r2, \" and test r-squared is \",ols_test_r2 )"
   ]
  },
  {
   "cell_type": "code",
   "execution_count": 70,
   "id": "38f02f4d",
   "metadata": {},
   "outputs": [],
   "source": [
    "#Calculating Mean Squared Error on train and test data\n",
    "x_train_predictor = pipeline_ols.predict(X_train)\n",
    "x_test_predictor = pipeline_ols.predict(X_test)\n",
    "\n",
    "mse_train = mean_squared_error(y_train['price'], x_train_predictor)\n",
    "mse_test = mean_squared_error(y_test['price'], x_test_predictor)"
   ]
  },
  {
   "cell_type": "code",
   "execution_count": 71,
   "id": "98c100ef",
   "metadata": {},
   "outputs": [],
   "source": [
    "#Calculating Root mean squared error on train and test data\n",
    "rmse_train = np.sqrt(mse_train)\n",
    "rmse_test = np.sqrt(mse_test)"
   ]
  },
  {
   "cell_type": "code",
   "execution_count": 72,
   "id": "019a62c9",
   "metadata": {},
   "outputs": [],
   "source": [
    "model_scores_df = pd.DataFrame([{'Model':'OLS_Airbnb_Price', 'R2_train':ols_train_r2, 'R2_test':ols_test_r2, \n",
    "                          'RMSE_train':rmse_train, 'RMSE_test':rmse_test}])"
   ]
  },
  {
   "cell_type": "code",
   "execution_count": 73,
   "id": "19b3db91",
   "metadata": {},
   "outputs": [
    {
     "data": {
      "text/html": [
       "<div>\n",
       "<style scoped>\n",
       "    .dataframe tbody tr th:only-of-type {\n",
       "        vertical-align: middle;\n",
       "    }\n",
       "\n",
       "    .dataframe tbody tr th {\n",
       "        vertical-align: top;\n",
       "    }\n",
       "\n",
       "    .dataframe thead th {\n",
       "        text-align: right;\n",
       "    }\n",
       "</style>\n",
       "<table border=\"1\" class=\"dataframe\">\n",
       "  <thead>\n",
       "    <tr style=\"text-align: right;\">\n",
       "      <th></th>\n",
       "      <th>Model</th>\n",
       "      <th>R2_train</th>\n",
       "      <th>R2_test</th>\n",
       "      <th>RMSE_train</th>\n",
       "      <th>RMSE_test</th>\n",
       "    </tr>\n",
       "  </thead>\n",
       "  <tbody>\n",
       "    <tr>\n",
       "      <th>0</th>\n",
       "      <td>OLS_Airbnb_Price</td>\n",
       "      <td>0.33044</td>\n",
       "      <td>0.369664</td>\n",
       "      <td>35.438557</td>\n",
       "      <td>35.633949</td>\n",
       "    </tr>\n",
       "  </tbody>\n",
       "</table>\n",
       "</div>"
      ],
      "text/plain": [
       "              Model  R2_train   R2_test  RMSE_train  RMSE_test\n",
       "0  OLS_Airbnb_Price   0.33044  0.369664   35.438557  35.633949"
      ]
     },
     "execution_count": 73,
     "metadata": {},
     "output_type": "execute_result"
    }
   ],
   "source": [
    "model_scores_df[['Model', 'R2_train', 'R2_test', 'RMSE_train', 'RMSE_test']]"
   ]
  },
  {
   "cell_type": "markdown",
   "id": "e7260d3e",
   "metadata": {},
   "source": [
    "Here we can see the R2 value improved from train to test(from ~0.33 to ~0.36)"
   ]
  },
  {
   "cell_type": "code",
   "execution_count": 74,
   "id": "d75e96de",
   "metadata": {},
   "outputs": [
    {
     "data": {
      "text/plain": [
       "Feature                  59\n",
       "Coefficients_RawPrice    59\n",
       "dtype: int64"
      ]
     },
     "execution_count": 74,
     "metadata": {},
     "output_type": "execute_result"
    }
   ],
   "source": [
    "# Retrieving coefficients from trained model and creating df to store them\n",
    "features_coefficients = pd.DataFrame({\"Feature\":X_train.columns, \n",
    "                             \"Coefficients_RawPrice\":np.transpose(pipeline_ols.named_steps['Regression'].coef_)})\n",
    "\n",
    "features_coefficients[features_coefficients['Coefficients_RawPrice']!=0].count()"
   ]
  },
  {
   "cell_type": "markdown",
   "id": "6ee5f243",
   "metadata": {},
   "source": [
    "The model has 59 feature variables with valid coefficient value(not equal to 0)"
   ]
  },
  {
   "cell_type": "code",
   "execution_count": 75,
   "id": "39972468",
   "metadata": {},
   "outputs": [
    {
     "data": {
      "text/html": [
       "<div>\n",
       "<style scoped>\n",
       "    .dataframe tbody tr th:only-of-type {\n",
       "        vertical-align: middle;\n",
       "    }\n",
       "\n",
       "    .dataframe tbody tr th {\n",
       "        vertical-align: top;\n",
       "    }\n",
       "\n",
       "    .dataframe thead th {\n",
       "        text-align: right;\n",
       "    }\n",
       "</style>\n",
       "<table border=\"1\" class=\"dataframe\">\n",
       "  <thead>\n",
       "    <tr style=\"text-align: right;\">\n",
       "      <th></th>\n",
       "      <th>Feature</th>\n",
       "      <th>Coefficients_RawPrice</th>\n",
       "    </tr>\n",
       "  </thead>\n",
       "  <tbody>\n",
       "    <tr>\n",
       "      <th>0</th>\n",
       "      <td>accomodates_10</td>\n",
       "      <td>34.407319</td>\n",
       "    </tr>\n",
       "    <tr>\n",
       "      <th>1</th>\n",
       "      <td>accomodates_11</td>\n",
       "      <td>46.326094</td>\n",
       "    </tr>\n",
       "    <tr>\n",
       "      <th>2</th>\n",
       "      <td>accomodates_12</td>\n",
       "      <td>22.374357</td>\n",
       "    </tr>\n",
       "    <tr>\n",
       "      <th>3</th>\n",
       "      <td>accomodates_14</td>\n",
       "      <td>16.289967</td>\n",
       "    </tr>\n",
       "    <tr>\n",
       "      <th>4</th>\n",
       "      <td>accomodates_15</td>\n",
       "      <td>7.822510</td>\n",
       "    </tr>\n",
       "    <tr>\n",
       "      <th>5</th>\n",
       "      <td>accomodates_16</td>\n",
       "      <td>71.772219</td>\n",
       "    </tr>\n",
       "    <tr>\n",
       "      <th>6</th>\n",
       "      <td>accomodates_2</td>\n",
       "      <td>12.092056</td>\n",
       "    </tr>\n",
       "    <tr>\n",
       "      <th>7</th>\n",
       "      <td>accomodates_3</td>\n",
       "      <td>18.656846</td>\n",
       "    </tr>\n",
       "    <tr>\n",
       "      <th>8</th>\n",
       "      <td>accomodates_4</td>\n",
       "      <td>34.546831</td>\n",
       "    </tr>\n",
       "    <tr>\n",
       "      <th>9</th>\n",
       "      <td>accomodates_5</td>\n",
       "      <td>27.605391</td>\n",
       "    </tr>\n",
       "    <tr>\n",
       "      <th>10</th>\n",
       "      <td>accomodates_6</td>\n",
       "      <td>42.709818</td>\n",
       "    </tr>\n",
       "    <tr>\n",
       "      <th>11</th>\n",
       "      <td>accomodates_7</td>\n",
       "      <td>43.175605</td>\n",
       "    </tr>\n",
       "    <tr>\n",
       "      <th>12</th>\n",
       "      <td>accomodates_8</td>\n",
       "      <td>46.542877</td>\n",
       "    </tr>\n",
       "    <tr>\n",
       "      <th>13</th>\n",
       "      <td>accomodates_9</td>\n",
       "      <td>31.239456</td>\n",
       "    </tr>\n",
       "    <tr>\n",
       "      <th>14</th>\n",
       "      <td>bedrooms_2.0</td>\n",
       "      <td>23.508293</td>\n",
       "    </tr>\n",
       "    <tr>\n",
       "      <th>15</th>\n",
       "      <td>bedrooms_3.0</td>\n",
       "      <td>35.500628</td>\n",
       "    </tr>\n",
       "    <tr>\n",
       "      <th>16</th>\n",
       "      <td>beds_2.0</td>\n",
       "      <td>-11.176072</td>\n",
       "    </tr>\n",
       "    <tr>\n",
       "      <th>17</th>\n",
       "      <td>beds_3.0</td>\n",
       "      <td>-17.119041</td>\n",
       "    </tr>\n",
       "    <tr>\n",
       "      <th>18</th>\n",
       "      <td>property_type_Casa particular</td>\n",
       "      <td>-14.178572</td>\n",
       "    </tr>\n",
       "    <tr>\n",
       "      <th>19</th>\n",
       "      <td>property_type_Castle</td>\n",
       "      <td>78.922314</td>\n",
       "    </tr>\n",
       "    <tr>\n",
       "      <th>20</th>\n",
       "      <td>property_type_Entire condominium (condo)</td>\n",
       "      <td>35.410156</td>\n",
       "    </tr>\n",
       "    <tr>\n",
       "      <th>21</th>\n",
       "      <td>property_type_Entire cottage</td>\n",
       "      <td>88.582944</td>\n",
       "    </tr>\n",
       "    <tr>\n",
       "      <th>22</th>\n",
       "      <td>property_type_Entire guest suite</td>\n",
       "      <td>37.107608</td>\n",
       "    </tr>\n",
       "    <tr>\n",
       "      <th>23</th>\n",
       "      <td>property_type_Entire guesthouse</td>\n",
       "      <td>27.214183</td>\n",
       "    </tr>\n",
       "    <tr>\n",
       "      <th>24</th>\n",
       "      <td>property_type_Entire loft</td>\n",
       "      <td>52.966797</td>\n",
       "    </tr>\n",
       "    <tr>\n",
       "      <th>25</th>\n",
       "      <td>property_type_Entire rental unit</td>\n",
       "      <td>40.136163</td>\n",
       "    </tr>\n",
       "    <tr>\n",
       "      <th>26</th>\n",
       "      <td>property_type_Entire residential home</td>\n",
       "      <td>48.110947</td>\n",
       "    </tr>\n",
       "    <tr>\n",
       "      <th>27</th>\n",
       "      <td>property_type_Entire serviced apartment</td>\n",
       "      <td>107.631615</td>\n",
       "    </tr>\n",
       "    <tr>\n",
       "      <th>28</th>\n",
       "      <td>property_type_Entire townhouse</td>\n",
       "      <td>50.456300</td>\n",
       "    </tr>\n",
       "    <tr>\n",
       "      <th>29</th>\n",
       "      <td>property_type_Entire vacation home</td>\n",
       "      <td>50.661813</td>\n",
       "    </tr>\n",
       "    <tr>\n",
       "      <th>30</th>\n",
       "      <td>property_type_Entire villa</td>\n",
       "      <td>105.123467</td>\n",
       "    </tr>\n",
       "    <tr>\n",
       "      <th>31</th>\n",
       "      <td>property_type_Houseboat</td>\n",
       "      <td>24.663044</td>\n",
       "    </tr>\n",
       "    <tr>\n",
       "      <th>32</th>\n",
       "      <td>property_type_Private room</td>\n",
       "      <td>19.140569</td>\n",
       "    </tr>\n",
       "    <tr>\n",
       "      <th>33</th>\n",
       "      <td>property_type_Private room in bed and breakfast</td>\n",
       "      <td>45.154099</td>\n",
       "    </tr>\n",
       "    <tr>\n",
       "      <th>34</th>\n",
       "      <td>property_type_Private room in boat</td>\n",
       "      <td>-3.581604</td>\n",
       "    </tr>\n",
       "    <tr>\n",
       "      <th>35</th>\n",
       "      <td>property_type_Private room in casa particular</td>\n",
       "      <td>29.482791</td>\n",
       "    </tr>\n",
       "    <tr>\n",
       "      <th>36</th>\n",
       "      <td>property_type_Private room in condominium (condo)</td>\n",
       "      <td>30.204218</td>\n",
       "    </tr>\n",
       "    <tr>\n",
       "      <th>37</th>\n",
       "      <td>property_type_Private room in guest suite</td>\n",
       "      <td>44.652109</td>\n",
       "    </tr>\n",
       "    <tr>\n",
       "      <th>38</th>\n",
       "      <td>property_type_Private room in guesthouse</td>\n",
       "      <td>-0.240604</td>\n",
       "    </tr>\n",
       "    <tr>\n",
       "      <th>39</th>\n",
       "      <td>property_type_Private room in loft</td>\n",
       "      <td>41.982407</td>\n",
       "    </tr>\n",
       "    <tr>\n",
       "      <th>40</th>\n",
       "      <td>property_type_Private room in religious building</td>\n",
       "      <td>66.844132</td>\n",
       "    </tr>\n",
       "    <tr>\n",
       "      <th>41</th>\n",
       "      <td>property_type_Private room in rental unit</td>\n",
       "      <td>25.857146</td>\n",
       "    </tr>\n",
       "    <tr>\n",
       "      <th>42</th>\n",
       "      <td>property_type_Private room in residential home</td>\n",
       "      <td>32.174621</td>\n",
       "    </tr>\n",
       "    <tr>\n",
       "      <th>43</th>\n",
       "      <td>property_type_Private room in serviced apartment</td>\n",
       "      <td>129.735032</td>\n",
       "    </tr>\n",
       "    <tr>\n",
       "      <th>44</th>\n",
       "      <td>property_type_Private room in townhouse</td>\n",
       "      <td>33.836052</td>\n",
       "    </tr>\n",
       "    <tr>\n",
       "      <th>45</th>\n",
       "      <td>property_type_Private room in villa</td>\n",
       "      <td>173.736548</td>\n",
       "    </tr>\n",
       "    <tr>\n",
       "      <th>46</th>\n",
       "      <td>property_type_Room in aparthotel</td>\n",
       "      <td>58.514115</td>\n",
       "    </tr>\n",
       "    <tr>\n",
       "      <th>47</th>\n",
       "      <td>property_type_Room in boutique hotel</td>\n",
       "      <td>58.385215</td>\n",
       "    </tr>\n",
       "    <tr>\n",
       "      <th>48</th>\n",
       "      <td>property_type_Room in hotel</td>\n",
       "      <td>109.951192</td>\n",
       "    </tr>\n",
       "    <tr>\n",
       "      <th>49</th>\n",
       "      <td>property_type_Shared room in bed and breakfast</td>\n",
       "      <td>-28.439974</td>\n",
       "    </tr>\n",
       "    <tr>\n",
       "      <th>50</th>\n",
       "      <td>property_type_Shared room in casa particular</td>\n",
       "      <td>-37.732491</td>\n",
       "    </tr>\n",
       "    <tr>\n",
       "      <th>51</th>\n",
       "      <td>property_type_Shared room in loft</td>\n",
       "      <td>111.110019</td>\n",
       "    </tr>\n",
       "    <tr>\n",
       "      <th>52</th>\n",
       "      <td>property_type_Shared room in residential home</td>\n",
       "      <td>-22.970441</td>\n",
       "    </tr>\n",
       "    <tr>\n",
       "      <th>53</th>\n",
       "      <td>property_type_Tent</td>\n",
       "      <td>19.087181</td>\n",
       "    </tr>\n",
       "    <tr>\n",
       "      <th>54</th>\n",
       "      <td>property_type_Tiny house</td>\n",
       "      <td>119.222421</td>\n",
       "    </tr>\n",
       "    <tr>\n",
       "      <th>55</th>\n",
       "      <td>property_type_Yurt</td>\n",
       "      <td>-19.394642</td>\n",
       "    </tr>\n",
       "    <tr>\n",
       "      <th>56</th>\n",
       "      <td>room_type_Hotel room</td>\n",
       "      <td>15.339317</td>\n",
       "    </tr>\n",
       "    <tr>\n",
       "      <th>57</th>\n",
       "      <td>room_type_Private room</td>\n",
       "      <td>-16.655522</td>\n",
       "    </tr>\n",
       "    <tr>\n",
       "      <th>58</th>\n",
       "      <td>room_type_Shared room</td>\n",
       "      <td>21.967113</td>\n",
       "    </tr>\n",
       "  </tbody>\n",
       "</table>\n",
       "</div>"
      ],
      "text/plain": [
       "                                              Feature  Coefficients_RawPrice\n",
       "0                                      accomodates_10              34.407319\n",
       "1                                      accomodates_11              46.326094\n",
       "2                                      accomodates_12              22.374357\n",
       "3                                      accomodates_14              16.289967\n",
       "4                                      accomodates_15               7.822510\n",
       "5                                      accomodates_16              71.772219\n",
       "6                                       accomodates_2              12.092056\n",
       "7                                       accomodates_3              18.656846\n",
       "8                                       accomodates_4              34.546831\n",
       "9                                       accomodates_5              27.605391\n",
       "10                                      accomodates_6              42.709818\n",
       "11                                      accomodates_7              43.175605\n",
       "12                                      accomodates_8              46.542877\n",
       "13                                      accomodates_9              31.239456\n",
       "14                                       bedrooms_2.0              23.508293\n",
       "15                                       bedrooms_3.0              35.500628\n",
       "16                                           beds_2.0             -11.176072\n",
       "17                                           beds_3.0             -17.119041\n",
       "18                      property_type_Casa particular             -14.178572\n",
       "19                               property_type_Castle              78.922314\n",
       "20           property_type_Entire condominium (condo)              35.410156\n",
       "21                       property_type_Entire cottage              88.582944\n",
       "22                   property_type_Entire guest suite              37.107608\n",
       "23                    property_type_Entire guesthouse              27.214183\n",
       "24                          property_type_Entire loft              52.966797\n",
       "25                   property_type_Entire rental unit              40.136163\n",
       "26              property_type_Entire residential home              48.110947\n",
       "27            property_type_Entire serviced apartment             107.631615\n",
       "28                     property_type_Entire townhouse              50.456300\n",
       "29                 property_type_Entire vacation home              50.661813\n",
       "30                         property_type_Entire villa             105.123467\n",
       "31                            property_type_Houseboat              24.663044\n",
       "32                         property_type_Private room              19.140569\n",
       "33    property_type_Private room in bed and breakfast              45.154099\n",
       "34                 property_type_Private room in boat              -3.581604\n",
       "35      property_type_Private room in casa particular              29.482791\n",
       "36  property_type_Private room in condominium (condo)              30.204218\n",
       "37          property_type_Private room in guest suite              44.652109\n",
       "38           property_type_Private room in guesthouse              -0.240604\n",
       "39                 property_type_Private room in loft              41.982407\n",
       "40   property_type_Private room in religious building              66.844132\n",
       "41          property_type_Private room in rental unit              25.857146\n",
       "42     property_type_Private room in residential home              32.174621\n",
       "43   property_type_Private room in serviced apartment             129.735032\n",
       "44            property_type_Private room in townhouse              33.836052\n",
       "45                property_type_Private room in villa             173.736548\n",
       "46                   property_type_Room in aparthotel              58.514115\n",
       "47               property_type_Room in boutique hotel              58.385215\n",
       "48                        property_type_Room in hotel             109.951192\n",
       "49     property_type_Shared room in bed and breakfast             -28.439974\n",
       "50       property_type_Shared room in casa particular             -37.732491\n",
       "51                  property_type_Shared room in loft             111.110019\n",
       "52      property_type_Shared room in residential home             -22.970441\n",
       "53                                 property_type_Tent              19.087181\n",
       "54                           property_type_Tiny house             119.222421\n",
       "55                                 property_type_Yurt             -19.394642\n",
       "56                               room_type_Hotel room              15.339317\n",
       "57                             room_type_Private room             -16.655522\n",
       "58                              room_type_Shared room              21.967113"
      ]
     },
     "execution_count": 75,
     "metadata": {},
     "output_type": "execute_result"
    }
   ],
   "source": [
    "features_coefficients"
   ]
  },
  {
   "cell_type": "markdown",
   "id": "43068565",
   "metadata": {},
   "source": [
    "### Using Decision Trees Model"
   ]
  },
  {
   "cell_type": "code",
   "execution_count": 76,
   "id": "9db16887",
   "metadata": {},
   "outputs": [],
   "source": [
    "# Creating train and test splits\n",
    "X_train, X_test, y_train, y_test = train_test_split(X, y, test_size=0.2, random_state=31)"
   ]
  },
  {
   "cell_type": "code",
   "execution_count": 77,
   "id": "0dc7948b",
   "metadata": {},
   "outputs": [],
   "source": [
    "# Initialize MaxAbsScaler\n",
    "scaler = MaxAbsScaler()\n",
    "\n",
    "# Initialize DecisionTreeRegressor\n",
    "tree_regressor = DecisionTreeRegressor(random_state=31)"
   ]
  },
  {
   "cell_type": "code",
   "execution_count": 78,
   "id": "eeefa17f",
   "metadata": {},
   "outputs": [
    {
     "data": {
      "text/html": [
       "<style>#sk-container-id-7 {color: black;background-color: white;}#sk-container-id-7 pre{padding: 0;}#sk-container-id-7 div.sk-toggleable {background-color: white;}#sk-container-id-7 label.sk-toggleable__label {cursor: pointer;display: block;width: 100%;margin-bottom: 0;padding: 0.3em;box-sizing: border-box;text-align: center;}#sk-container-id-7 label.sk-toggleable__label-arrow:before {content: \"▸\";float: left;margin-right: 0.25em;color: #696969;}#sk-container-id-7 label.sk-toggleable__label-arrow:hover:before {color: black;}#sk-container-id-7 div.sk-estimator:hover label.sk-toggleable__label-arrow:before {color: black;}#sk-container-id-7 div.sk-toggleable__content {max-height: 0;max-width: 0;overflow: hidden;text-align: left;background-color: #f0f8ff;}#sk-container-id-7 div.sk-toggleable__content pre {margin: 0.2em;color: black;border-radius: 0.25em;background-color: #f0f8ff;}#sk-container-id-7 input.sk-toggleable__control:checked~div.sk-toggleable__content {max-height: 200px;max-width: 100%;overflow: auto;}#sk-container-id-7 input.sk-toggleable__control:checked~label.sk-toggleable__label-arrow:before {content: \"▾\";}#sk-container-id-7 div.sk-estimator input.sk-toggleable__control:checked~label.sk-toggleable__label {background-color: #d4ebff;}#sk-container-id-7 div.sk-label input.sk-toggleable__control:checked~label.sk-toggleable__label {background-color: #d4ebff;}#sk-container-id-7 input.sk-hidden--visually {border: 0;clip: rect(1px 1px 1px 1px);clip: rect(1px, 1px, 1px, 1px);height: 1px;margin: -1px;overflow: hidden;padding: 0;position: absolute;width: 1px;}#sk-container-id-7 div.sk-estimator {font-family: monospace;background-color: #f0f8ff;border: 1px dotted black;border-radius: 0.25em;box-sizing: border-box;margin-bottom: 0.5em;}#sk-container-id-7 div.sk-estimator:hover {background-color: #d4ebff;}#sk-container-id-7 div.sk-parallel-item::after {content: \"\";width: 100%;border-bottom: 1px solid gray;flex-grow: 1;}#sk-container-id-7 div.sk-label:hover label.sk-toggleable__label {background-color: #d4ebff;}#sk-container-id-7 div.sk-serial::before {content: \"\";position: absolute;border-left: 1px solid gray;box-sizing: border-box;top: 0;bottom: 0;left: 50%;z-index: 0;}#sk-container-id-7 div.sk-serial {display: flex;flex-direction: column;align-items: center;background-color: white;padding-right: 0.2em;padding-left: 0.2em;position: relative;}#sk-container-id-7 div.sk-item {position: relative;z-index: 1;}#sk-container-id-7 div.sk-parallel {display: flex;align-items: stretch;justify-content: center;background-color: white;position: relative;}#sk-container-id-7 div.sk-item::before, #sk-container-id-7 div.sk-parallel-item::before {content: \"\";position: absolute;border-left: 1px solid gray;box-sizing: border-box;top: 0;bottom: 0;left: 50%;z-index: -1;}#sk-container-id-7 div.sk-parallel-item {display: flex;flex-direction: column;z-index: 1;position: relative;background-color: white;}#sk-container-id-7 div.sk-parallel-item:first-child::after {align-self: flex-end;width: 50%;}#sk-container-id-7 div.sk-parallel-item:last-child::after {align-self: flex-start;width: 50%;}#sk-container-id-7 div.sk-parallel-item:only-child::after {width: 0;}#sk-container-id-7 div.sk-dashed-wrapped {border: 1px dashed gray;margin: 0 0.4em 0.5em 0.4em;box-sizing: border-box;padding-bottom: 0.4em;background-color: white;}#sk-container-id-7 div.sk-label label {font-family: monospace;font-weight: bold;display: inline-block;line-height: 1.2em;}#sk-container-id-7 div.sk-label-container {text-align: center;}#sk-container-id-7 div.sk-container {/* jupyter's `normalize.less` sets `[hidden] { display: none; }` but bootstrap.min.css set `[hidden] { display: none !important; }` so we also need the `!important` here to be able to override the default hidden behavior on the sphinx rendered scikit-learn.org. See: https://github.com/scikit-learn/scikit-learn/issues/21755 */display: inline-block !important;position: relative;}#sk-container-id-7 div.sk-text-repr-fallback {display: none;}</style><div id=\"sk-container-id-7\" class=\"sk-top-container\"><div class=\"sk-text-repr-fallback\"><pre>Pipeline(steps=[(&#x27;Scaler&#x27;, MaxAbsScaler()),\n",
       "                (&#x27;DecisionTreeRegressor&#x27;,\n",
       "                 DecisionTreeRegressor(random_state=31))])</pre><b>In a Jupyter environment, please rerun this cell to show the HTML representation or trust the notebook. <br />On GitHub, the HTML representation is unable to render, please try loading this page with nbviewer.org.</b></div><div class=\"sk-container\" hidden><div class=\"sk-item sk-dashed-wrapped\"><div class=\"sk-label-container\"><div class=\"sk-label sk-toggleable\"><input class=\"sk-toggleable__control sk-hidden--visually\" id=\"sk-estimator-id-19\" type=\"checkbox\" ><label for=\"sk-estimator-id-19\" class=\"sk-toggleable__label sk-toggleable__label-arrow\">Pipeline</label><div class=\"sk-toggleable__content\"><pre>Pipeline(steps=[(&#x27;Scaler&#x27;, MaxAbsScaler()),\n",
       "                (&#x27;DecisionTreeRegressor&#x27;,\n",
       "                 DecisionTreeRegressor(random_state=31))])</pre></div></div></div><div class=\"sk-serial\"><div class=\"sk-item\"><div class=\"sk-estimator sk-toggleable\"><input class=\"sk-toggleable__control sk-hidden--visually\" id=\"sk-estimator-id-20\" type=\"checkbox\" ><label for=\"sk-estimator-id-20\" class=\"sk-toggleable__label sk-toggleable__label-arrow\">MaxAbsScaler</label><div class=\"sk-toggleable__content\"><pre>MaxAbsScaler()</pre></div></div></div><div class=\"sk-item\"><div class=\"sk-estimator sk-toggleable\"><input class=\"sk-toggleable__control sk-hidden--visually\" id=\"sk-estimator-id-21\" type=\"checkbox\" ><label for=\"sk-estimator-id-21\" class=\"sk-toggleable__label sk-toggleable__label-arrow\">DecisionTreeRegressor</label><div class=\"sk-toggleable__content\"><pre>DecisionTreeRegressor(random_state=31)</pre></div></div></div></div></div></div></div>"
      ],
      "text/plain": [
       "Pipeline(steps=[('Scaler', MaxAbsScaler()),\n",
       "                ('DecisionTreeRegressor',\n",
       "                 DecisionTreeRegressor(random_state=31))])"
      ]
     },
     "execution_count": 78,
     "metadata": {},
     "output_type": "execute_result"
    }
   ],
   "source": [
    "# Create pipeline\n",
    "pipeline_tree = Pipeline([(\"Scaler\", scaler), (\"DecisionTreeRegressor\", tree_regressor)])\n",
    "\n",
    "# Fit the model\n",
    "pipeline_tree.fit(X_train, y_train)"
   ]
  },
  {
   "cell_type": "code",
   "execution_count": 79,
   "id": "b354456a",
   "metadata": {},
   "outputs": [],
   "source": [
    "# Predicting prices\n",
    "tree_train_predictor = pipeline_tree.predict(X_train)\n",
    "tree_test_predictor = pipeline_tree.predict(X_test)"
   ]
  },
  {
   "cell_type": "code",
   "execution_count": 80,
   "id": "d8caafc6",
   "metadata": {},
   "outputs": [
    {
     "name": "stdout",
     "output_type": "stream",
     "text": [
      "Decision Tree - train r-squared: 0.41081782898778574 and test r-squared: 0.40509862082603765\n"
     ]
    }
   ],
   "source": [
    "# Calculating R-squared on train and test data\n",
    "tree_train_r2 = pipeline_tree.score(X_train, y_train)\n",
    "tree_test_r2 = pipeline_tree.score(X_test, y_test)\n",
    "\n",
    "print(\"Decision Tree - train r-squared:\", tree_train_r2, \"and test r-squared:\", tree_test_r2)"
   ]
  },
  {
   "cell_type": "code",
   "execution_count": 81,
   "id": "08d6fbd4",
   "metadata": {},
   "outputs": [],
   "source": [
    "# Calculating Mean Squared Error on train and test data\n",
    "tree_mse_train = mean_squared_error(y_train, tree_train_predictor)\n",
    "tree_mse_test = mean_squared_error(y_test, tree_test_predictor)\n",
    "\n",
    "# Calculating Root Mean Squared Error on train and test data\n",
    "tree_rmse_train = np.sqrt(tree_mse_train)\n",
    "tree_rmse_test = np.sqrt(tree_mse_test)"
   ]
  },
  {
   "cell_type": "code",
   "execution_count": 82,
   "id": "51745345",
   "metadata": {},
   "outputs": [
    {
     "name": "stdout",
     "output_type": "stream",
     "text": [
      "                       Model  R2_train   R2_test  RMSE_train  RMSE_test\n",
      "0  DecisionTree_Airbnb_Price  0.410818  0.405099   33.243451  34.617887\n"
     ]
    }
   ],
   "source": [
    "# Create a DataFrame to store model scores\n",
    "tree_model_scores_df = pd.DataFrame([{\n",
    "    'Model': 'DecisionTree_Airbnb_Price',\n",
    "    'R2_train': tree_train_r2,\n",
    "    'R2_test': tree_test_r2,\n",
    "    'RMSE_train': tree_rmse_train,\n",
    "    'RMSE_test': tree_rmse_test\n",
    "}])\n",
    "\n",
    "# Display the scores\n",
    "print(tree_model_scores_df)\n"
   ]
  },
  {
   "cell_type": "code",
   "execution_count": 83,
   "id": "bb68324e",
   "metadata": {},
   "outputs": [
    {
     "name": "stdout",
     "output_type": "stream",
     "text": [
      "                                              Feature  Importance\n",
      "27            property_type_Entire serviced apartment    0.233786\n",
      "6                                       accomodates_2    0.170493\n",
      "57                             room_type_Private room    0.122520\n",
      "14                                       bedrooms_2.0    0.073634\n",
      "15                                       bedrooms_3.0    0.051446\n",
      "16                                           beds_2.0    0.045740\n",
      "10                                      accomodates_6    0.038022\n",
      "25                   property_type_Entire rental unit    0.033222\n",
      "8                                       accomodates_4    0.032178\n",
      "48                        property_type_Room in hotel    0.025323\n",
      "9                                       accomodates_5    0.017195\n",
      "24                          property_type_Entire loft    0.016034\n",
      "46                   property_type_Room in aparthotel    0.014020\n",
      "17                                           beds_3.0    0.012818\n",
      "47               property_type_Room in boutique hotel    0.011027\n",
      "28                     property_type_Entire townhouse    0.011012\n",
      "26              property_type_Entire residential home    0.009493\n",
      "7                                       accomodates_3    0.008662\n",
      "12                                      accomodates_8    0.008368\n",
      "20           property_type_Entire condominium (condo)    0.007622\n",
      "11                                      accomodates_7    0.007500\n",
      "0                                      accomodates_10    0.006209\n",
      "33    property_type_Private room in bed and breakfast    0.005294\n",
      "43   property_type_Private room in serviced apartment    0.005148\n",
      "5                                      accomodates_16    0.003926\n",
      "45                property_type_Private room in villa    0.003742\n",
      "58                              room_type_Shared room    0.002938\n",
      "2                                      accomodates_12    0.002391\n",
      "42     property_type_Private room in residential home    0.002131\n",
      "41          property_type_Private room in rental unit    0.002096\n",
      "32                         property_type_Private room    0.001879\n",
      "44            property_type_Private room in townhouse    0.001800\n",
      "22                   property_type_Entire guest suite    0.001643\n",
      "13                                      accomodates_9    0.001470\n",
      "54                           property_type_Tiny house    0.001272\n",
      "38           property_type_Private room in guesthouse    0.001153\n",
      "52      property_type_Shared room in residential home    0.000980\n",
      "21                       property_type_Entire cottage    0.000867\n",
      "30                         property_type_Entire villa    0.000855\n",
      "40   property_type_Private room in religious building    0.000784\n",
      "55                                 property_type_Yurt    0.000512\n",
      "18                      property_type_Casa particular    0.000384\n",
      "36  property_type_Private room in condominium (condo)    0.000366\n",
      "56                               room_type_Hotel room    0.000348\n",
      "39                 property_type_Private room in loft    0.000305\n",
      "3                                      accomodates_14    0.000304\n",
      "4                                      accomodates_15    0.000289\n",
      "37          property_type_Private room in guest suite    0.000219\n",
      "35      property_type_Private room in casa particular    0.000195\n",
      "19                               property_type_Castle    0.000168\n",
      "31                            property_type_Houseboat    0.000132\n",
      "29                 property_type_Entire vacation home    0.000073\n",
      "1                                      accomodates_11    0.000010\n",
      "53                                 property_type_Tent    0.000002\n",
      "51                  property_type_Shared room in loft    0.000000\n",
      "50       property_type_Shared room in casa particular    0.000000\n",
      "49     property_type_Shared room in bed and breakfast    0.000000\n",
      "34                 property_type_Private room in boat    0.000000\n",
      "23                    property_type_Entire guesthouse    0.000000\n"
     ]
    }
   ],
   "source": [
    "# If you want to retrieve feature importances, you can do so with RandomForestRegressor\n",
    "features_importances_tree = pd.DataFrame({\n",
    "    \"Feature\": X_train.columns,\n",
    "    \"Importance\": np.transpose(pipeline_tree.named_steps['DecisionTreeRegressor'].feature_importances_)\n",
    "})\n",
    "\n",
    "# Sorting features_importances DataFrame by Importance column in descending order\n",
    "sorted_features_importances_tree = features_importances_tree.sort_values(by='Importance', ascending=False)\n",
    "\n",
    "# Displaying the sorted DataFrame\n",
    "print(sorted_features_importances_tree)"
   ]
  },
  {
   "cell_type": "markdown",
   "id": "580181b3",
   "metadata": {},
   "source": [
    "### Using Random Forest Regression Model"
   ]
  },
  {
   "cell_type": "code",
   "execution_count": 84,
   "id": "a3741075",
   "metadata": {},
   "outputs": [],
   "source": [
    "# Creating train and test splits\n",
    "X_train, X_test, y_train, y_test = train_test_split(X, y, test_size=0.2, random_state=31)"
   ]
  },
  {
   "cell_type": "code",
   "execution_count": 85,
   "id": "c892026c",
   "metadata": {},
   "outputs": [],
   "source": [
    "# Initialize RandomForestRegressor\n",
    "rf_regressor = RandomForestRegressor(random_state=31)"
   ]
  },
  {
   "cell_type": "code",
   "execution_count": 86,
   "id": "5c00e75a",
   "metadata": {},
   "outputs": [],
   "source": [
    "# Create pipeline\n",
    "pipeline_rf = Pipeline([(\"Scaler\", scaler), (\"RandomForestRegressor\", rf_regressor)])"
   ]
  },
  {
   "cell_type": "code",
   "execution_count": 87,
   "id": "50f676e9",
   "metadata": {},
   "outputs": [
    {
     "data": {
      "text/html": [
       "<style>#sk-container-id-8 {color: black;background-color: white;}#sk-container-id-8 pre{padding: 0;}#sk-container-id-8 div.sk-toggleable {background-color: white;}#sk-container-id-8 label.sk-toggleable__label {cursor: pointer;display: block;width: 100%;margin-bottom: 0;padding: 0.3em;box-sizing: border-box;text-align: center;}#sk-container-id-8 label.sk-toggleable__label-arrow:before {content: \"▸\";float: left;margin-right: 0.25em;color: #696969;}#sk-container-id-8 label.sk-toggleable__label-arrow:hover:before {color: black;}#sk-container-id-8 div.sk-estimator:hover label.sk-toggleable__label-arrow:before {color: black;}#sk-container-id-8 div.sk-toggleable__content {max-height: 0;max-width: 0;overflow: hidden;text-align: left;background-color: #f0f8ff;}#sk-container-id-8 div.sk-toggleable__content pre {margin: 0.2em;color: black;border-radius: 0.25em;background-color: #f0f8ff;}#sk-container-id-8 input.sk-toggleable__control:checked~div.sk-toggleable__content {max-height: 200px;max-width: 100%;overflow: auto;}#sk-container-id-8 input.sk-toggleable__control:checked~label.sk-toggleable__label-arrow:before {content: \"▾\";}#sk-container-id-8 div.sk-estimator input.sk-toggleable__control:checked~label.sk-toggleable__label {background-color: #d4ebff;}#sk-container-id-8 div.sk-label input.sk-toggleable__control:checked~label.sk-toggleable__label {background-color: #d4ebff;}#sk-container-id-8 input.sk-hidden--visually {border: 0;clip: rect(1px 1px 1px 1px);clip: rect(1px, 1px, 1px, 1px);height: 1px;margin: -1px;overflow: hidden;padding: 0;position: absolute;width: 1px;}#sk-container-id-8 div.sk-estimator {font-family: monospace;background-color: #f0f8ff;border: 1px dotted black;border-radius: 0.25em;box-sizing: border-box;margin-bottom: 0.5em;}#sk-container-id-8 div.sk-estimator:hover {background-color: #d4ebff;}#sk-container-id-8 div.sk-parallel-item::after {content: \"\";width: 100%;border-bottom: 1px solid gray;flex-grow: 1;}#sk-container-id-8 div.sk-label:hover label.sk-toggleable__label {background-color: #d4ebff;}#sk-container-id-8 div.sk-serial::before {content: \"\";position: absolute;border-left: 1px solid gray;box-sizing: border-box;top: 0;bottom: 0;left: 50%;z-index: 0;}#sk-container-id-8 div.sk-serial {display: flex;flex-direction: column;align-items: center;background-color: white;padding-right: 0.2em;padding-left: 0.2em;position: relative;}#sk-container-id-8 div.sk-item {position: relative;z-index: 1;}#sk-container-id-8 div.sk-parallel {display: flex;align-items: stretch;justify-content: center;background-color: white;position: relative;}#sk-container-id-8 div.sk-item::before, #sk-container-id-8 div.sk-parallel-item::before {content: \"\";position: absolute;border-left: 1px solid gray;box-sizing: border-box;top: 0;bottom: 0;left: 50%;z-index: -1;}#sk-container-id-8 div.sk-parallel-item {display: flex;flex-direction: column;z-index: 1;position: relative;background-color: white;}#sk-container-id-8 div.sk-parallel-item:first-child::after {align-self: flex-end;width: 50%;}#sk-container-id-8 div.sk-parallel-item:last-child::after {align-self: flex-start;width: 50%;}#sk-container-id-8 div.sk-parallel-item:only-child::after {width: 0;}#sk-container-id-8 div.sk-dashed-wrapped {border: 1px dashed gray;margin: 0 0.4em 0.5em 0.4em;box-sizing: border-box;padding-bottom: 0.4em;background-color: white;}#sk-container-id-8 div.sk-label label {font-family: monospace;font-weight: bold;display: inline-block;line-height: 1.2em;}#sk-container-id-8 div.sk-label-container {text-align: center;}#sk-container-id-8 div.sk-container {/* jupyter's `normalize.less` sets `[hidden] { display: none; }` but bootstrap.min.css set `[hidden] { display: none !important; }` so we also need the `!important` here to be able to override the default hidden behavior on the sphinx rendered scikit-learn.org. See: https://github.com/scikit-learn/scikit-learn/issues/21755 */display: inline-block !important;position: relative;}#sk-container-id-8 div.sk-text-repr-fallback {display: none;}</style><div id=\"sk-container-id-8\" class=\"sk-top-container\"><div class=\"sk-text-repr-fallback\"><pre>Pipeline(steps=[(&#x27;Scaler&#x27;, MaxAbsScaler()),\n",
       "                (&#x27;RandomForestRegressor&#x27;,\n",
       "                 RandomForestRegressor(random_state=31))])</pre><b>In a Jupyter environment, please rerun this cell to show the HTML representation or trust the notebook. <br />On GitHub, the HTML representation is unable to render, please try loading this page with nbviewer.org.</b></div><div class=\"sk-container\" hidden><div class=\"sk-item sk-dashed-wrapped\"><div class=\"sk-label-container\"><div class=\"sk-label sk-toggleable\"><input class=\"sk-toggleable__control sk-hidden--visually\" id=\"sk-estimator-id-22\" type=\"checkbox\" ><label for=\"sk-estimator-id-22\" class=\"sk-toggleable__label sk-toggleable__label-arrow\">Pipeline</label><div class=\"sk-toggleable__content\"><pre>Pipeline(steps=[(&#x27;Scaler&#x27;, MaxAbsScaler()),\n",
       "                (&#x27;RandomForestRegressor&#x27;,\n",
       "                 RandomForestRegressor(random_state=31))])</pre></div></div></div><div class=\"sk-serial\"><div class=\"sk-item\"><div class=\"sk-estimator sk-toggleable\"><input class=\"sk-toggleable__control sk-hidden--visually\" id=\"sk-estimator-id-23\" type=\"checkbox\" ><label for=\"sk-estimator-id-23\" class=\"sk-toggleable__label sk-toggleable__label-arrow\">MaxAbsScaler</label><div class=\"sk-toggleable__content\"><pre>MaxAbsScaler()</pre></div></div></div><div class=\"sk-item\"><div class=\"sk-estimator sk-toggleable\"><input class=\"sk-toggleable__control sk-hidden--visually\" id=\"sk-estimator-id-24\" type=\"checkbox\" ><label for=\"sk-estimator-id-24\" class=\"sk-toggleable__label sk-toggleable__label-arrow\">RandomForestRegressor</label><div class=\"sk-toggleable__content\"><pre>RandomForestRegressor(random_state=31)</pre></div></div></div></div></div></div></div>"
      ],
      "text/plain": [
       "Pipeline(steps=[('Scaler', MaxAbsScaler()),\n",
       "                ('RandomForestRegressor',\n",
       "                 RandomForestRegressor(random_state=31))])"
      ]
     },
     "execution_count": 87,
     "metadata": {},
     "output_type": "execute_result"
    }
   ],
   "source": [
    "pipeline_rf.fit(X_train, y_train['price'])"
   ]
  },
  {
   "cell_type": "code",
   "execution_count": 88,
   "id": "655bfedf",
   "metadata": {},
   "outputs": [
    {
     "name": "stdout",
     "output_type": "stream",
     "text": [
      "Random Forest - train r-squared: 0.40798058863710496 and test r-squared: 0.41490240748806884\n"
     ]
    }
   ],
   "source": [
    "# Calculating R-squared on train and test data\n",
    "rf_train_r2 = pipeline_rf.score(X_train, y_train['price'])\n",
    "rf_test_r2 = pipeline_rf.score(X_test, y_test['price'])\n",
    "\n",
    "print(\"Random Forest - train r-squared:\", rf_train_r2, \"and test r-squared:\", rf_test_r2)"
   ]
  },
  {
   "cell_type": "code",
   "execution_count": 89,
   "id": "bcb4eb40",
   "metadata": {},
   "outputs": [],
   "source": [
    "# Calculating Mean Squared Error on train and test data\n",
    "rf_train_predictor = pipeline_rf.predict(X_train)\n",
    "rf_test_predictor = pipeline_rf.predict(X_test)\n",
    "\n",
    "rf_mse_train = mean_squared_error(y_train['price'], rf_train_predictor)\n",
    "rf_mse_test = mean_squared_error(y_test['price'], rf_test_predictor)"
   ]
  },
  {
   "cell_type": "code",
   "execution_count": 90,
   "id": "402349df",
   "metadata": {},
   "outputs": [],
   "source": [
    "# Calculating Root Mean Squared Error on train and test data\n",
    "rf_rmse_train = np.sqrt(rf_mse_train)\n",
    "rf_rmse_test = np.sqrt(rf_mse_test)"
   ]
  },
  {
   "cell_type": "code",
   "execution_count": 91,
   "id": "60467f24",
   "metadata": {},
   "outputs": [
    {
     "name": "stdout",
     "output_type": "stream",
     "text": [
      "                       Model  R2_train   R2_test  RMSE_train  RMSE_test\n",
      "0  RandomForest_Airbnb_Price  0.407981  0.414902   33.323398  34.331456\n"
     ]
    }
   ],
   "source": [
    "# Create a DataFrame to store model scores\n",
    "regression_model_scores_df = pd.DataFrame([{\n",
    "    'Model': 'RandomForest_Airbnb_Price',\n",
    "    'R2_train': rf_train_r2,\n",
    "    'R2_test': rf_test_r2,\n",
    "    'RMSE_train': rf_rmse_train,\n",
    "    'RMSE_test': rf_rmse_test\n",
    "}])\n",
    "\n",
    "# Display the scores\n",
    "print(regression_model_scores_df)"
   ]
  },
  {
   "cell_type": "code",
   "execution_count": 92,
   "id": "a698c872",
   "metadata": {},
   "outputs": [
    {
     "name": "stdout",
     "output_type": "stream",
     "text": [
      "                                              Feature  Importance\n",
      "27            property_type_Entire serviced apartment    0.230249\n",
      "6                                       accomodates_2    0.128570\n",
      "57                             room_type_Private room    0.118500\n",
      "14                                       bedrooms_2.0    0.083859\n",
      "15                                       bedrooms_3.0    0.070001\n",
      "16                                           beds_2.0    0.046840\n",
      "25                   property_type_Entire rental unit    0.030249\n",
      "8                                       accomodates_4    0.027587\n",
      "10                                      accomodates_6    0.027554\n",
      "48                        property_type_Room in hotel    0.023901\n",
      "24                          property_type_Entire loft    0.022943\n",
      "17                                           beds_3.0    0.018622\n",
      "9                                       accomodates_5    0.017605\n",
      "7                                       accomodates_3    0.013678\n",
      "47               property_type_Room in boutique hotel    0.013057\n",
      "28                     property_type_Entire townhouse    0.011729\n",
      "46                   property_type_Room in aparthotel    0.010621\n",
      "12                                      accomodates_8    0.010121\n",
      "2                                      accomodates_12    0.008725\n",
      "41          property_type_Private room in rental unit    0.008447\n",
      "26              property_type_Entire residential home    0.007818\n",
      "20           property_type_Entire condominium (condo)    0.007760\n",
      "0                                      accomodates_10    0.007351\n",
      "11                                      accomodates_7    0.006578\n",
      "43   property_type_Private room in serviced apartment    0.004624\n",
      "33    property_type_Private room in bed and breakfast    0.004617\n",
      "42     property_type_Private room in residential home    0.004144\n",
      "13                                      accomodates_9    0.003871\n",
      "56                               room_type_Hotel room    0.003731\n",
      "5                                      accomodates_16    0.003729\n",
      "45                property_type_Private room in villa    0.003278\n",
      "44            property_type_Private room in townhouse    0.002607\n",
      "58                              room_type_Shared room    0.001876\n",
      "32                         property_type_Private room    0.001755\n",
      "22                   property_type_Entire guest suite    0.001668\n",
      "38           property_type_Private room in guesthouse    0.001218\n",
      "54                           property_type_Tiny house    0.001056\n",
      "3                                      accomodates_14    0.001030\n",
      "34                 property_type_Private room in boat    0.000910\n",
      "30                         property_type_Entire villa    0.000860\n",
      "4                                      accomodates_15    0.000736\n",
      "21                       property_type_Entire cottage    0.000690\n",
      "51                  property_type_Shared room in loft    0.000639\n",
      "36  property_type_Private room in condominium (condo)    0.000540\n",
      "52      property_type_Shared room in residential home    0.000467\n",
      "40   property_type_Private room in religious building    0.000449\n",
      "55                                 property_type_Yurt    0.000431\n",
      "50       property_type_Shared room in casa particular    0.000419\n",
      "18                      property_type_Casa particular    0.000365\n",
      "1                                      accomodates_11    0.000264\n",
      "37          property_type_Private room in guest suite    0.000245\n",
      "39                 property_type_Private room in loft    0.000245\n",
      "19                               property_type_Castle    0.000210\n",
      "35      property_type_Private room in casa particular    0.000208\n",
      "29                 property_type_Entire vacation home    0.000207\n",
      "53                                 property_type_Tent    0.000198\n",
      "49     property_type_Shared room in bed and breakfast    0.000164\n",
      "23                    property_type_Entire guesthouse    0.000105\n",
      "31                            property_type_Houseboat    0.000076\n"
     ]
    }
   ],
   "source": [
    "# If you want to retrieve feature importances, you can do so with RandomForestRegressor\n",
    "features_importances = pd.DataFrame({\n",
    "    \"Feature\": X_train.columns,\n",
    "    \"Importance\": np.transpose(pipeline_rf.named_steps['RandomForestRegressor'].feature_importances_)\n",
    "})\n",
    "\n",
    "# Sorting features_importances DataFrame by Importance column in descending order\n",
    "sorted_features_importances = features_importances.sort_values(by='Importance', ascending=False)\n",
    "\n",
    "# Displaying the sorted DataFrame\n",
    "print(sorted_features_importances)\n",
    "\n",
    "\n",
    "\n"
   ]
  },
  {
   "cell_type": "markdown",
   "id": "490bd302",
   "metadata": {},
   "source": [
    "### Using Gradient Boosting Machine for modelling"
   ]
  },
  {
   "cell_type": "code",
   "execution_count": 93,
   "id": "faec2e49",
   "metadata": {},
   "outputs": [],
   "source": [
    "# Creating train and test splits\n",
    "X_train, X_test, y_train, y_test = train_test_split(X, y, test_size=0.2, random_state=31)"
   ]
  },
  {
   "cell_type": "code",
   "execution_count": 94,
   "id": "91f62944",
   "metadata": {},
   "outputs": [],
   "source": [
    "# Initializing MaxAbsScaler\n",
    "scaler = MaxAbsScaler()\n",
    "\n",
    "# Initializing XGBoost regressor\n",
    "xgb_regressor = xgb.XGBRegressor(objective='reg:squarederror', random_state=31)"
   ]
  },
  {
   "cell_type": "code",
   "execution_count": 95,
   "id": "c0ec001b",
   "metadata": {},
   "outputs": [
    {
     "data": {
      "text/html": [
       "<style>#sk-container-id-9 {color: black;background-color: white;}#sk-container-id-9 pre{padding: 0;}#sk-container-id-9 div.sk-toggleable {background-color: white;}#sk-container-id-9 label.sk-toggleable__label {cursor: pointer;display: block;width: 100%;margin-bottom: 0;padding: 0.3em;box-sizing: border-box;text-align: center;}#sk-container-id-9 label.sk-toggleable__label-arrow:before {content: \"▸\";float: left;margin-right: 0.25em;color: #696969;}#sk-container-id-9 label.sk-toggleable__label-arrow:hover:before {color: black;}#sk-container-id-9 div.sk-estimator:hover label.sk-toggleable__label-arrow:before {color: black;}#sk-container-id-9 div.sk-toggleable__content {max-height: 0;max-width: 0;overflow: hidden;text-align: left;background-color: #f0f8ff;}#sk-container-id-9 div.sk-toggleable__content pre {margin: 0.2em;color: black;border-radius: 0.25em;background-color: #f0f8ff;}#sk-container-id-9 input.sk-toggleable__control:checked~div.sk-toggleable__content {max-height: 200px;max-width: 100%;overflow: auto;}#sk-container-id-9 input.sk-toggleable__control:checked~label.sk-toggleable__label-arrow:before {content: \"▾\";}#sk-container-id-9 div.sk-estimator input.sk-toggleable__control:checked~label.sk-toggleable__label {background-color: #d4ebff;}#sk-container-id-9 div.sk-label input.sk-toggleable__control:checked~label.sk-toggleable__label {background-color: #d4ebff;}#sk-container-id-9 input.sk-hidden--visually {border: 0;clip: rect(1px 1px 1px 1px);clip: rect(1px, 1px, 1px, 1px);height: 1px;margin: -1px;overflow: hidden;padding: 0;position: absolute;width: 1px;}#sk-container-id-9 div.sk-estimator {font-family: monospace;background-color: #f0f8ff;border: 1px dotted black;border-radius: 0.25em;box-sizing: border-box;margin-bottom: 0.5em;}#sk-container-id-9 div.sk-estimator:hover {background-color: #d4ebff;}#sk-container-id-9 div.sk-parallel-item::after {content: \"\";width: 100%;border-bottom: 1px solid gray;flex-grow: 1;}#sk-container-id-9 div.sk-label:hover label.sk-toggleable__label {background-color: #d4ebff;}#sk-container-id-9 div.sk-serial::before {content: \"\";position: absolute;border-left: 1px solid gray;box-sizing: border-box;top: 0;bottom: 0;left: 50%;z-index: 0;}#sk-container-id-9 div.sk-serial {display: flex;flex-direction: column;align-items: center;background-color: white;padding-right: 0.2em;padding-left: 0.2em;position: relative;}#sk-container-id-9 div.sk-item {position: relative;z-index: 1;}#sk-container-id-9 div.sk-parallel {display: flex;align-items: stretch;justify-content: center;background-color: white;position: relative;}#sk-container-id-9 div.sk-item::before, #sk-container-id-9 div.sk-parallel-item::before {content: \"\";position: absolute;border-left: 1px solid gray;box-sizing: border-box;top: 0;bottom: 0;left: 50%;z-index: -1;}#sk-container-id-9 div.sk-parallel-item {display: flex;flex-direction: column;z-index: 1;position: relative;background-color: white;}#sk-container-id-9 div.sk-parallel-item:first-child::after {align-self: flex-end;width: 50%;}#sk-container-id-9 div.sk-parallel-item:last-child::after {align-self: flex-start;width: 50%;}#sk-container-id-9 div.sk-parallel-item:only-child::after {width: 0;}#sk-container-id-9 div.sk-dashed-wrapped {border: 1px dashed gray;margin: 0 0.4em 0.5em 0.4em;box-sizing: border-box;padding-bottom: 0.4em;background-color: white;}#sk-container-id-9 div.sk-label label {font-family: monospace;font-weight: bold;display: inline-block;line-height: 1.2em;}#sk-container-id-9 div.sk-label-container {text-align: center;}#sk-container-id-9 div.sk-container {/* jupyter's `normalize.less` sets `[hidden] { display: none; }` but bootstrap.min.css set `[hidden] { display: none !important; }` so we also need the `!important` here to be able to override the default hidden behavior on the sphinx rendered scikit-learn.org. See: https://github.com/scikit-learn/scikit-learn/issues/21755 */display: inline-block !important;position: relative;}#sk-container-id-9 div.sk-text-repr-fallback {display: none;}</style><div id=\"sk-container-id-9\" class=\"sk-top-container\"><div class=\"sk-text-repr-fallback\"><pre>Pipeline(steps=[(&#x27;Scaler&#x27;, MaxAbsScaler()),\n",
       "                (&#x27;XGBRegressor&#x27;,\n",
       "                 XGBRegressor(base_score=None, booster=None, callbacks=None,\n",
       "                              colsample_bylevel=None, colsample_bynode=None,\n",
       "                              colsample_bytree=None, device=None,\n",
       "                              early_stopping_rounds=None,\n",
       "                              enable_categorical=False, eval_metric=None,\n",
       "                              feature_types=None, gamma=None, grow_policy=None,\n",
       "                              importance_type=None,\n",
       "                              interaction_constraints=None, learning_rate=None,\n",
       "                              max_bin=None, max_cat_threshold=None,\n",
       "                              max_cat_to_onehot=None, max_delta_step=None,\n",
       "                              max_depth=None, max_leaves=None,\n",
       "                              min_child_weight=None, missing=nan,\n",
       "                              monotone_constraints=None, multi_strategy=None,\n",
       "                              n_estimators=None, n_jobs=None,\n",
       "                              num_parallel_tree=None, random_state=31, ...))])</pre><b>In a Jupyter environment, please rerun this cell to show the HTML representation or trust the notebook. <br />On GitHub, the HTML representation is unable to render, please try loading this page with nbviewer.org.</b></div><div class=\"sk-container\" hidden><div class=\"sk-item sk-dashed-wrapped\"><div class=\"sk-label-container\"><div class=\"sk-label sk-toggleable\"><input class=\"sk-toggleable__control sk-hidden--visually\" id=\"sk-estimator-id-25\" type=\"checkbox\" ><label for=\"sk-estimator-id-25\" class=\"sk-toggleable__label sk-toggleable__label-arrow\">Pipeline</label><div class=\"sk-toggleable__content\"><pre>Pipeline(steps=[(&#x27;Scaler&#x27;, MaxAbsScaler()),\n",
       "                (&#x27;XGBRegressor&#x27;,\n",
       "                 XGBRegressor(base_score=None, booster=None, callbacks=None,\n",
       "                              colsample_bylevel=None, colsample_bynode=None,\n",
       "                              colsample_bytree=None, device=None,\n",
       "                              early_stopping_rounds=None,\n",
       "                              enable_categorical=False, eval_metric=None,\n",
       "                              feature_types=None, gamma=None, grow_policy=None,\n",
       "                              importance_type=None,\n",
       "                              interaction_constraints=None, learning_rate=None,\n",
       "                              max_bin=None, max_cat_threshold=None,\n",
       "                              max_cat_to_onehot=None, max_delta_step=None,\n",
       "                              max_depth=None, max_leaves=None,\n",
       "                              min_child_weight=None, missing=nan,\n",
       "                              monotone_constraints=None, multi_strategy=None,\n",
       "                              n_estimators=None, n_jobs=None,\n",
       "                              num_parallel_tree=None, random_state=31, ...))])</pre></div></div></div><div class=\"sk-serial\"><div class=\"sk-item\"><div class=\"sk-estimator sk-toggleable\"><input class=\"sk-toggleable__control sk-hidden--visually\" id=\"sk-estimator-id-26\" type=\"checkbox\" ><label for=\"sk-estimator-id-26\" class=\"sk-toggleable__label sk-toggleable__label-arrow\">MaxAbsScaler</label><div class=\"sk-toggleable__content\"><pre>MaxAbsScaler()</pre></div></div></div><div class=\"sk-item\"><div class=\"sk-estimator sk-toggleable\"><input class=\"sk-toggleable__control sk-hidden--visually\" id=\"sk-estimator-id-27\" type=\"checkbox\" ><label for=\"sk-estimator-id-27\" class=\"sk-toggleable__label sk-toggleable__label-arrow\">XGBRegressor</label><div class=\"sk-toggleable__content\"><pre>XGBRegressor(base_score=None, booster=None, callbacks=None,\n",
       "             colsample_bylevel=None, colsample_bynode=None,\n",
       "             colsample_bytree=None, device=None, early_stopping_rounds=None,\n",
       "             enable_categorical=False, eval_metric=None, feature_types=None,\n",
       "             gamma=None, grow_policy=None, importance_type=None,\n",
       "             interaction_constraints=None, learning_rate=None, max_bin=None,\n",
       "             max_cat_threshold=None, max_cat_to_onehot=None,\n",
       "             max_delta_step=None, max_depth=None, max_leaves=None,\n",
       "             min_child_weight=None, missing=nan, monotone_constraints=None,\n",
       "             multi_strategy=None, n_estimators=None, n_jobs=None,\n",
       "             num_parallel_tree=None, random_state=31, ...)</pre></div></div></div></div></div></div></div>"
      ],
      "text/plain": [
       "Pipeline(steps=[('Scaler', MaxAbsScaler()),\n",
       "                ('XGBRegressor',\n",
       "                 XGBRegressor(base_score=None, booster=None, callbacks=None,\n",
       "                              colsample_bylevel=None, colsample_bynode=None,\n",
       "                              colsample_bytree=None, device=None,\n",
       "                              early_stopping_rounds=None,\n",
       "                              enable_categorical=False, eval_metric=None,\n",
       "                              feature_types=None, gamma=None, grow_policy=None,\n",
       "                              importance_type=None,\n",
       "                              interaction_constraints=None, learning_rate=None,\n",
       "                              max_bin=None, max_cat_threshold=None,\n",
       "                              max_cat_to_onehot=None, max_delta_step=None,\n",
       "                              max_depth=None, max_leaves=None,\n",
       "                              min_child_weight=None, missing=nan,\n",
       "                              monotone_constraints=None, multi_strategy=None,\n",
       "                              n_estimators=None, n_jobs=None,\n",
       "                              num_parallel_tree=None, random_state=31, ...))])"
      ]
     },
     "execution_count": 95,
     "metadata": {},
     "output_type": "execute_result"
    }
   ],
   "source": [
    "# Creating pipeline\n",
    "pipeline_xgb = Pipeline([(\"Scaler\", scaler), (\"XGBRegressor\", xgb_regressor)])\n",
    "\n",
    "# Fitting the model\n",
    "pipeline_xgb.fit(X_train, y_train)"
   ]
  },
  {
   "cell_type": "code",
   "execution_count": 96,
   "id": "ff26185c",
   "metadata": {},
   "outputs": [],
   "source": [
    "# Predicting prices\n",
    "xgb_train_predictor = pipeline_xgb.predict(X_train)\n",
    "xgb_test_predictor = pipeline_xgb.predict(X_test)"
   ]
  },
  {
   "cell_type": "code",
   "execution_count": 97,
   "id": "cf6ff071",
   "metadata": {},
   "outputs": [
    {
     "name": "stdout",
     "output_type": "stream",
     "text": [
      "XGBoost - train r-squared: 0.4076899406133351 and test r-squared: 0.4165100607158291\n"
     ]
    }
   ],
   "source": [
    "# Calculating R-squared on train and test data\n",
    "xgb_train_r2 = pipeline_xgb.score(X_train, y_train)\n",
    "xgb_test_r2 = pipeline_xgb.score(X_test, y_test)\n",
    "\n",
    "print(\"XGBoost - train r-squared:\", xgb_train_r2, \"and test r-squared:\", xgb_test_r2)"
   ]
  },
  {
   "cell_type": "code",
   "execution_count": 98,
   "id": "2262f502",
   "metadata": {},
   "outputs": [],
   "source": [
    "# Calculating Mean Squared Error on train and test data\n",
    "xgb_mse_train = mean_squared_error(y_train, xgb_train_predictor)\n",
    "xgb_mse_test = mean_squared_error(y_test, xgb_test_predictor)\n",
    "\n",
    "# Calculating Root Mean Squared Error on train and test data\n",
    "xgb_rmse_train = np.sqrt(xgb_mse_train)\n",
    "xgb_rmse_test = np.sqrt(xgb_mse_test)"
   ]
  },
  {
   "cell_type": "code",
   "execution_count": 99,
   "id": "64821e09",
   "metadata": {},
   "outputs": [
    {
     "name": "stdout",
     "output_type": "stream",
     "text": [
      "                  Model  R2_train  R2_test  RMSE_train  RMSE_test\n",
      "0  XGBoost_Airbnb_Price   0.40769  0.41651   33.331576  34.284258\n"
     ]
    }
   ],
   "source": [
    "# Creating a DataFrame to store model scores\n",
    "GBM_model_scores_df = pd.DataFrame([{\n",
    "    'Model': 'XGBoost_Airbnb_Price',\n",
    "    'R2_train': xgb_train_r2,\n",
    "    'R2_test': xgb_test_r2,\n",
    "    'RMSE_train': xgb_rmse_train,\n",
    "    'RMSE_test': xgb_rmse_test\n",
    "}])\n",
    "\n",
    "# Displaying the scores\n",
    "print(GBM_model_scores_df)\n"
   ]
  },
  {
   "cell_type": "code",
   "execution_count": null,
   "id": "d1b9f870",
   "metadata": {},
   "outputs": [],
   "source": []
  },
  {
   "cell_type": "markdown",
   "id": "533dea77",
   "metadata": {},
   "source": [
    "## Using Ridge Regression Model to predict prices"
   ]
  },
  {
   "cell_type": "code",
   "execution_count": 100,
   "id": "cbee8d29",
   "metadata": {},
   "outputs": [],
   "source": [
    "from sklearn.linear_model import Ridge"
   ]
  },
  {
   "cell_type": "code",
   "execution_count": 101,
   "id": "cf25e8cf",
   "metadata": {},
   "outputs": [],
   "source": [
    "# Initializing Ridge Regression\n",
    "ridge_regression = Ridge(alpha=1.0)  # You can adjust the alpha parameter as needed"
   ]
  },
  {
   "cell_type": "code",
   "execution_count": 102,
   "id": "33adfbe9",
   "metadata": {},
   "outputs": [],
   "source": [
    "# Creating pipeline\n",
    "pipeline_ridge = Pipeline([(\"Scaler\", scaler), (\"Regression\", ridge_regression)])"
   ]
  },
  {
   "cell_type": "code",
   "execution_count": 103,
   "id": "304b036f",
   "metadata": {},
   "outputs": [
    {
     "data": {
      "text/html": [
       "<style>#sk-container-id-10 {color: black;background-color: white;}#sk-container-id-10 pre{padding: 0;}#sk-container-id-10 div.sk-toggleable {background-color: white;}#sk-container-id-10 label.sk-toggleable__label {cursor: pointer;display: block;width: 100%;margin-bottom: 0;padding: 0.3em;box-sizing: border-box;text-align: center;}#sk-container-id-10 label.sk-toggleable__label-arrow:before {content: \"▸\";float: left;margin-right: 0.25em;color: #696969;}#sk-container-id-10 label.sk-toggleable__label-arrow:hover:before {color: black;}#sk-container-id-10 div.sk-estimator:hover label.sk-toggleable__label-arrow:before {color: black;}#sk-container-id-10 div.sk-toggleable__content {max-height: 0;max-width: 0;overflow: hidden;text-align: left;background-color: #f0f8ff;}#sk-container-id-10 div.sk-toggleable__content pre {margin: 0.2em;color: black;border-radius: 0.25em;background-color: #f0f8ff;}#sk-container-id-10 input.sk-toggleable__control:checked~div.sk-toggleable__content {max-height: 200px;max-width: 100%;overflow: auto;}#sk-container-id-10 input.sk-toggleable__control:checked~label.sk-toggleable__label-arrow:before {content: \"▾\";}#sk-container-id-10 div.sk-estimator input.sk-toggleable__control:checked~label.sk-toggleable__label {background-color: #d4ebff;}#sk-container-id-10 div.sk-label input.sk-toggleable__control:checked~label.sk-toggleable__label {background-color: #d4ebff;}#sk-container-id-10 input.sk-hidden--visually {border: 0;clip: rect(1px 1px 1px 1px);clip: rect(1px, 1px, 1px, 1px);height: 1px;margin: -1px;overflow: hidden;padding: 0;position: absolute;width: 1px;}#sk-container-id-10 div.sk-estimator {font-family: monospace;background-color: #f0f8ff;border: 1px dotted black;border-radius: 0.25em;box-sizing: border-box;margin-bottom: 0.5em;}#sk-container-id-10 div.sk-estimator:hover {background-color: #d4ebff;}#sk-container-id-10 div.sk-parallel-item::after {content: \"\";width: 100%;border-bottom: 1px solid gray;flex-grow: 1;}#sk-container-id-10 div.sk-label:hover label.sk-toggleable__label {background-color: #d4ebff;}#sk-container-id-10 div.sk-serial::before {content: \"\";position: absolute;border-left: 1px solid gray;box-sizing: border-box;top: 0;bottom: 0;left: 50%;z-index: 0;}#sk-container-id-10 div.sk-serial {display: flex;flex-direction: column;align-items: center;background-color: white;padding-right: 0.2em;padding-left: 0.2em;position: relative;}#sk-container-id-10 div.sk-item {position: relative;z-index: 1;}#sk-container-id-10 div.sk-parallel {display: flex;align-items: stretch;justify-content: center;background-color: white;position: relative;}#sk-container-id-10 div.sk-item::before, #sk-container-id-10 div.sk-parallel-item::before {content: \"\";position: absolute;border-left: 1px solid gray;box-sizing: border-box;top: 0;bottom: 0;left: 50%;z-index: -1;}#sk-container-id-10 div.sk-parallel-item {display: flex;flex-direction: column;z-index: 1;position: relative;background-color: white;}#sk-container-id-10 div.sk-parallel-item:first-child::after {align-self: flex-end;width: 50%;}#sk-container-id-10 div.sk-parallel-item:last-child::after {align-self: flex-start;width: 50%;}#sk-container-id-10 div.sk-parallel-item:only-child::after {width: 0;}#sk-container-id-10 div.sk-dashed-wrapped {border: 1px dashed gray;margin: 0 0.4em 0.5em 0.4em;box-sizing: border-box;padding-bottom: 0.4em;background-color: white;}#sk-container-id-10 div.sk-label label {font-family: monospace;font-weight: bold;display: inline-block;line-height: 1.2em;}#sk-container-id-10 div.sk-label-container {text-align: center;}#sk-container-id-10 div.sk-container {/* jupyter's `normalize.less` sets `[hidden] { display: none; }` but bootstrap.min.css set `[hidden] { display: none !important; }` so we also need the `!important` here to be able to override the default hidden behavior on the sphinx rendered scikit-learn.org. See: https://github.com/scikit-learn/scikit-learn/issues/21755 */display: inline-block !important;position: relative;}#sk-container-id-10 div.sk-text-repr-fallback {display: none;}</style><div id=\"sk-container-id-10\" class=\"sk-top-container\"><div class=\"sk-text-repr-fallback\"><pre>Pipeline(steps=[(&#x27;Scaler&#x27;, MaxAbsScaler()), (&#x27;Regression&#x27;, Ridge())])</pre><b>In a Jupyter environment, please rerun this cell to show the HTML representation or trust the notebook. <br />On GitHub, the HTML representation is unable to render, please try loading this page with nbviewer.org.</b></div><div class=\"sk-container\" hidden><div class=\"sk-item sk-dashed-wrapped\"><div class=\"sk-label-container\"><div class=\"sk-label sk-toggleable\"><input class=\"sk-toggleable__control sk-hidden--visually\" id=\"sk-estimator-id-28\" type=\"checkbox\" ><label for=\"sk-estimator-id-28\" class=\"sk-toggleable__label sk-toggleable__label-arrow\">Pipeline</label><div class=\"sk-toggleable__content\"><pre>Pipeline(steps=[(&#x27;Scaler&#x27;, MaxAbsScaler()), (&#x27;Regression&#x27;, Ridge())])</pre></div></div></div><div class=\"sk-serial\"><div class=\"sk-item\"><div class=\"sk-estimator sk-toggleable\"><input class=\"sk-toggleable__control sk-hidden--visually\" id=\"sk-estimator-id-29\" type=\"checkbox\" ><label for=\"sk-estimator-id-29\" class=\"sk-toggleable__label sk-toggleable__label-arrow\">MaxAbsScaler</label><div class=\"sk-toggleable__content\"><pre>MaxAbsScaler()</pre></div></div></div><div class=\"sk-item\"><div class=\"sk-estimator sk-toggleable\"><input class=\"sk-toggleable__control sk-hidden--visually\" id=\"sk-estimator-id-30\" type=\"checkbox\" ><label for=\"sk-estimator-id-30\" class=\"sk-toggleable__label sk-toggleable__label-arrow\">Ridge</label><div class=\"sk-toggleable__content\"><pre>Ridge()</pre></div></div></div></div></div></div></div>"
      ],
      "text/plain": [
       "Pipeline(steps=[('Scaler', MaxAbsScaler()), ('Regression', Ridge())])"
      ]
     },
     "execution_count": 103,
     "metadata": {},
     "output_type": "execute_result"
    }
   ],
   "source": [
    "# Fit the Ridge regression model\n",
    "pipeline_ridge.fit(X_train, y_train['price'])"
   ]
  },
  {
   "cell_type": "code",
   "execution_count": 104,
   "id": "d976d303",
   "metadata": {},
   "outputs": [
    {
     "name": "stdout",
     "output_type": "stream",
     "text": [
      "Train r-squared is  0.3289879302236264  and test r-squared is  0.3698972943641\n"
     ]
    }
   ],
   "source": [
    "# Calculate R-squared on train and test data\n",
    "ridge_train_r2 = pipeline_ridge.score(X_train, y_train['price'])\n",
    "ridge_test_r2 = pipeline_ridge.score(X_test, y_test['price'])\n",
    "\n",
    "print(\"Train r-squared is \", ridge_train_r2, \" and test r-squared is \", ridge_test_r2)"
   ]
  },
  {
   "cell_type": "code",
   "execution_count": 105,
   "id": "03c44d28",
   "metadata": {},
   "outputs": [],
   "source": [
    "# Predict prices on train and test data\n",
    "y_train_predictor_ridge = pipeline_ridge.predict(X_train)\n",
    "y_test_predictor_ridge = pipeline_ridge.predict(X_test)\n",
    "\n",
    "# Calculate Mean Squared Error on train and test data\n",
    "mse_train_ridge = mean_squared_error(y_train['price'], y_train_predictor_ridge)\n",
    "mse_test_ridge = mean_squared_error(y_test['price'], y_test_predictor_ridge)"
   ]
  },
  {
   "cell_type": "code",
   "execution_count": 106,
   "id": "138d9427",
   "metadata": {},
   "outputs": [],
   "source": [
    "# Calculate Root Mean Squared Error on train and test data\n",
    "rmse_train_ridge = np.sqrt(mse_train_ridge)\n",
    "rmse_test_ridge = np.sqrt(mse_test_ridge)\n"
   ]
  },
  {
   "cell_type": "code",
   "execution_count": 107,
   "id": "5730ac6d",
   "metadata": {},
   "outputs": [
    {
     "name": "stdout",
     "output_type": "stream",
     "text": [
      "                Model  R2_train   R2_test  RMSE_train  RMSE_test\n",
      "0  Ridge_Airbnb_Price  0.328988  0.369897   35.476966  35.627368\n"
     ]
    }
   ],
   "source": [
    "# Create DataFrame for model scores\n",
    "model_scores_df_ridge = pd.DataFrame([{'Model': 'Ridge_Airbnb_Price', 'R2_train': ridge_train_r2, 'R2_test': ridge_test_r2, \n",
    "                                       'RMSE_train': rmse_train_ridge, 'RMSE_test': rmse_test_ridge}])\n",
    "\n",
    "print(model_scores_df_ridge)"
   ]
  },
  {
   "cell_type": "code",
   "execution_count": 108,
   "id": "b0746110",
   "metadata": {},
   "outputs": [
    {
     "name": "stdout",
     "output_type": "stream",
     "text": [
      "                                              Feature  Coefficients_Price1\n",
      "0                                      accomodates_10            28.200457\n",
      "1                                      accomodates_11            38.251595\n",
      "2                                      accomodates_12            16.600318\n",
      "3                                      accomodates_14            10.177457\n",
      "4                                      accomodates_15             1.767599\n",
      "5                                      accomodates_16            56.021220\n",
      "6                                       accomodates_2             7.528906\n",
      "7                                       accomodates_3            13.583664\n",
      "8                                       accomodates_4            29.201260\n",
      "9                                       accomodates_5            21.819879\n",
      "10                                      accomodates_6            36.785710\n",
      "11                                      accomodates_7            37.187476\n",
      "12                                      accomodates_8            40.612875\n",
      "13                                      accomodates_9            25.472029\n",
      "14                                       bedrooms_2.0            23.609424\n",
      "15                                       bedrooms_3.0            35.842769\n",
      "16                                           beds_2.0           -10.691293\n",
      "17                                           beds_3.0           -16.180270\n",
      "18                      property_type_Casa particular           -31.195781\n",
      "19                               property_type_Castle            20.087176\n",
      "20           property_type_Entire condominium (condo)           -12.789237\n",
      "21                       property_type_Entire cottage            26.936187\n",
      "22                   property_type_Entire guest suite           -10.885515\n",
      "23                    property_type_Entire guesthouse           -18.252853\n",
      "24                          property_type_Entire loft             4.670471\n",
      "25                   property_type_Entire rental unit            -8.139037\n",
      "26              property_type_Entire residential home             0.055943\n",
      "27            property_type_Entire serviced apartment            59.103485\n",
      "28                     property_type_Entire townhouse             2.246634\n",
      "29                 property_type_Entire vacation home             1.924234\n",
      "30                         property_type_Entire villa            44.864686\n",
      "31                            property_type_Houseboat           -16.123203\n",
      "32                         property_type_Private room           -28.948401\n",
      "33    property_type_Private room in bed and breakfast            -3.826094\n",
      "34                 property_type_Private room in boat           -34.226467\n",
      "35      property_type_Private room in casa particular           -15.824675\n",
      "36  property_type_Private room in condominium (condo)           -19.052208\n",
      "37          property_type_Private room in guest suite            -3.644256\n",
      "38           property_type_Private room in guesthouse           -41.299740\n",
      "39                 property_type_Private room in loft            -6.445476\n",
      "40   property_type_Private room in religious building            12.861330\n",
      "41          property_type_Private room in rental unit           -24.079817\n",
      "42     property_type_Private room in residential home           -17.248884\n",
      "43   property_type_Private room in serviced apartment            60.248812\n",
      "44            property_type_Private room in townhouse           -15.448927\n",
      "45                property_type_Private room in villa            62.154316\n",
      "46                   property_type_Room in aparthotel             9.826408\n",
      "47               property_type_Room in boutique hotel             9.060446\n",
      "48                        property_type_Room in hotel            58.720214\n",
      "49     property_type_Shared room in bed and breakfast           -22.298449\n",
      "50       property_type_Shared room in casa particular           -28.611547\n",
      "51                  property_type_Shared room in loft            53.039115\n",
      "52      property_type_Shared room in residential home           -23.144867\n",
      "53                                 property_type_Tent           -14.696528\n",
      "54                           property_type_Tiny house            34.997217\n",
      "55                                 property_type_Yurt           -33.733127\n",
      "56                               room_type_Hotel room            14.965635\n",
      "57                             room_type_Private room           -16.094412\n",
      "58                              room_type_Shared room           -21.015748\n"
     ]
    }
   ],
   "source": [
    "# Retrieve coefficients from trained model and create DataFrame to store them\n",
    "coefficients_ridge = pd.DataFrame({\"Feature\": X_train.columns, \n",
    "                                   \"Coefficients_Price1\": np.transpose(pipeline_ridge.named_steps['Regression'].coef_)})\n",
    "\n",
    "print(coefficients_ridge)\n"
   ]
  },
  {
   "cell_type": "code",
   "execution_count": 109,
   "id": "c2d5bf02",
   "metadata": {},
   "outputs": [],
   "source": [
    "#Comparison of model scores of linear regression and ridge regression\n",
    "\n",
    "merged_model_scores_df = pd.concat([model_scores_df,regression_model_scores_df,tree_model_scores_df,GBM_model_scores_df, model_scores_df_ridge], ignore_index=True)"
   ]
  },
  {
   "cell_type": "code",
   "execution_count": 110,
   "id": "c1564fed",
   "metadata": {},
   "outputs": [
    {
     "data": {
      "text/html": [
       "<div>\n",
       "<style scoped>\n",
       "    .dataframe tbody tr th:only-of-type {\n",
       "        vertical-align: middle;\n",
       "    }\n",
       "\n",
       "    .dataframe tbody tr th {\n",
       "        vertical-align: top;\n",
       "    }\n",
       "\n",
       "    .dataframe thead th {\n",
       "        text-align: right;\n",
       "    }\n",
       "</style>\n",
       "<table border=\"1\" class=\"dataframe\">\n",
       "  <thead>\n",
       "    <tr style=\"text-align: right;\">\n",
       "      <th></th>\n",
       "      <th>Model</th>\n",
       "      <th>R2_train</th>\n",
       "      <th>R2_test</th>\n",
       "      <th>RMSE_train</th>\n",
       "      <th>RMSE_test</th>\n",
       "    </tr>\n",
       "  </thead>\n",
       "  <tbody>\n",
       "    <tr>\n",
       "      <th>0</th>\n",
       "      <td>OLS_Airbnb_Price</td>\n",
       "      <td>0.330440</td>\n",
       "      <td>0.369664</td>\n",
       "      <td>35.438557</td>\n",
       "      <td>35.633949</td>\n",
       "    </tr>\n",
       "    <tr>\n",
       "      <th>1</th>\n",
       "      <td>RandomForest_Airbnb_Price</td>\n",
       "      <td>0.407981</td>\n",
       "      <td>0.414902</td>\n",
       "      <td>33.323398</td>\n",
       "      <td>34.331456</td>\n",
       "    </tr>\n",
       "    <tr>\n",
       "      <th>2</th>\n",
       "      <td>DecisionTree_Airbnb_Price</td>\n",
       "      <td>0.410818</td>\n",
       "      <td>0.405099</td>\n",
       "      <td>33.243451</td>\n",
       "      <td>34.617887</td>\n",
       "    </tr>\n",
       "    <tr>\n",
       "      <th>3</th>\n",
       "      <td>XGBoost_Airbnb_Price</td>\n",
       "      <td>0.407690</td>\n",
       "      <td>0.416510</td>\n",
       "      <td>33.331576</td>\n",
       "      <td>34.284258</td>\n",
       "    </tr>\n",
       "    <tr>\n",
       "      <th>4</th>\n",
       "      <td>Ridge_Airbnb_Price</td>\n",
       "      <td>0.328988</td>\n",
       "      <td>0.369897</td>\n",
       "      <td>35.476966</td>\n",
       "      <td>35.627368</td>\n",
       "    </tr>\n",
       "  </tbody>\n",
       "</table>\n",
       "</div>"
      ],
      "text/plain": [
       "                       Model  R2_train   R2_test  RMSE_train  RMSE_test\n",
       "0           OLS_Airbnb_Price  0.330440  0.369664   35.438557  35.633949\n",
       "1  RandomForest_Airbnb_Price  0.407981  0.414902   33.323398  34.331456\n",
       "2  DecisionTree_Airbnb_Price  0.410818  0.405099   33.243451  34.617887\n",
       "3       XGBoost_Airbnb_Price  0.407690  0.416510   33.331576  34.284258\n",
       "4         Ridge_Airbnb_Price  0.328988  0.369897   35.476966  35.627368"
      ]
     },
     "execution_count": 110,
     "metadata": {},
     "output_type": "execute_result"
    }
   ],
   "source": [
    "merged_model_scores_df"
   ]
  },
  {
   "cell_type": "markdown",
   "id": "96c917d3",
   "metadata": {},
   "source": [
    "To select the model, the metrics (R-squared and Root Mean Squared Error) values are compared. The standard procedure is to select the model with high R- squared value and low RMSE value. \n",
    "\n",
    "If the above practice is followed, Decision Tree Regression has the highest R-squared and lowest RMSE value. But it seems to overfit more on training data compared to others and it could potentially limit its performance on unseen data.\n",
    "\n",
    "But Linear regression (OLS) is the model providing us the coefficients which help us to predict the price directly. For selecting the best model, it's essential to consider the context of the problem and the specific requirements of the application. Considering these two important factors, Linear Regression model is selected.\n"
   ]
  },
  {
   "cell_type": "code",
   "execution_count": null,
   "id": "96e62190",
   "metadata": {},
   "outputs": [],
   "source": []
  }
 ],
 "metadata": {
  "kernelspec": {
   "display_name": "Python 3 (ipykernel)",
   "language": "python",
   "name": "python3"
  },
  "language_info": {
   "codemirror_mode": {
    "name": "ipython",
    "version": 3
   },
   "file_extension": ".py",
   "mimetype": "text/x-python",
   "name": "python",
   "nbconvert_exporter": "python",
   "pygments_lexer": "ipython3",
   "version": "3.10.9"
  }
 },
 "nbformat": 4,
 "nbformat_minor": 5
}
